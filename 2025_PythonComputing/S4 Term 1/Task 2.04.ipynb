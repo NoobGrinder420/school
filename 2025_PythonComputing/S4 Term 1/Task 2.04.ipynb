{
 "cells": [
  {
   "cell_type": "code",
   "execution_count": 150,
   "id": "699cf2ee-57bd-484d-a782-1278f7e121b3",
   "metadata": {},
   "outputs": [],
   "source": [
    "#remove leading 0's at start of string\n",
    "def n0(string: str) -> str:\n",
    "    for i, b in enumerate(string):\n",
    "        #print(i, b)\n",
    "        if b != '0':\n",
    "            return str(string[i::]);\n",
    "        if i == len(string)-1: return 0;\n",
    "    \n",
    "    return None;"
   ]
  },
  {
   "cell_type": "markdown",
   "id": "a7bb8272-0d78-4def-bc18-2b2ac7d8925a",
   "metadata": {},
   "source": [
    "<b><title>1) Hexadecimal to Binary</title></b>"
   ]
  },
  {
   "cell_type": "code",
   "execution_count": 151,
   "id": "9bf70fe6-a50d-4e24-ae3b-3d2301ce204d",
   "metadata": {},
   "outputs": [
    {
     "name": "stdout",
     "output_type": "stream",
     "text": [
      "None\n"
     ]
    }
   ],
   "source": [
    "#hex to bin using ascii using map/dict\n",
    "\n",
    "def htb(hexadecimal: str) -> str:\n",
    "    binary = \"\"\n",
    "    htb_dict = {\n",
    "        \"0\": \"0000\",\n",
    "        \"1\": \"0001\",\n",
    "        \"2\": \"0010\",\n",
    "        \"3\": \"0011\",\n",
    "        \"4\": \"0100\",\n",
    "        \"5\": \"0101\",\n",
    "        \"6\": \"0110\",\n",
    "        \"7\": \"0111\",\n",
    "        \"8\": \"1000\",\n",
    "        \"9\": \"1001\",\n",
    "        \"A\": \"1010\",\n",
    "        \"B\": \"1011\",\n",
    "        \"C\": \"1100\",\n",
    "        \"D\": \"1101\",\n",
    "        \"E\": \"1110\",\n",
    "        \"F\": \"1111\"\n",
    "    }\n",
    "\n",
    "    for h in hexadecimal:\n",
    "        if('0' <= h <= '9' or (h.isalpha() and 'A' <= h.upper() <= 'F')):\n",
    "            binary += htb_dict[h] if h.isdigit() else htb_dict[h.upper()];\n",
    "            \n",
    "        else: raise TypeError(f\"invalid hex char: {h}\")\n",
    "        \n",
    "    return n0(binary);\n",
    "\n",
    "print(htb(\"\"));"
   ]
  },
  {
   "cell_type": "code",
   "execution_count": 152,
   "id": "1c2d1f29-a6e7-4fe9-b117-7201d4dd04c1",
   "metadata": {},
   "outputs": [
    {
     "name": "stdout",
     "output_type": "stream",
     "text": [
      "None\n"
     ]
    }
   ],
   "source": [
    "#hex to bin using ascii\n",
    "\n",
    "def h2b(hexadecimal: str) -> str:\n",
    "    binary = \"\";\n",
    "\n",
    "    #Hexadecimal to decimal\n",
    "    for h in hexadecimal:\n",
    "        if '0' <= h <= '9':\n",
    "            decimal = ord(h) - ord('0')\n",
    "        elif 'A' <= h.upper() <= 'F':\n",
    "            decimal = ord(h.upper()) - ord('A') + 10\n",
    "            \n",
    "        else: raise TypeError(f\"invalid hex char: {h}\")\n",
    "\n",
    "        #divide by 2 method\n",
    "        binSegment = \"\"\n",
    "        for _ in range(4): #16 = 2^4\n",
    "            binSegment = str(decimal % 2) + binSegment  #push remainder to front of binSegment\n",
    "            decimal //= 2  #get quotient for next itr\n",
    "\n",
    "        binary += binSegment\n",
    "        start = 0\n",
    "        \n",
    "        \n",
    "    return n0(binary);\n",
    "\n",
    "print(h2b(\"\"))"
   ]
  },
  {
   "cell_type": "markdown",
   "id": "53e474b8-4b8b-4507-8285-ee32926038a1",
   "metadata": {},
   "source": [
    "<b><title>Binary to hexadecimal</title></b>"
   ]
  },
  {
   "cell_type": "code",
   "execution_count": 153,
   "id": "7c994440-2049-4ee0-aee7-a0b248a4515b",
   "metadata": {},
   "outputs": [
    {
     "name": "stdout",
     "output_type": "stream",
     "text": [
      "None\n"
     ]
    }
   ],
   "source": [
    "#bin to hex w/o ascii (using map/dict)\n",
    "\n",
    "def bth(binary: str) -> str:\n",
    "    binary = binary.replace(\" \", \"\")\n",
    "    binary.lstrip(\"0\")\n",
    "    binary = (((4-(len(binary)%4)) if (len(binary)%4)!=0 else 0) *\"0\") + binary #adds leading 0s\n",
    "    \n",
    "    hexadecimal = \"\"\n",
    "    \n",
    "    bth_dict = dict((v,k) for k,v in {\n",
    "        \"0\": \"0000\",\n",
    "        \"1\": \"0001\",\n",
    "        \"2\": \"0010\",\n",
    "        \"3\": \"0011\",\n",
    "        \"4\": \"0100\",\n",
    "        \"5\": \"0101\",\n",
    "        \"6\": \"0110\",\n",
    "        \"7\": \"0111\",\n",
    "        \"8\": \"1000\",\n",
    "        \"9\": \"1001\",\n",
    "        \"A\": \"1010\",\n",
    "        \"B\": \"1011\",\n",
    "        \"C\": \"1100\",\n",
    "        \"D\": \"1101\",\n",
    "        \"E\": \"1110\",\n",
    "        \"F\": \"1111\"\n",
    "    }.items())\n",
    "\n",
    "    for i in range(0, len(binary)-3,4):\n",
    "        hexadecimal += bth_dict[binary[i:i+4:]]\n",
    "        \n",
    "    return n0(hexadecimal)\n",
    "\n",
    "print(bth(\"\"))\n"
   ]
  },
  {
   "cell_type": "code",
   "execution_count": 154,
   "id": "c2f2a47b-0a6c-4765-9a6b-61b0350663ae",
   "metadata": {},
   "outputs": [
    {
     "name": "stdout",
     "output_type": "stream",
     "text": [
      "None\n"
     ]
    }
   ],
   "source": [
    "#bin to hex using ascii\n",
    "\n",
    "def b2h(binary: str) -> str:\n",
    "    binary = binary.replace(\" \", \"\")\n",
    "    binary.lstrip(\"0\")\n",
    "    binary = (((4-(len(binary)%4)) if (len(binary)%4)!=0 else 0) *\"0\") + binary #adds leading 0s\n",
    "    res = \"\"\n",
    "    \n",
    "    for j in range(0, len(binary)-3, 4):\n",
    "        b = binary[j:j+4]\n",
    "        decimal = 0\n",
    "        for i, bit in enumerate(reversed(b)):\n",
    "            if bit == '1':\n",
    "                decimal += (2 ** i)\n",
    "\n",
    "        if decimal < 10:\n",
    "            res += str(decimal)\n",
    "        else:\n",
    "            res += chr(decimal - 10 + ord('A'))\n",
    "\n",
    "    return n0(res)\n",
    "\n",
    "print(b2h(\"\"))\n"
   ]
  },
  {
   "cell_type": "markdown",
   "id": "4760da6f-2597-4c74-a0ee-a0354b74023c",
   "metadata": {},
   "source": [
    "<b><title>3) Binary to Denary</title></b>"
   ]
  },
  {
   "cell_type": "code",
   "execution_count": 198,
   "id": "fe7c38d6-fe5b-457d-911b-473ddfcbbd2e",
   "metadata": {},
   "outputs": [
    {
     "name": "stdout",
     "output_type": "stream",
     "text": [
      "54\n"
     ]
    }
   ],
   "source": [
    "def btd(binary: str) -> str:\n",
    "    binary = binary.replace(\" \", \"\")\n",
    "    binary.lstrip(\"0\")\n",
    "    \n",
    "    denary = 0\n",
    "    for i in range(len(binary)):\n",
    "        denary += (2**i if binary[len(binary)-1-i] == '1' else 0)\n",
    "\n",
    "    return n0(str(denary))\n",
    "\n",
    "print(btd(\"110110\"))"
   ]
  },
  {
   "cell_type": "markdown",
   "id": "8cfb1bf6-511e-41aa-816b-c00363cc1e3a",
   "metadata": {},
   "source": [
    "<b><title>4) Hexadecimal to Denary</title></b>"
   ]
  },
  {
   "cell_type": "code",
   "execution_count": 156,
   "id": "cac5ad52-e84e-4cec-a963-c1fb3ba3e598",
   "metadata": {},
   "outputs": [
    {
     "name": "stdout",
     "output_type": "stream",
     "text": [
      "0\n"
     ]
    }
   ],
   "source": [
    "#hex to bin to den (htb + btd)\n",
    "def lazy_htd(hexadecimal: str) -> int:\n",
    "    denary = btd(str(htb(hexadecimal)))\n",
    "    return denary\n",
    "\n",
    "print(lazy_htd(\"\"))"
   ]
  },
  {
   "cell_type": "code",
   "execution_count": 157,
   "id": "097a5178-f85f-4cdb-9657-7aaad3089483",
   "metadata": {},
   "outputs": [
    {
     "name": "stdout",
     "output_type": "stream",
     "text": [
      "0\n"
     ]
    }
   ],
   "source": [
    "#hexadecimal to denary using ascii \n",
    "\n",
    "def htd(hexadecimal: str) -> str:\n",
    "    hexadecimal.lstrip('0')\n",
    "    hexadecimal = hexadecimal.upper();\n",
    "\n",
    "    denary = 0\n",
    "    for i in range(len(hexadecimal)):\n",
    "        char = hexadecimal[len(hexadecimal)-1-i]\n",
    "\n",
    "        if '0' <= char <= '9':\n",
    "            denary += (ord(char) - ord('0'))*(16**i)\n",
    "        elif 'A' <= char <= 'F':\n",
    "            denary += (ord(char) - ord('A') + 10)*(16**i)\n",
    "            \n",
    "        else: raise TypeError(f\"invalid hex char: {char}\")\n",
    "\n",
    "    return n0(str(denary))\n",
    "\n",
    "print(htd(\"\"))     "
   ]
  },
  {
   "cell_type": "markdown",
   "id": "d022753e-4f29-4011-a314-0de4a60c4ac0",
   "metadata": {},
   "source": [
    "<b><title>5a) Denary to Binary using repeated division by 2</title></b>"
   ]
  },
  {
   "cell_type": "code",
   "execution_count": 200,
   "id": "5899def9-a12b-4f12-aa9c-fe334c7f4271",
   "metadata": {
    "editable": true,
    "slideshow": {
     "slide_type": ""
    },
    "tags": []
   },
   "outputs": [
    {
     "name": "stdout",
     "output_type": "stream",
     "text": [
      "1100100\n"
     ]
    }
   ],
   "source": [
    "#denary to binary using repeated division by 2\n",
    "\n",
    "def dtb(denary: int) -> str:\n",
    "    binary = \"\"\n",
    "    while denary > 0:\n",
    "        binary = str(denary % 2) + binary  #push remainder to front of binary string\n",
    "        denary //= 2  #get quotient for next itr\n",
    "            \n",
    "    return n0(binary);\n",
    "\n",
    "print(dtb(100))"
   ]
  },
  {
   "cell_type": "markdown",
   "id": "37ddf944-16ee-4438-9527-aa7da49ef352",
   "metadata": {
    "editable": true,
    "slideshow": {
     "slide_type": ""
    },
    "tags": []
   },
   "source": [
    "<b><title>5b) Denary to Binary using sum of place values method</title></b>"
   ]
  },
  {
   "cell_type": "code",
   "execution_count": 159,
   "id": "18a0c04a-29c7-46e7-801c-699c6b6bb50c",
   "metadata": {},
   "outputs": [
    {
     "name": "stdout",
     "output_type": "stream",
     "text": [
      "0\n"
     ]
    }
   ],
   "source": [
    "#denary to binary using sum of place values method\n",
    "\n",
    "def d2b(denary: int) -> str:\n",
    "    c = 0\n",
    "    x = -1\n",
    "    powerTwo = []\n",
    "    while x <= denary:\n",
    "        powerTwo = [2**c] + powerTwo #descending powers of 2\n",
    "        c+=1\n",
    "        x = 2**c\n",
    "\n",
    "    binary = \"\"\n",
    "    for p in powerTwo:\n",
    "        if p <= denary:\n",
    "            denary -= p\n",
    "            binary += \"1\"\n",
    "        else:\n",
    "            binary += \"0\"\n",
    "\n",
    "        if p == 0: break\n",
    "    \n",
    "    return n0(binary)\n",
    "        \n",
    "    \n",
    "print(d2b(0))"
   ]
  },
  {
   "cell_type": "markdown",
   "id": "b9c828df-46d6-487a-bbd5-f8eb9bd419dc",
   "metadata": {},
   "source": [
    "<b><title>6a) Denary to Haxadecimal using repeated division by 16</title></b>"
   ]
  },
  {
   "cell_type": "code",
   "execution_count": 160,
   "id": "4e910e13-0c84-40ab-899b-61096dcbb217",
   "metadata": {},
   "outputs": [
    {
     "name": "stdout",
     "output_type": "stream",
     "text": [
      "None\n"
     ]
    }
   ],
   "source": [
    "#can use maps but too lazy, just using ascii for this\n",
    "\n",
    "def dth(denary: int) -> str:\n",
    "    hexadecimal = \"\"\n",
    "    while denary > 0:\n",
    "        hexadecimal = (str(denary%16) if denary%16 < 10 else chr((denary%16) - 10 + ord('A'))) + hexadecimal \n",
    "        denary //= 16\n",
    "        \n",
    "    return n0(hexadecimal)\n",
    "\n",
    "print(dth(0))"
   ]
  },
  {
   "cell_type": "markdown",
   "id": "1d459675-20b3-4bbd-a582-68867ad9e366",
   "metadata": {},
   "source": [
    "<b><title>6b) Denary to Haxadecimal using sum of place values method</title></b>"
   ]
  },
  {
   "cell_type": "code",
   "execution_count": 161,
   "id": "0212f153-a296-4cae-a120-9abb10113e93",
   "metadata": {},
   "outputs": [
    {
     "name": "stdout",
     "output_type": "stream",
     "text": [
      "None\n"
     ]
    }
   ],
   "source": [
    "def d2h(denary: int) -> str:\n",
    "    hexadecimal = \"\"\n",
    "    x, c = -1, -1\n",
    "    while x <= denary:\n",
    "        c+=1\n",
    "        x = 16**c\n",
    "\n",
    "    while denary > 0:\n",
    "        if x < denary:\n",
    "            # print(denary, (denary//x), \" ascii: \", (denary//x) - 10 + ord('A'), chr((denary//x) - 10 + ord('A')))\n",
    "            hexadecimal += (str(denary//x) if denary//x < 10 else chr((denary//x) - 10 + ord('A')))\n",
    "            denary = denary%x\n",
    "\n",
    "        else: hexadecimal += \"0\"\n",
    "        c -= 1\n",
    "        x = 16**c\n",
    "\n",
    "    return n0(hexadecimal)\n",
    "\n",
    "print(d2h(0))"
   ]
  },
  {
   "cell_type": "markdown",
   "id": "51e0985d-e0aa-4b19-9028-417512442b7b",
   "metadata": {},
   "source": [
    "<b><title>Bonus task: Generalise repeated division method</title></b>"
   ]
  },
  {
   "cell_type": "code",
   "execution_count": 203,
   "id": "c8fe0e6f-b657-47d6-8559-76bfdebb13f0",
   "metadata": {},
   "outputs": [
    {
     "name": "stdout",
     "output_type": "stream",
     "text": [
      "378\n"
     ]
    }
   ],
   "source": [
    "# convert denary to any specified base using repeated division\n",
    "\n",
    "def denconverter(denary: int, base_x: int = None) -> str:\n",
    "    if not base_x: base_x = 2 #sets default to binary\n",
    "        \n",
    "    base_x_value = \"\"\n",
    "    while denary > 0:\n",
    "        base_x_value = (str(denary%base_x) if denary%base_x < 10 else chr((denary%base_x) - 10 + ord('A'))) + base_x_value \n",
    "        denary //= base_x\n",
    "        \n",
    "    return n0(base_x_value)\n",
    "\n",
    "print(denconverter(888, 16))"
   ]
  },
  {
   "cell_type": "code",
   "execution_count": 201,
   "id": "1ee6426b-fae6-4c2e-9067-85393423b881",
   "metadata": {},
   "outputs": [
    {
     "name": "stdin",
     "output_type": "stream",
     "text": [
      " 0100 0100\n"
     ]
    },
    {
     "name": "stdout",
     "output_type": "stream",
     "text": [
      "68\n"
     ]
    },
    {
     "name": "stdin",
     "output_type": "stream",
     "text": [
      "  0100 0001\n"
     ]
    },
    {
     "name": "stdout",
     "output_type": "stream",
     "text": [
      "65\n"
     ]
    },
    {
     "name": "stdin",
     "output_type": "stream",
     "text": [
      " 0101 0010\n"
     ]
    },
    {
     "name": "stdout",
     "output_type": "stream",
     "text": [
      "82\n"
     ]
    },
    {
     "name": "stdin",
     "output_type": "stream",
     "text": [
      "  0100 0101\n"
     ]
    },
    {
     "name": "stdout",
     "output_type": "stream",
     "text": [
      "69\n"
     ]
    },
    {
     "name": "stdin",
     "output_type": "stream",
     "text": [
      "  0100 1101\n"
     ]
    },
    {
     "name": "stdout",
     "output_type": "stream",
     "text": [
      "77\n"
     ]
    },
    {
     "name": "stdin",
     "output_type": "stream",
     "text": [
      " 0100 1001\n"
     ]
    },
    {
     "name": "stdout",
     "output_type": "stream",
     "text": [
      "73\n"
     ]
    },
    {
     "name": "stdin",
     "output_type": "stream",
     "text": [
      "  0100 0111\n"
     ]
    },
    {
     "name": "stdout",
     "output_type": "stream",
     "text": [
      "71\n"
     ]
    },
    {
     "name": "stdin",
     "output_type": "stream",
     "text": [
      "  0100 1000\n"
     ]
    },
    {
     "name": "stdout",
     "output_type": "stream",
     "text": [
      "72\n"
     ]
    },
    {
     "name": "stdin",
     "output_type": "stream",
     "text": [
      "  0101 0100\n"
     ]
    },
    {
     "name": "stdout",
     "output_type": "stream",
     "text": [
      "84\n"
     ]
    },
    {
     "name": "stdin",
     "output_type": "stream",
     "text": [
      "  0101 1001\n"
     ]
    },
    {
     "name": "stdout",
     "output_type": "stream",
     "text": [
      "89\n"
     ]
    },
    {
     "name": "stdin",
     "output_type": "stream",
     "text": [
      "  0101 0100\n"
     ]
    },
    {
     "name": "stdout",
     "output_type": "stream",
     "text": [
      "84\n"
     ]
    },
    {
     "name": "stdin",
     "output_type": "stream",
     "text": [
      "  0100 1000\n"
     ]
    },
    {
     "name": "stdout",
     "output_type": "stream",
     "text": [
      "72\n"
     ]
    },
    {
     "name": "stdin",
     "output_type": "stream",
     "text": [
      "  0100 1001\n"
     ]
    },
    {
     "name": "stdout",
     "output_type": "stream",
     "text": [
      "73\n"
     ]
    },
    {
     "name": "stdin",
     "output_type": "stream",
     "text": [
      "  0100 1110\n"
     ]
    },
    {
     "name": "stdout",
     "output_type": "stream",
     "text": [
      "78\n"
     ]
    },
    {
     "name": "stdin",
     "output_type": "stream",
     "text": [
      " 0100 0111\n"
     ]
    },
    {
     "name": "stdout",
     "output_type": "stream",
     "text": [
      "71\n"
     ]
    },
    {
     "name": "stdin",
     "output_type": "stream",
     "text": [
      "  0101 0011\n"
     ]
    },
    {
     "name": "stdout",
     "output_type": "stream",
     "text": [
      "83\n"
     ]
    },
    {
     "name": "stdin",
     "output_type": "stream",
     "text": [
      " e\n"
     ]
    },
    {
     "name": "stdout",
     "output_type": "stream",
     "text": [
      "DAREMIGHTYTHINGS\n"
     ]
    }
   ],
   "source": [
    "#google forms solution\n",
    "\n",
    "res = \"\"\n",
    "while True:\n",
    "    x = input()\n",
    "    if x == \"e\":\n",
    "        break\n",
    "    y = int(x.replace(' ', ''), 2)\n",
    "    print(y)\n",
    "    res += chr(y)\n",
    "\n",
    "print(res)\n",
    "    "
   ]
  },
  {
   "cell_type": "code",
   "execution_count": 211,
   "id": "add27bfa-f8d9-48b3-8b5d-e80edbf2fd12",
   "metadata": {},
   "outputs": [
    {
     "name": "stdout",
     "output_type": "stream",
     "text": [
      "107C\n"
     ]
    }
   ],
   "source": [
    "print(dth(4220))"
   ]
  },
  {
   "cell_type": "code",
   "execution_count": null,
   "id": "2ac7d494-e846-46a5-887a-5fe8fc472934",
   "metadata": {},
   "outputs": [],
   "source": []
  }
 ],
 "metadata": {
  "kernelspec": {
   "display_name": "Python 3 (ipykernel)",
   "language": "python",
   "name": "python3"
  },
  "language_info": {
   "codemirror_mode": {
    "name": "ipython",
    "version": 3
   },
   "file_extension": ".py",
   "mimetype": "text/x-python",
   "name": "python",
   "nbconvert_exporter": "python",
   "pygments_lexer": "ipython3",
   "version": "3.8.18"
  }
 },
 "nbformat": 4,
 "nbformat_minor": 5
}
