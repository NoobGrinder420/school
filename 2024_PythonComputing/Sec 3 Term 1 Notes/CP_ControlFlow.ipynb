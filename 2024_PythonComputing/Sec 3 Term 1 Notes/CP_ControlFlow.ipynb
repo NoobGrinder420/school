{
 "cells": [
  {
   "attachments": {},
   "cell_type": "markdown",
   "id": "9df959d2-c1b1-4168-97f2-3217f28e1786",
   "metadata": {
    "editable": true,
    "slideshow": {
     "slide_type": ""
    },
    "tags": []
   },
   "source": [
    "## 4.14 Control Flow\n",
    "Control flow refers to the order in which the instructions of a program are run."
   ]
  },
  {
   "cell_type": "markdown",
   "id": "e0c4682b-202c-492a-a232-77d974b3bfee",
   "metadata": {
    "jp-MarkdownHeadingCollapsed": true
   },
   "source": [
    "### 4.14.3 if-elif-else\n",
    "The if statement is used for conditional execution:\n",
    "\n",
    "It selects exactly one of the suites by evaluating the expressions one by one until one is found to be true then that suite is executed (and no other part of the if statement is executed or evaluated). If all expressions are false, the suite of the else clause, if present, is executed.\n",
    "\n",
    "#### if-elif-else Syntax\n",
    "`if condition_1:`  \n",
    "`    # commands when condition_1 is true`  \n",
    "`    # condition_1 suite`  \n",
    "`elif condition_2:`  \n",
    "`    # commands when condition_2 is true`  \n",
    "`    # condition_2 suite`  \n",
    "`else:`  \n",
    "`    # commands when condition_1 is false and condition_2 is false`  \n",
    "`    # else suite`  \n",
    "\n",
    "*There can be zero or more `elif` parts, and the `else` part is optional.*  \n",
    "The keyword ‘elif’ is short for ‘else if’.\n"
   ]
  },
  {
   "cell_type": "code",
   "execution_count": null,
   "id": "251bd1d0-9f43-4335-8701-4ca2b6727af1",
   "metadata": {},
   "outputs": [],
   "source": [
    "# if-elif-else example\n",
    "# Python uses indentation (the number of spaces at the start of each line) to determine \n",
    "# which lines of code belong to the same suite. \n",
    "x = int(input(\"Please enter an integer: \"))\n",
    "if x < 0:\n",
    "    x = 0                              # both lines are indented thus\n",
    "    print('Negative changed to zero')  # they belongs to the x < 0 suite\n",
    "elif x == 0:\n",
    "    print('Zero')\n",
    "elif x == 1:\n",
    "    print('Single')\n",
    "else:\n",
    "    print('More')\n"
   ]
  },
  {
   "cell_type": "markdown",
   "id": "2dda3d21-73ac-455d-ad09-688e215d7a54",
   "metadata": {},
   "source": [
    "### Loops  \n",
    "\n",
    "**Loops: Instructions that are repeated until a condition is met.**  \n",
    "\n",
    "\n",
    "### 4.14.4 while Loops  \n",
    "The while statement is used for repeated execution as long as an expression is true:\n",
    "\n",
    "The while loop repeatedly tests the expression and, if it is true, executes the first suite; if the expression is false (which may be the first time it is tested) the suite of the else clause, if present, is executed and the loop terminates.\n",
    "\n",
    "#### while Syntax  \n",
    "`while condition:`  \n",
    "`    # commands when condition is true`  \n",
    "`    # first suite`  \n",
    "`else:`  \n",
    "`    # commands when condition is false`  \n",
    "`    # else suite; this suite is optional`  "
   ]
  },
  {
   "cell_type": "code",
   "execution_count": null,
   "id": "fbc94512-5d40-4f3d-b957-9b9b3485301a",
   "metadata": {},
   "outputs": [],
   "source": [
    "# while loop example\n",
    "n = 5\n",
    "print(\"Counting down...\")\n",
    "while n > 0:\n",
    "    print(n, \"...\")\n",
    "    n -= 1\n",
    "else:\n",
    "    print(\"Boom!!!!!\")\n"
   ]
  },
  {
   "cell_type": "markdown",
   "id": "8123b6fe-693c-471c-a47c-66ba6ff20d5a",
   "metadata": {},
   "source": [
    "#### Dangers of while Loops\n",
    "1. If the variable for the condition is not properly initiated, then the loop may not start.  \n",
    "`n = 0`  \n",
    "`while n > 0:`  \n",
    "`    print(n)`    \n",
    "`    n = n + 1`\n",
    "\n",
    "2. If the variable for the condition is not changed throughout, then the loop may not end!  \n",
    "`n = 10`  \n",
    "`while n > 0:`  \n",
    "`    print(n)`  \n",
    "*It is the responsibility of the programmer to ensure that the condition can eventually be false within the first suite.*\n",
    "\n"
   ]
  },
  {
   "cell_type": "markdown",
   "id": "33cb0309-181e-49de-881d-5e1ac17842ea",
   "metadata": {},
   "source": [
    "### 4.14.5 for-in Loops\n",
    "The for-in statement is used to iterate over the elements of a sequence (such as a string, tuple or list) or a range.\n",
    "\n",
    "#### for-in Syntax\n",
    "`for item in sequence:`  \n",
    "`    # commands to repeat for each item in the sequence`  \n",
    "\n"
   ]
  },
  {
   "cell_type": "code",
   "execution_count": null,
   "id": "6c0ba93f-e43e-4843-9f45-e898529ace23",
   "metadata": {},
   "outputs": [],
   "source": [
    "# for-in examples\n",
    "\n",
    "# range()\n",
    "for i in range(20):\n",
    "    print(i, end=\" \")\n",
    "print(\"\\n\")\n",
    "\n",
    "# list\n",
    "words = [\"SST\", \"Computing\", \"Plus\"]\n",
    "for word in words:\n",
    "    print(word, len(word))\n",
    "print(\"\\n\")\n",
    "\n",
    "# string\n",
    "phrase = \"SST Computing Plus\"\n",
    "for char in phrase:\n",
    "    print(char, end=\" ~ \")\n"
   ]
  },
  {
   "cell_type": "markdown",
   "id": "29da0bfc-2d8d-4a81-af2d-0a06633cd5fd",
   "metadata": {},
   "source": [
    "### Exercise Question 1\n",
    "Write a program to allow user to do the following:  \n",
    "1. continously input integer one at a time, until a zero value is inputted.\n",
    "2. display the number count of even numbers\n",
    "3. display the average value of all negative numbers\n"
   ]
  },
  {
   "cell_type": "code",
   "execution_count": null,
   "id": "c32b8180-56dc-4c7e-92f0-04f4f7ef0639",
   "metadata": {},
   "outputs": [],
   "source": [
    "# Exercise Question 1"
   ]
  },
  {
   "cell_type": "code",
   "execution_count": 11,
   "id": "44d221fb-83c4-4110-be7e-c468214e9185",
   "metadata": {},
   "outputs": [
    {
     "name": "stdin",
     "output_type": "stream",
     "text": [
      " 2\n",
      " 2\n",
      " 0\n"
     ]
    },
    {
     "name": "stdout",
     "output_type": "stream",
     "text": [
      "2\n",
      "[]\n"
     ]
    }
   ],
   "source": [
    "even = []\n",
    "neg = []\n",
    "while True:\n",
    "    tru = int(input())\n",
    "    if tru < 0:\n",
    "        neg.append(tru)\n",
    "    if tru%2 == 0 and tru!=0:\n",
    "        even.append(tru)\n",
    "    if tru == 0:\n",
    "        break\n",
    "print(len(even))\n",
    "print(neg)\n"
   ]
  },
  {
   "cell_type": "code",
   "execution_count": null,
   "id": "64ffeb67-4fad-4aec-8c95-25bd5b9d8ad7",
   "metadata": {},
   "outputs": [],
   "source": []
  }
 ],
 "metadata": {
  "kernelspec": {
   "display_name": "Python 3 (ipykernel)",
   "language": "python",
   "name": "python3"
  },
  "language_info": {
   "codemirror_mode": {
    "name": "ipython",
    "version": 3
   },
   "file_extension": ".py",
   "mimetype": "text/x-python",
   "name": "python",
   "nbconvert_exporter": "python",
   "pygments_lexer": "ipython3",
   "version": "3.8.18"
  }
 },
 "nbformat": 4,
 "nbformat_minor": 5
}
