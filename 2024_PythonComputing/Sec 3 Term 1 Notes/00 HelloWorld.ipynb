{
 "cells": [
  {
   "cell_type": "code",
   "execution_count": 3,
   "id": "6b381f86-adf3-4066-a915-ab7a3fe44571",
   "metadata": {},
   "outputs": [
    {
     "name": "stdout",
     "output_type": "stream",
     "text": [
      "25\n"
     ]
    }
   ],
   "source": [
    "a = 10\n",
    "b = 15\n",
    "print(a+b)\n",
    "\n"
   ]
  },
  {
   "cell_type": "markdown",
   "id": "cd2e399b-4fa1-416a-a84e-3f82f43a3a29",
   "metadata": {},
   "source": [
    "# Header 1\n",
    "## Header 2\n",
    "### Header 3\n",
    "#### Header 4\n",
    "This is *italic*\n",
    "This is **bold**\n",
    "This is ***both***\n",
    "\n",
    "$$\\sqrt{(n+1)}$$\n"
   ]
  },
  {
   "cell_type": "markdown",
   "id": "09e2875c-b063-47bd-b2e6-cbc89e9d746b",
   "metadata": {},
   "source": [
    "https://www.markdownguide.org/basic-syntax/"
   ]
  },
  {
   "cell_type": "code",
   "execution_count": null,
   "id": "95c0ffc6-a61b-4c8f-9064-4839ba5c9844",
   "metadata": {},
   "outputs": [],
   "source": []
  }
 ],
 "metadata": {
  "kernelspec": {
   "display_name": "Python 3 (ipykernel)",
   "language": "python",
   "name": "python3"
  },
  "language_info": {
   "codemirror_mode": {
    "name": "ipython",
    "version": 3
   },
   "file_extension": ".py",
   "mimetype": "text/x-python",
   "name": "python",
   "nbconvert_exporter": "python",
   "pygments_lexer": "ipython3",
   "version": "3.8.18"
  }
 },
 "nbformat": 4,
 "nbformat_minor": 5
}
