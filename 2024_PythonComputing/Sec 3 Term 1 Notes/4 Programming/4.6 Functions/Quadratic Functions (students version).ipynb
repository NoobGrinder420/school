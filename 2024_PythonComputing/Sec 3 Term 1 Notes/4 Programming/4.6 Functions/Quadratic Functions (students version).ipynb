{
 "cells": [
  {
   "cell_type": "markdown",
   "id": "9d4b3d0b-afe0-4fde-9864-256bff40aa21",
   "metadata": {},
   "source": [
    "Let begin be creating a function to input the coefficients of a quadratic function."
   ]
  },
  {
   "cell_type": "code",
   "execution_count": null,
   "id": "13148e57-a7ba-466e-846c-8e96997480f0",
   "metadata": {},
   "outputs": [],
   "source": [
    "def get_quadratic_coefficients():\n",
    "    \"\"\"\n",
    "    Function to input coefficients of a quadratic function.\n",
    "\n",
    "    Returns:\n",
    "    a, b, c (float): Coefficients of the quadratic function ax^2 + bx + c.\n",
    "    \"\"\"\n",
    "#########################\n",
    "# Insert your code here #\n",
    "#########################\n",
    "\n",
    "# Example usage:\n",
    "a, b, c = get_quadratic_coefficients()\n",
    "print(f\"The quadratic function is: {a}x^2 + {b}x + {c}\")"
   ]
  },
  {
   "cell_type": "markdown",
   "id": "8896eb42-afe8-4d11-9425-a859b67e13f9",
   "metadata": {},
   "source": [
    "Now we write a function which identify the nature of roots using the discriminant."
   ]
  },
  {
   "cell_type": "code",
   "execution_count": 1,
   "id": "aef2546a-a25e-4744-b476-187c59572704",
   "metadata": {},
   "outputs": [
    {
     "name": "stdout",
     "output_type": "stream",
     "text": [
      "None\n"
     ]
    }
   ],
   "source": [
    "def identify_roots(a, b, c):\n",
    "    \"\"\"\n",
    "    Function to identify the nature of roots of a quadratic function ax^2 + bx + c.\n",
    "\n",
    "    Args:\n",
    "    a, b, c (float): Coefficients of the quadratic function.\n",
    "\n",
    "    Returns:\n",
    "    String indicating the nature of roots.\n",
    "    \"\"\"\n",
    "#########################\n",
    "# Insert your code here #\n",
    "#########################\n",
    "\n",
    "# Example usage:\n",
    "a, b, c = 1, -3, 2  # Replace with your coefficients\n",
    "roots_description = identify_roots(a, b, c)\n",
    "print(roots_description)\n"
   ]
  },
  {
   "cell_type": "markdown",
   "id": "1ebf14ca-516c-4db8-8fd2-005440ff08bd",
   "metadata": {},
   "source": [
    "Finally, put these functions together in a main program."
   ]
  },
  {
   "cell_type": "code",
   "execution_count": null,
   "id": "198de130-e693-4630-b9a2-327bba85bbad",
   "metadata": {},
   "outputs": [],
   "source": [
    "#########################\n",
    "# Insert your code here #\n",
    "#########################\n"
   ]
  }
 ],
 "metadata": {
  "kernelspec": {
   "display_name": "Python 3 (ipykernel)",
   "language": "python",
   "name": "python3"
  },
  "language_info": {
   "codemirror_mode": {
    "name": "ipython",
    "version": 3
   },
   "file_extension": ".py",
   "mimetype": "text/x-python",
   "name": "python",
   "nbconvert_exporter": "python",
   "pygments_lexer": "ipython3",
   "version": "3.8.18"
  }
 },
 "nbformat": 4,
 "nbformat_minor": 5
}
