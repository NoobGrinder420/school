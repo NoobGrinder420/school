{
 "cells": [
  {
   "cell_type": "markdown",
   "metadata": {
    "id": "rKM1mYny6l6R"
   },
   "source": [
    "# **About Functions**\n"
   ]
  },
  {
   "cell_type": "code",
   "execution_count": 10,
   "metadata": {
    "colab": {
     "base_uri": "https://localhost:8080/"
    },
    "executionInfo": {
     "elapsed": 328,
     "status": "ok",
     "timestamp": 1683094578892,
     "user": {
      "displayName": "Raymond Chng",
      "userId": "04921687491446233079"
     },
     "user_tz": -480
    },
    "id": "PGaG4-cXwpM0",
    "outputId": "2a743a19-6ea0-475e-bf8f-c7c00426e761"
   },
   "outputs": [
    {
     "name": "stdout",
     "output_type": "stream",
     "text": [
      "😁\n"
     ]
    }
   ],
   "source": [
    "import random\n",
    "\n",
    "# Global Variables\n",
    "my_block = \"\\U0001F601\"\n",
    "w = random.randint(2, 9) \n",
    "h = random.randint(1, 5)\n",
    "\n",
    "print(my_block) # Built-in Functions"
   ]
  },
  {
   "cell_type": "markdown",
   "metadata": {
    "id": "M9DmkEWR5fDH"
   },
   "source": [
    "---\n",
    "A **global variable** in Python is a variable that is defined outside of any function, and can be accessed and modified from anywhere in the code including within functions. Global variables are typically declared at the top of a program or module, and can be used by any function or method within that program or module.\n",
    "\n",
    "--- \n",
    "**Built-in functions** are functions that are included in the Python programming language by default. They are part of the Python Standard Library, which is a collection of modules that come with Python and provide a wide range of functionality."
   ]
  },
  {
   "cell_type": "code",
   "execution_count": 68,
   "metadata": {
    "colab": {
     "base_uri": "https://localhost:8080/"
    },
    "executionInfo": {
     "elapsed": 331,
     "status": "ok",
     "timestamp": 1683094589939,
     "user": {
      "displayName": "Raymond Chng",
      "userId": "04921687491446233079"
     },
     "user_tz": -480
    },
    "id": "K2iUs7HfCESl",
    "outputId": "8817d0d0-2349-4359-bcf5-0b7984bd1b3c"
   },
   "outputs": [
    {
     "name": "stdout",
     "output_type": "stream",
     "text": [
      "😁\n",
      "😁\n",
      "😁\n",
      "😁\n"
     ]
    }
   ],
   "source": [
    "# Function Definition\n",
    "def print_block(my_block): # my_block is the parameter\n",
    "  my_layer = \"\" # Local Variable\n",
    "  for column in range(w):\n",
    "    my_layer += my_block\n",
    "  for row in range(h):\n",
    "    print(my_layer)\n",
    "\n",
    "# Test the Function by making a Function Call\n",
    "print_block(my_block) # aaaaaaa is the argument\n"
   ]
  },
  {
   "cell_type": "markdown",
   "metadata": {
    "id": "vG6kAWyfFUsr"
   },
   "source": [
    "---\n",
    "`def` is a keyword that indicates that this is a **function definition**. \n",
    "\n",
    "**Function definition** is a way to create a function in Python. A function is a block of code that performs a specific task, and can be called from other parts of your code. Defining a function involves specifying the function name, any parameters that it takes, and the code that the function should execute.\n",
    "\n",
    "---\n",
    "A **local variable** is a variable that is defined within the scope of a function or block of code. Local variables are only accessible from within the function or block in which they are defined, and are destroyed when the function or block completes.\n",
    "\n",
    "---\n",
    "A **parameter** is a variable that is defined in the function definition and used within the function to perform some operation or computation. When you define a function, you can specify one or more parameters that will be used to pass data into the function when it is called.\n",
    "\n",
    "---\n",
    "An **argument** is a value that is passed to a function when the function is called. Arguments are used to provide input to a function so that it can perform some operation or computation based on that input.\n",
    "\n",
    "---\n",
    "A **function call** is the code used to execute a function in Python. When you call a function, you provide any necessary arguments, and the code within the function is executed."
   ]
  },
  {
   "cell_type": "code",
   "execution_count": 3,
   "metadata": {
    "colab": {
     "base_uri": "https://localhost:8080/"
    },
    "executionInfo": {
     "elapsed": 18524,
     "status": "ok",
     "timestamp": 1681958534862,
     "user": {
      "displayName": "Raymond Chng",
      "userId": "04921687491446233079"
     },
     "user_tz": -480
    },
    "id": "MXcCvOSC6iEQ",
    "outputId": "7de44935-c5d6-4987-b8e4-d12cd120fe73"
   },
   "outputs": [
    {
     "name": "stdin",
     "output_type": "stream",
     "text": [
      "Enter a new building block:  bhb\n"
     ]
    },
    {
     "name": "stdout",
     "output_type": "stream",
     "text": [
      "Please only use a SINGLE character for your building block.\n"
     ]
    },
    {
     "name": "stdin",
     "output_type": "stream",
     "text": [
      "Enter a new building block:  hi\n"
     ]
    },
    {
     "name": "stdout",
     "output_type": "stream",
     "text": [
      "Please only use a SINGLE character for your building block.\n"
     ]
    },
    {
     "name": "stdin",
     "output_type": "stream",
     "text": [
      "Enter a new building block:  h\n"
     ]
    },
    {
     "name": "stdout",
     "output_type": "stream",
     "text": [
      "h\n"
     ]
    }
   ],
   "source": [
    "def change_my_block():\n",
    "  while True:\n",
    "    user_input = input('Enter a new building block: ')\n",
    "    if len(user_input) == 1:\n",
    "      break\n",
    "    else:\n",
    "      print(\"Please only use a SINGLE character for your building block.\")\n",
    "  return user_input # The return value of this function is a Local Variable\n",
    "\n",
    "# Return value from function call is used to update the Global Variable\n",
    "my_block = change_my_block() \n",
    "\n",
    "# Test the Function\n",
    "print(my_block) "
   ]
  },
  {
   "cell_type": "markdown",
   "metadata": {
    "id": "b88yAbTA-kkB"
   },
   "source": [
    "\n",
    "---\n",
    "The function call can return a value referred to as the **return value**, which you can use in your code.\n"
   ]
  },
  {
   "cell_type": "markdown",
   "metadata": {
    "colab": {
     "base_uri": "https://localhost:8080/"
    },
    "executionInfo": {
     "elapsed": 6445,
     "status": "ok",
     "timestamp": 1681958544516,
     "user": {
      "displayName": "Raymond Chng",
      "userId": "04921687491446233079"
     },
     "user_tz": -480
    },
    "id": "pl52xdG7pqo1",
    "outputId": "77acf9dd-8fea-4fcc-beb3-15a8692167ca"
   },
   "source": [
    "##### def change_width_and_height():\n",
    "  while True: # Loop to get new width\n",
    "    new_width = input(\"Enter new width: \")\n",
    "    if new_width.isdigit() and int(new_width) > 0:\n",
    "      break\n",
    "    else:\n",
    "      print(\"Invalid entry.\")\n",
    "  while True: # Loop to get new height\n",
    "    new_height = input(\"Enter new height: \")\n",
    "    if new_height.isdigit() and int(new_height) > 0:\n",
    "      break\n",
    "    else:\n",
    "      print(\"Invalid entry.\")\n",
    "  # Returning a tuple\n",
    "  return int(new_width), int(new_height)\n",
    "\n",
    "w, h = change_width_and_height()\n",
    "\n",
    "# Test the Function\n",
    "print(w)\n",
    "print(h)"
   ]
  },
  {
   "cell_type": "markdown",
   "metadata": {
    "id": "0t8biZSfKhwF"
   },
   "source": [
    "For this program, we now have the following functions:\n",
    "- print_block(my_block, w, h)\n",
    "- change_my_block()\n",
    "- change_width_and_height()\n",
    "\n",
    "We are ready to write our main program to call these functions."
   ]
  },
  {
   "cell_type": "code",
   "execution_count": null,
   "metadata": {
    "id": "rzm2xj0j5JFc"
   },
   "outputs": [],
   "source": [
    "# Program to Print a Block of Characters\n",
    "# Prepared by Mr Raymond Chng\n",
    "# For the Purpose of Teaching the Concept of Functions\n",
    "\n",
    "# Function to show the Main Menu (Reuseable!)\n",
    "def show_menu():\n",
    "  print(\"(1) Print Block\")\n",
    "  print(\"(2) Change Building Block\")\n",
    "  print(\"(3) Change Size of Block\")\n",
    "  print(\"(4) Quit\")\n",
    "\n",
    "import random\n",
    "\n",
    "# Global Variables\n",
    "my_block = \"\\U0001F601\"\n",
    "w = random.randint(1, 9) \n",
    "h = random.randint(1, 5)\n",
    "choice = \"\"\n",
    "\n",
    "# Calling the first function of the program\n",
    "show_menu()\n",
    "\n",
    "# Accept Only Valid Entries\n",
    "allowed = ['1', '2', '3', '4']\n",
    "while not choice in allowed: \n",
    "  choice = input(\"Enter Choice: \")\n",
    "  \n",
    "  # Calling the Functions\n",
    "  if choice == '1':\n",
    "    print_block(my_block) # Call\n",
    "    choice = \"\"\n",
    "  elif choice == '2':\n",
    "    my_block = change_my_block() # Call\n",
    "    choice = \"\"\n",
    "  elif choice == '3':\n",
    "    w, h = change_width_and_height() # Call\n",
    "    choice = \"\"\n",
    "  elif choice == '4':\n",
    "    print(\"Bye\")\n",
    "    break\n",
    "  else:\n",
    "    show_menu() # Call used function again\n"
   ]
  },
  {
   "cell_type": "markdown",
   "metadata": {
    "id": "Z_HE1uP1e2hi",
    "jp-MarkdownHeadingCollapsed": true
   },
   "source": [
    "# Glossary\n",
    "\n",
    "**argument**\n",
    "\n",
    "- Additional value that can be supplied as input to a function call.\n",
    "\n",
    "**body** \n",
    "\n",
    "- The sequence of statements inside a function definition.\n",
    "\n",
    "**built-in function**\n",
    "\n",
    "- Function provided pre-packaged with the programming language.\n",
    "\n",
    "**composition**\n",
    "\n",
    "- Using an expression as part of a larger expression, or a statement as part of a larger statement. \n",
    "\n",
    "**flow of execution**\n",
    "\n",
    "- The order in which statements are executed during a program run.\n",
    "\n",
    "**function**\n",
    "\n",
    "- Set of instructions assigned to a name that can be used again later.\n",
    "\n",
    "**function call**\n",
    "\n",
    "- Process of assigning arguments to new variables and running the instructions assigned to a function,\n",
    "\n",
    "**function definition**\n",
    "\n",
    "- A statement that creates a new function, specifying its name, parameters, and the statements it executes.\n",
    "\n",
    "**function object**\n",
    "\n",
    "- A value created by a function definition. The name of the function is a variable that refers to a function object. \n",
    "\n",
    "**Local variable**\n",
    "\n",
    "- Variable that is created inside a UDF and can only be used in the UDF’s body.\n",
    "\n",
    "**global variable**\n",
    "\n",
    "- Variable that is created outside of a UDF and is readable from the UDF’s body if its name is not hidden by a local variable.\n",
    "\n",
    "**nested function call**\n",
    "\n",
    "- Using the return value of one functional call as an argument for another function call.\n",
    "\n",
    "**local variable**\n",
    "\n",
    "- Variable that is created inside a UDF and can only be used in the UDF’s body.\n",
    "\n",
    "**parameter**\n",
    "\n",
    "- Special variable in a UDF that an argument is assigned to when the UDF is called. It is the name used inside a function to refer to the value passed as an argument.\n",
    "\n",
    "**return instruction**\n",
    "\n",
    "- Instruction that ends the function immediately and treats the original function call as the provided return value.\n",
    "\n",
    "**return value**\n",
    "\n",
    "- Output of a function, or the value that a function call is treated as, after the instructions assigned to the function are completed.\n",
    "\n",
    "**signature**\n",
    "\n",
    "- First line of a UDF that specifies the UDF’s name and its parameters.\n",
    "\n",
    "**user-defined function (UDF)**\n",
    "\n",
    "- Function provided by the user of a programming language."
   ]
  },
  {
   "cell_type": "markdown",
   "metadata": {
    "id": "Rp5tZKUoypZY",
    "jp-MarkdownHeadingCollapsed": true
   },
   "source": [
    "# Exercises"
   ]
  },
  {
   "cell_type": "markdown",
   "metadata": {
    "id": "f8Kg32ckBNsv"
   },
   "source": [
    "## Exercise 1\n",
    "\n",
    "(adapted from Textbook Quick Check 4.6 Qn 4)\n",
    "\n",
    "Write a function to with the function name `area_of_triangle` that has two parameters for the base and height of a triangle and gives the triangle's area as its return value.\n",
    "\n",
    "**Outside the function**, write two lines of code to take as input the height and the base of a triangle.\n",
    "\n",
    "Then call the function you have written and print the area of the triangle.\n",
    "\n",
    "*Sample input 0*\n",
    "\n",
    "```\n",
    "10\n",
    "8\n",
    "```\n",
    "\n",
    "*Sample output 0*\n",
    "```\n",
    "40.0\n",
    "```"
   ]
  },
  {
   "cell_type": "code",
   "execution_count": null,
   "metadata": {
    "id": "didhqA68Brjt"
   },
   "outputs": [],
   "source": [
    "# Area of Triangle"
   ]
  },
  {
   "cell_type": "markdown",
   "metadata": {
    "id": "Ih-PeLCCznbY"
   },
   "source": [
    "## Exercise 2\n",
    "\n",
    "Write a function with the function name `payday` to compute the salary of an employee. Your function should take two parameters: `hours` and `rate`, read from user input. For every hour over 40 hours that the employee works, the employee will receive 1.5 times his hourly rate.\n",
    "\n",
    "**Outside the function**, write two lines of code to take as input the hours worked and the pay rate.\n",
    "\n",
    "Then call the function you have written and print the employee's salary.\n",
    "\n",
    "*Sample input 0*\n",
    "\n",
    "```\n",
    "45\n",
    "10\n",
    "```\n",
    "\n",
    "*Sample output 0*\n",
    "```\n",
    "475.0\n",
    "```"
   ]
  },
  {
   "cell_type": "code",
   "execution_count": null,
   "metadata": {
    "id": "op4o0gqnev_o"
   },
   "outputs": [],
   "source": [
    "# Payday"
   ]
  },
  {
   "cell_type": "markdown",
   "metadata": {
    "id": "LURud9ZSez3K"
   },
   "source": [
    "## Exercise 3\n",
    "\n",
    "Write a function that takes a score between 0 and 100 inclusive as a parameter and returns his grade as a string. \n",
    "\n",
    "Use the function in a program that allows the user to input their score. \n",
    "\n",
    " Score   |   Grade\n",
    " :----------:| :-----------:\n",
    ">= 75      |   A1\n",
    "70 - 74.9  |  A2\n",
    "65 - 69.9|    B3\n",
    "60 - 64.9 | B4\n",
    "55 - 59.9 | C5\n",
    "50 - 54.9 | C6\n",
    "45-49.9 | D7\n",
    "40 - 44.9 | E8\n",
    "<40 | F9\n",
    "\n",
    "*Sample input 0*\n",
    "```\n",
    "95\n",
    "```\n",
    "\n",
    "*Sample output 0*\n",
    "```\n",
    "A1\n",
    "```\n",
    "\n",
    "*Sample input 1*\n",
    "```\n",
    "10.0\n",
    "```\n",
    "\n",
    "*Sample output 1*\n",
    "```\n",
    "F9\n",
    "```\n",
    "\n",
    "You do not need to validate the inputs, that is, you do not need to check that the input is a number, or that it is between 0 and 100 inclusive."
   ]
  },
  {
   "cell_type": "code",
   "execution_count": null,
   "metadata": {
    "id": "x8dmk6dZew77"
   },
   "outputs": [],
   "source": [
    "# Get Grade"
   ]
  }
 ],
 "metadata": {
  "colab": {
   "authorship_tag": "ABX9TyMGsEfqTFb6Pz3xcqSoMeMv",
   "provenance": []
  },
  "kernelspec": {
   "display_name": "Python 3 (ipykernel)",
   "language": "python",
   "name": "python3"
  },
  "language_info": {
   "codemirror_mode": {
    "name": "ipython",
    "version": 3
   },
   "file_extension": ".py",
   "mimetype": "text/x-python",
   "name": "python",
   "nbconvert_exporter": "python",
   "pygments_lexer": "ipython3",
   "version": "3.8.18"
  }
 },
 "nbformat": 4,
 "nbformat_minor": 4
}
