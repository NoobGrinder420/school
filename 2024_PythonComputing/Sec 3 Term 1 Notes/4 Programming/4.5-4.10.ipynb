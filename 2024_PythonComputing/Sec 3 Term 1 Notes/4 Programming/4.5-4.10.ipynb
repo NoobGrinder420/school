{
 "cells": [
  {
   "cell_type": "markdown",
   "id": "772ca9d2-41fa-409c-b9d8-4df2f1683499",
   "metadata": {},
   "source": [
    "## 4.5 Literal & Variables\n",
    "Computers are designed to store and read values quickly and reliably. To take advantage of this, we will need to learn two types of Python instructions: one for assigning values and one for reading values."
   ]
  },
  {
   "attachments": {},
   "cell_type": "markdown",
   "id": "b9faeede-345a-4623-b024-8ca67adab2c6",
   "metadata": {},
   "source": [
    "### 4.5.1 Literal\n",
    "A **literal** is a value that is represented directly in source code.  \n",
    "\n",
    "Different types of values have different rules or **syntax** for how literals must be written.\n"
   ]
  },
  {
   "attachments": {},
   "cell_type": "markdown",
   "id": "b6cfa4fd-1d77-4aee-81d5-c1799d6b2767",
   "metadata": {},
   "source": [
    "### 4.5.2 Variables\n",
    "\n",
    "Variables allow values to be associated with meaningful names. Literals are often used to provide the initial values for variables, after which they can be changed using the variable while the program is running."
   ]
  },
  {
   "cell_type": "markdown",
   "id": "1518106c-bb8f-4624-8f9a-9a07e59268a8",
   "metadata": {
    "tags": []
   },
   "source": [
    "### 4.5.2.1 Assigning Values\n",
    "To assign or keep a value in Python, we need a name(also known as identifier) as well as a corresponding value to be assigned.\n",
    "The equal symbol = is used, the syntax is as follows: \n",
    "> **variable_name = value**\n",
    "\n",
    "There are rules for naming a variable:\n",
    "1. Can contain uppercase or lowercase letters (A - Z, a - z)\n",
    "2. Can contain numbers (0 - 9) but cannot start with a number\n",
    "3. Can contain underscore symbol (_)\n",
    "4. Cannot contain any other characters (e.g. $ % # or a space)\n",
    "5. Cannot be of a reserved word that has special meaning in Python\n",
    "    > *False, None, True, and, as, assert, break, class, continue, def, del, elif, else, except, finally, for, from, global, if, import, in, is, lambda, nonlocal, not, or, pass, raise, return, try, while, with, yield*\n",
    "            \n",
    "        "
   ]
  },
  {
   "cell_type": "code",
   "execution_count": null,
   "id": "d8097905-61d7-4a64-b143-8c223bb88aea",
   "metadata": {
    "tags": []
   },
   "outputs": [],
   "source": [
    "# When a variable name is invalid, it will cause a syntax error\n",
    "\n",
    "age = 15\n",
    "my_name = \"Jason\"\n",
    "2A = 15           #start with number\n",
    "my school = \"SST\" #contains a space\n",
    "cost$ = 5.80      #contains invalid special character\n",
    "class = \"407\"     #using a reserved word\n"
   ]
  },
  {
   "cell_type": "code",
   "execution_count": null,
   "id": "a954a9d4-d378-4960-8416-347c42d73011",
   "metadata": {
    "tags": []
   },
   "outputs": [],
   "source": [
    "# Exercise 1.0\n",
    "# Change all the variables to have valid names.\n",
    "\n",
    "age = 15\n",
    "my_name = \"Jason\"\n",
    "2A = 15           \n",
    "my school = \"SST\" \n",
    "cost$ = 5.80     \n",
    "class = \"407\"     \n"
   ]
  },
  {
   "cell_type": "markdown",
   "id": "7343ccaf-e8b4-47c9-8394-c19ebf5d713d",
   "metadata": {
    "tags": []
   },
   "source": [
    "### 4.5.2.2 Reading Values\n",
    "We can retrieve the value assigned to a variable by using the variable’s name. Python will use the last assigned value.\n",
    "\n",
    "To display the value of a variable on the screen, use the *print()* function as follows\n",
    ">print(variable_name)"
   ]
  },
  {
   "cell_type": "code",
   "execution_count": null,
   "id": "8471948c-33e2-41cb-8b2b-5d7d40d65fe3",
   "metadata": {
    "tags": []
   },
   "outputs": [],
   "source": [
    "my_name = \"Jason\"\n",
    "print(my_name)     #Jason\n",
    "my_name = \"Jane\"\n",
    "my_name = \"Jenny\"\n",
    "print(my_name)     #Jenny"
   ]
  },
  {
   "cell_type": "code",
   "execution_count": null,
   "id": "e7f34824-14ea-444b-89d3-dbe0dfd3aca1",
   "metadata": {
    "tags": []
   },
   "outputs": [],
   "source": [
    "# If you try to read a variable that does not correspond to any variable that was used or defined previously, \n",
    "# Python will produce an error message instead:\n",
    "\n",
    "print(his_name)"
   ]
  },
  {
   "cell_type": "markdown",
   "id": "0462c002-a75b-46e7-a763-1e48849ad295",
   "metadata": {},
   "source": [
    "### 4.5.2.3 Reading and Assigning at the same time\n",
    "You can take value from one variable, manipulate it and then assign the new value to another variable.\n",
    "> `book_cost = 5.5`  \n",
    "> `gst = book_cost * 0.08`\n",
    "\n",
    "You can even manipulate the value and then re-assigned back to itself\n",
    "> `age = 14`  \n",
    "> `age = age + 1`"
   ]
  },
  {
   "cell_type": "code",
   "execution_count": null,
   "id": "ffdf6abc-f684-4915-ad52-89cfe9fff149",
   "metadata": {},
   "outputs": [],
   "source": [
    "book_cost = 5.5\n",
    "gst = book_cost * 0.08\n",
    "print(gst)\n",
    "\n",
    "age = 14\n",
    "age = age + 1\n",
    "print(age)"
   ]
  },
  {
   "cell_type": "markdown",
   "id": "82a891f5-a3fb-4da4-b5f1-c05f6909b2fc",
   "metadata": {},
   "source": [
    "### 4.5.2.4 *None* Value\n",
    "A variable may have value missing or no suitable value assigned to it at some point during run time. Since Python will produce an error message when trying to retrieve a variable that has not been defined, that variable can be create and assigned a special None value to indicates the value is missing.  \n",
    "> `variable_1 = None` "
   ]
  },
  {
   "cell_type": "code",
   "execution_count": 1,
   "id": "2c726b50-0794-4b24-96a2-a2ab2e6355ce",
   "metadata": {},
   "outputs": [
    {
     "name": "stdout",
     "output_type": "stream",
     "text": [
      "None\n"
     ]
    }
   ],
   "source": [
    "variable_1 = None\n",
    "print(variable_1)"
   ]
  },
  {
   "attachments": {},
   "cell_type": "markdown",
   "id": "8fb56b8e-f145-44a8-8e23-ea535752c221",
   "metadata": {},
   "source": [
    "### 4.5.2.5 Deleting Variables\n",
    "Instead of using None, it is occasionally useful to delete a variable completely so that using the variable name produces an error. This can be done using the del keyword."
   ]
  },
  {
   "cell_type": "code",
   "execution_count": 3,
   "id": "83b93229-5221-4dd5-ac99-0eb443fd9ab0",
   "metadata": {},
   "outputs": [
    {
     "name": "stdout",
     "output_type": "stream",
     "text": [
      "I never finish anyth...\n"
     ]
    }
   ],
   "source": [
    "phrase = \"I never finish anyth...\"\n",
    "print(phrase)"
   ]
  },
  {
   "cell_type": "code",
   "execution_count": 4,
   "id": "70de5012-5d0b-4fed-b1b9-dde74b4adb09",
   "metadata": {},
   "outputs": [
    {
     "ename": "NameError",
     "evalue": "name 'phrase' is not defined",
     "output_type": "error",
     "traceback": [
      "\u001b[0;31m---------------------------------------------------------------------------\u001b[0m",
      "\u001b[0;31mNameError\u001b[0m                                 Traceback (most recent call last)",
      "Cell \u001b[0;32mIn[4], line 2\u001b[0m\n\u001b[1;32m      1\u001b[0m \u001b[38;5;28;01mdel\u001b[39;00m(phrase)\n\u001b[0;32m----> 2\u001b[0m \u001b[38;5;28mprint\u001b[39m(\u001b[43mphrase\u001b[49m)\n",
      "\u001b[0;31mNameError\u001b[0m: name 'phrase' is not defined"
     ]
    }
   ],
   "source": [
    "del(phrase)\n",
    "print(phrase)"
   ]
  },
  {
   "attachments": {},
   "cell_type": "markdown",
   "id": "c090b05b-2658-4609-9e11-fd280957542c",
   "metadata": {
    "jp-MarkdownHeadingCollapsed": true
   },
   "source": [
    "## 4.6 Functions, Method\n",
    "\n",
    "### 4.6.1 Functions\n",
    "A set of instructions assigned to a name that can be used again later.  \n",
    "There are really two flavors of function objects: built-in functions and user-defined functions. Both support the same operation (to call the function), but the implementation is different, hence the different object types.  \n",
    "\n",
    "Synax for function call  \n",
    "> function_name( )  \n",
    "> function_name(argument_1)  \n",
    "> function_name(argument_1, argument_2)\n",
    "\n",
    "\n",
    "### 4.6.2 Methods\n",
    "Methods are functions that are called using the attribute notation(value). There are two flavors: built-in methods (such as append() on lists) and class instance method. Built-in methods are described with the types that support them.  \n",
    "\n",
    "Syntax for method call  \n",
    "> value.method_name( )  \n",
    "> value.method_name(argument_1)  \n",
    "> vakue.method_name(arguement_1, argument_2)"
   ]
  },
  {
   "cell_type": "markdown",
   "id": "0c11e12e-0658-4c4e-a151-4d77f7b9122b",
   "metadata": {
    "jp-MarkdownHeadingCollapsed": true
   },
   "source": [
    "## 4.7 Built-in Data Types\n",
    "\n",
    "The principal standard types that are built into the interpreter are numerics, sequences, mappings, classes, instances and exceptions.\n",
    "\n"
   ]
  },
  {
   "cell_type": "markdown",
   "id": "6aa39201-3e1a-4445-b42f-d661e534f193",
   "metadata": {
    "tags": []
   },
   "source": [
    "## 4.8 Input and output built-in functions\n",
    "\n",
    "### 4.8.1 Output: print()\n",
    "\n",
    "*`print(*objects, sep=' ', end='\\n', file=None, flush=False)`*\n",
    "Print objects to the text stream file, separated by sep and followed by end. sep, end, file, and flush, if present, must be given as keyword arguments.\n",
    "\n"
   ]
  },
  {
   "cell_type": "markdown",
   "id": "7d7a2ae0-d09d-4f9e-b6d1-d24b4ce03f6d",
   "metadata": {},
   "source": [
    "### 4.8.2 Input: input()\n",
    "\n",
    "*`input(prompt)`*\n",
    "The prompt argument must be string(s). The function then reads a line from input, converts it to a **string** (stripping a trailing newline), and returns that.  \n",
    "The data returned by input function will always be a string, proper conversion(s) is required to ensure your program run correctly!"
   ]
  },
  {
   "cell_type": "markdown",
   "id": "40bf3f07-abfe-40f0-86e5-8e50ac1f683a",
   "metadata": {},
   "source": [
    "## 4.9 Boolean - `bool`\n",
    "Booleans represent truth values. The `bool` type has exactly two constant instances: `True` and `False`.\n",
    "\n",
    "The built-in function `bool()` converts any value to a boolean, if the value can be interpreted as a truth value.\n",
    "\n",
    "`bool` is a subclass of `int`. In many numeric contexts, `False` and `True` behave like the integers 0 and 1, respectively. However, relying on this is discouraged; explicitly convert using `int()` instead."
   ]
  },
  {
   "cell_type": "markdown",
   "id": "1ab3a81d-b791-4dba-bece-94153babf8d2",
   "metadata": {},
   "source": [
    "### 4.9.1 Boolean Operators - `and`, `or`, `not`\n",
    "\n",
    "These are the Boolean operations, ordered by ascending priority:  \n",
    "\n",
    "| Name | Operation | Result | Notes |\n",
    "| --- | --- | --- | --- |\n",
    "| Disjuction | `x or y` | if x is true, then x, else y | (1) |\n",
    "| Conjuction |`x and y` | if x is false, then x, else y | (2) |\n",
    "| Negation | `not x` | if x is false, then `True`, else `False` |(3) |\n",
    "\n",
    "Notes:\n",
    "1. This is a short-circuit operator, so it only evaluates the second argument if the first one is false.\n",
    "2. This is a short-circuit operator, so it only evaluates the second argument if the first one is true.\n",
    "3. `not` has a lower priority than non-Boolean operators, so `not a == b` is interpreted as `not (a == b)`, and `a == not b` is a syntax error.\n"
   ]
  },
  {
   "cell_type": "markdown",
   "id": "103d66fb-5afe-4a06-8338-f7ffbeea5169",
   "metadata": {},
   "source": [
    "## 4.10 Numerics\n",
    "\n",
    "There are three distinct numeric types: integers (`int`), floating point numbers (`float`), and complex numbers (`complex`). In addition, Booleans (`bool`) are a subtype of integers.  \n",
    "\n",
    "Only integer and floating point numbers are covered here."
   ]
  },
  {
   "cell_type": "markdown",
   "id": "ed30a291-c622-4221-84c7-3e55f8bcd0d9",
   "metadata": {},
   "source": [
    "### 4.10.1 Integer Literals - `int`\n",
    "Integers comprise of positive and negative whole numbers as well as zero. Its literal format is an optional sign (+ or -) followed by the number's digits written out.\n",
    "> `123`  \n",
    "> `-213`"
   ]
  },
  {
   "cell_type": "markdown",
   "id": "47bebb49-bf61-45a6-be2d-a84dc00ed93d",
   "metadata": {},
   "source": [
    "### 4.10.2 Floating Point Literals - `float`\n",
    "A floating-point number is a real number.\n",
    " \n",
    "There are two common literal formats for float:  \n",
    "1. An optional sign followed by the number's digits written out, with a decimal point included explicitly.\n",
    "   > `12.3`  \n",
    "   > `-45.6`\n",
    "2. The form AeB or AEB to represent $$A\\times10^B$$ Either A, B or both may start with an optional sign.\n",
    "   > `1.24e2`  \n",
    "   > `-2.03E3`\n",
    "\n"
   ]
  },
  {
   "cell_type": "markdown",
   "id": "b9416aaa-29b0-4288-a812-7be8e64de1a0",
   "metadata": {
    "jp-MarkdownHeadingCollapsed": true
   },
   "source": [
    "### 4.10.3 Arithmetic Operations\n",
    "\n",
    "\n",
    "All `int` and `float` supports the following arithmetic operation\n",
    " \n",
    "| Operation | Result |\n",
    "| --- | ---|\n",
    "| `x + y` | sum of x and y |\n",
    "| `x - y` | difference of x and y |\n",
    "| `x * y` | product of x and y |\n",
    "| `x / y` | quotient of x and y |\n",
    "| `x // y` | floored quotient of x and y |\n",
    "| `x % y` | remainder of `x / y` |\n",
    "| `-x` | negate x |\n",
    "| `abs(x)` | absolute value or magnitude of x |\n",
    "| `int(x)` | x converted to integer |\n",
    "| `float(x)` | x converted to floating point |\n",
    "| `pow(x, y)` | x to the power y |\n",
    "| `x ** y` | x to the power of y |"
   ]
  },
  {
   "cell_type": "markdown",
   "id": "ca776642-c931-4052-b392-2eda9ba59a28",
   "metadata": {
    "jp-MarkdownHeadingCollapsed": true
   },
   "source": [
    "## Data Types Comparisons\n",
    "\n",
    "There are eight comparison operations in Python. They all have the same priority (which is higher than that of the Boolean operations). Comparisons can be chained arbitrarily; for example, `x < y <= z` is equivalent to `x < y and y <= z`, except that `y` is evaluated only once (but in both cases `z` is not evaluated at all when `x < y` is found to be false).\n",
    "\n",
    "This table summarizes the comparison operations:\n",
    "\n",
    "| Operation | Meaning |\n",
    "| --- | --- |\n",
    "| `<` | strictly less than |\n",
    "| `<=` | less than or equal |\n",
    "| `>` | strictly greater than |\n",
    "| `>=` | greater than or equal |\n",
    "| `==` | equal |\n",
    "| `!=` | not equal |\n",
    "| `is` | object identity |\n",
    "| `is not` |negated object identity |\n",
    "\n",
    "Objects of different types, except different numeric types, never compare equal. "
   ]
  },
  {
   "cell_type": "markdown",
   "id": "3e48df25-2f01-4f61-af01-be85470df016",
   "metadata": {},
   "source": [
    "## Data Types Casting\n",
    "\n",
    "The constructors `int()`, `float()`, and `complex()` can be used to produce numbers of a specific type.\n",
    "\n",
    "### Converting to integer value - `int()`\n",
    " \n",
    "**`class int(x, base=10)`**  \n",
    "Return an integer object constructed from a number or string x, or return 0 if no arguments are given.  \n",
    "\n",
    "If x is not a number or if base is given, then x must be a string, bytes, or bytearray instance representing an integer in radix base. Optionally, the string can be preceded by + or - (with no space in between), have leading zeros, be surrounded by whitespace, and have single underscores interspersed between digits.\n",
    "\n",
    "A base-n integer string contains digits, each representing a value from 0 to n-1. The values 0–9 can be represented by any Unicode decimal digit. The values 10–35 can be represented by a to z (or A to Z). The default base is 10.\n",
    "\n",
    "The allowed bases are 2, 8, 10 16.\n",
    "\n",
    "### Converting to floating point value\n",
    "\n",
    "**`class float(x=0.0)`**\n",
    "Return a floating point number constructed from a number or string x.  \n",
    "\n",
    "If the argument is a string, it should contain a decimal number, optionally preceded by a sign, and optionally embedded in whitespace. The optional sign may be '+' or '-'; a '+' sign has no effect on the value produced. The argument may also be a string representing a NaN (not-a-number), or positive or negative infinity. \n",
    "\n",
    "Case is not significant, so, for example, “inf”, “Inf”, “INFINITY”, and “iNfINity” are all acceptable spellings for positive infinity.\n",
    "\n",
    "If no argument is given, 0.0 is returned.\n"
   ]
  },
  {
   "cell_type": "code",
   "execution_count": 5,
   "id": "77255303-ce24-465a-bf37-b6149343515f",
   "metadata": {},
   "outputs": [
    {
     "name": "stdout",
     "output_type": "stream",
     "text": [
      "1.23\n",
      "-12345.0\n",
      "0.001\n",
      "1000000.0\n",
      "-inf\n"
     ]
    }
   ],
   "source": [
    "print(float('+1.23'))\n",
    "print(float('   -12345\\n'))\n",
    "print(float('1e-003'))\n",
    "print(float('+1E6'))\n",
    "print(float('-Infinity'))"
   ]
  },
  {
   "cell_type": "code",
   "execution_count": null,
   "id": "b5c4cbfb-62dc-48a5-8ef7-7dc626f298f8",
   "metadata": {},
   "outputs": [],
   "source": []
  }
 ],
 "metadata": {
  "kernelspec": {
   "display_name": "Python 3 (ipykernel)",
   "language": "python",
   "name": "python3"
  },
  "language_info": {
   "codemirror_mode": {
    "name": "ipython",
    "version": 3
   },
   "file_extension": ".py",
   "mimetype": "text/x-python",
   "name": "python",
   "nbconvert_exporter": "python",
   "pygments_lexer": "ipython3",
   "version": "3.8.18"
  }
 },
 "nbformat": 4,
 "nbformat_minor": 5
}
