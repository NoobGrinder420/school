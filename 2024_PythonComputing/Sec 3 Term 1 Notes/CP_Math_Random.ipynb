{
 "cells": [
  {
   "cell_type": "markdown",
   "id": "f545c16e-cc34-47cc-8eef-530a906e3168",
   "metadata": {
    "editable": true,
    "slideshow": {
     "slide_type": ""
    },
    "tags": []
   },
   "source": [
    "## Built-in Functions\n",
    "The Python interpreter has a number of functions and types built into it that are always available.\n",
    "> Full list https://docs.python.org/3/library/functions.html\n",
    "\n",
    "### Learning outcomes\n",
    "- 2.3.7 Use integer and floating-point values with appropriate operators and built-in functions (limited to those mentioned in the Quick Reference Guide) to perform:\n",
    "    1. Rounding (normal, up, down, towards zero)\n",
    "    2. Calculation of square roots\n",
    "\n",
    "### Math Built-in Functions\n",
    "The following are some built-in math functions not covered in previous Numerics sub-chapter.  \n",
    "\n",
    "1. `bin(x)`  \n",
    "Convert an integer number to a binary string prefixed with “0b”. \n",
    "> `bin(3)`   returns '0b11'  \n",
    "> `bin(-10)` returns '-0b1010'\n",
    "\n",
    "2. `hex(x)`  \n",
    "Convert an integer number to a lowercase hexadecimal string prefixed with “0x”. \n",
    "> `hex(255)`  returns '0xff'  \n",
    "> `hex(-42)`  returns  '-0x2a'  \n",
    " \n",
    "3. `max(iterable, *, key=None)`  \n",
    "`max(iterable, *, default, key=None)`  \n",
    "`max(arg1, arg2, *args, key=None)`  \n",
    "Return the largest item in an iterable or the largest of two or more arguments.\n",
    "If one positional argument is provided, it should be an iterable. The largest item in the iterable is returned. If two or more positional arguments are provided, the largest of the positional arguments is returned.\n",
    "\n",
    "5. `min(iterable, *, key=None)`  \n",
    "`min(iterable, *, default, key=None)`  \n",
    "`min(arg1, arg2, *args, key=None)`  \n",
    "Return the smallest item in an iterable or the smallest of two or more arguments.  \n",
    "If one positional argument is provided, it should be an iterable. The smallest item in the iterable is returned. If two or more positional arguments are provided, the smallest of the positional arguments is returned.\n",
    "\n",
    "5. `oct(x)`  \n",
    "Convert an integer number to an octal string prefixed with “0o”. The result is a valid Python expression. \n",
    "> `oct(8)` returns '0o10'  \n",
    "> `oct(-56)` returns '-0o70'\n",
    "\n",
    "6. `round(number, ndigits=None)`  \n",
    "Return number rounded to ndigits precision after the decimal point. If ndigits is omitted or is None, it returns the nearest integer to its input.\n",
    "> Note: The behaviour of round() for floats can be surprising: for example, round(2.675, 2) gives 2.67 instead of the expected 2.68. This is not a bug: it’s a result of the fact that most decimal fractions can’t be represented exactly as a float. Read https://docs.python.org/3/tutorial/floatingpoint.html#tut-fp-issues for explanation."
   ]
  },
  {
   "cell_type": "markdown",
   "id": "bfa4957b-42e2-4ff4-a188-830bc1e7c0d1",
   "metadata": {},
   "source": [
    "## Modules\n",
    "A module is a collection of variables and functions that needs to be loaded before the variables and functions can be used.  \n",
    "\n",
    "While convenient, keeping every variable and function loaded and ready for use has two major disadvantages:  \n",
    "1. Loading variable and functions and making them available takes up time and computer memory.\n",
    "2. It becomes harder to choose names for variables and functions as names that were chosen may overwrite or clash with the ones provided by Python or chosen by other programmers\n",
    "\n",
    "To load and use any module, use the `import` keyword.  \n",
    ">  `import name_of_module`  \n",
    ">  `import name_of_module as new_name`\n",
    "\n",
    "To import specifics functions within a module.\n",
    "> `from name_of_module import function_name`\n",
    "\n",
    "### Learning outcomes\n",
    "- 2.3.5 Use the import command to load and make additional variables and functions available for use.\n",
    "    1. Generation of random integers / floats "
   ]
  },
  {
   "cell_type": "markdown",
   "id": "6cf9e8f9-4f15-45e9-9f24-6c2bd3f964ff",
   "metadata": {},
   "source": [
    "### Math Modules -- `import math`  \n",
    "This module provides access to the mathematical functions defined by the C standard.  \n",
    "These functions cannot be used with complex numbers.  \n",
    "Except when explicitly noted otherwise, all return values are floats.  \n",
    "\n",
    "1. `math.ceil(x)`  \n",
    "    > Return the ceiling of x, the smallest integer greater than or equal to x.\n",
    "\n",
    "2. `math.floor(x)` \n",
    "    > Return the floor of x, the largest integer less than or equal to x.\n",
    "\n",
    "3. `math.sqrt(x)`\n",
    "   > Return the square root of x.\n",
    "\n",
    "4. `math.trunc(x)`\n",
    "   > Return x with the fractional part removed, leaving the integer part. This rounds toward 0: `trunc()` is equivalent to `floor()` for positive x, and equivalent to `ceil()` for negative x.\n",
    "\n",
    "Full list of math functions : https://docs.python.org/3/library/math.html#module-math\n"
   ]
  },
  {
   "cell_type": "markdown",
   "id": "0079a880-54d8-4bac-b243-a57989fdddce",
   "metadata": {},
   "source": [
    "## Random Modules -- import random  \n",
    "This module implements pseudo-random number generators for various distributions.  \n",
    "***Warning The pseudo-random generators of this module should not be used for security purposes.***  \n",
    "\n",
    "1. `random.randint(a, b)`\n",
    "   > Return a random integer N such that a <= N <= b. Alias for `randrange(a, b+1)`.\n",
    "   \n",
    "2. `random.random()`\n",
    "   > Return the next random floating point number in the range 0.0 <= X < 1.0\n",
    "\n",
    "Full list of random functions: https://docs.python.org/3/library/random.html#module-random"
   ]
  },
  {
   "cell_type": "markdown",
   "id": "9930fec3-6979-405c-a96e-f8bf12b15261",
   "metadata": {},
   "source": [
    "## Reflection Questions\n",
    "**1.1 Area of Rectangle**  \n",
    "\n",
    "A rectangle is defined with 2 sets of co-ordinates. Bottom-left (x1, y1) and top-right (x2, y2).  \n",
    "Ask the user for inputs x1, y1, x2, y2.\n",
    "Calculate and display the area of the rectangle"
   ]
  },
  {
   "cell_type": "code",
   "execution_count": null,
   "id": "77026ac5-f15e-41a7-ab1b-c6dcc99be541",
   "metadata": {},
   "outputs": [],
   "source": [
    "# 1.1 Area of Rectangle\n",
    "\n"
   ]
  },
  {
   "cell_type": "markdown",
   "id": "867ad01e-9bc0-494c-9fc2-522e0c9de5b9",
   "metadata": {},
   "source": [
    "**1.2 Area of Rectangles**  \n",
    "\n",
    "You are now co-ordinates of another rectangle: (x3, y3) and (x4, y4). \n",
    "Ask the user for the inputs x1, y1, x2, y2, x3, y3, x4, y4.\n",
    "Calculate and display the total area covered by both rectangles."
   ]
  },
  {
   "cell_type": "code",
   "execution_count": null,
   "id": "e9c7abc1-4b1e-414b-bb13-a73d99c21276",
   "metadata": {
    "editable": true,
    "slideshow": {
     "slide_type": ""
    },
    "tags": []
   },
   "outputs": [],
   "source": [
    "# 1.2 Area of Rectangles\n",
    "\n"
   ]
  }
 ],
 "metadata": {
  "kernelspec": {
   "display_name": "Python 3 (ipykernel)",
   "language": "python",
   "name": "python3"
  },
  "language_info": {
   "codemirror_mode": {
    "name": "ipython",
    "version": 3
   },
   "file_extension": ".py",
   "mimetype": "text/x-python",
   "name": "python",
   "nbconvert_exporter": "python",
   "pygments_lexer": "ipython3",
   "version": "3.8.18"
  }
 },
 "nbformat": 4,
 "nbformat_minor": 5
}
