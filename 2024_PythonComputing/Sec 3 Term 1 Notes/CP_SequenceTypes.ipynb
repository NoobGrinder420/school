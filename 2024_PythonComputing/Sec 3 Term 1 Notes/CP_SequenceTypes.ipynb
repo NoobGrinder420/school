{
 "cells": [
  {
   "cell_type": "markdown",
   "id": "77b58d56-eeef-454a-8169-e46998bdda70",
   "metadata": {},
   "source": [
    "## 4.11 Sequence Type\n",
    "\n",
    "There are three basic sequence types: lists, tuples, and range objects. Additional sequence types text strings are described below as well.\n",
    "\n",
    "### 4.11.1 Common Sequence Operations\n",
    "| Operation | Results |\n",
    "| --- | --- |\n",
    "| `x in s` | `True` if an item of *s* is equal to *x*, else `False` |\n",
    "| `x not in s` | `False` if an item of *s* is equal to *x*, else `True` |\n",
    "| `s + t` | the concatenation of `s` and `t` |\n",
    "| `s * n` | adding *s* to itself *n* times |\n",
    "| `n * s` | adding *s* to itself *n* times |\n",
    "| `s[i]` | *i*-th item of s |\n",
    "| `s]i:j]` | slice of *s* from *i* to *j* |\n",
    "| `s[i:j:k]` | slice of *s* from *i* to *j* with step *k* |\n",
    "| `len(s)` | length of *s* |\n",
    "| `min(s)` | smallest item of *s* |\n",
    "| `max(s)` | largest item of *s* |\n",
    "| `s.index(x[, i[, j]])` | index of first occurrence of *x* in *s* (at or after index *i* and before index *j* |\n",
    "| `s.count(x)` | total number of occurrences of *x* in *s* |\n",
    "\n",
    "\n"
   ]
  },
  {
   "cell_type": "markdown",
   "id": "812e52d9-5e92-4f60-85cf-28c9c6508087",
   "metadata": {},
   "source": [
    "### 4.11.2 Text Sequence - Strings\n",
    "Textual data in Python is handled with str objects, or strings. Strings are immutable sequences of Unicode code points. \n",
    "\n",
    "#### 4.11.2.1 String literals \n",
    "They are written in a variety of ways:\n",
    "1. Single quotes: `'allows embedded \"double\" quotes'`\n",
    "2. Double quotes: `\"allows embedded 'single' quotes\"`\n",
    "3. Triple quoted: `'''Three single quotes''', \"\"\"Three double quotes\"\"\"`\n",
    "\n",
    "Triple quoted strings may span multiple lines - all associated whitespace will be included in the string literal.\n",
    "\n",
    "#### 4.11.2.2 Escape Sequences\n",
    "Escape sequences in string and bytes literals are interpreted according to rules similar to those used by Standard C. The recognized escape sequences are:  \n",
    "| Escape Sequence | Meaning |\n",
    "| --- | --- |\n",
    "| `\\`<newline> | Backslash and newline ignored |\n",
    "| `\\\\` | Backslash (\\) |\n",
    "| `\\'` | Single quote (') |\n",
    "| `\\\"` | Double quote (\") |\n",
    "| `\\f` | ASCII Formfeed (FF) |\n",
    "| `\\n` | ASCII Linefeed (LF) |\n",
    "| `\\r` | ASCII Carriage Return (CR) |\n",
    "| `\\t` | ASCII Horizontal Tab (TAB) |\n",
    "| `\\v` | ASCII Vertical Tab (VT) |\n",
    "| `\\ooo` | Character with octal value ooo |\n",
    "| `\\xhh` | Character with hex value hh |"
   ]
  },
  {
   "cell_type": "code",
   "execution_count": 3,
   "id": "159bd3a2-b1ed-4df1-96bf-979b659ffb2e",
   "metadata": {},
   "outputs": [
    {
     "name": "stdout",
     "output_type": "stream",
     "text": [
      "putin \n",
      "sulP gnitupmoC\n"
     ]
    }
   ],
   "source": [
    "s = 'Computing Plus'\n",
    "print(s[3:8],\"\\n\"+s[::-1])\n",
    "\n"
   ]
  },
  {
   "cell_type": "code",
   "execution_count": null,
   "id": "a59b5e26-282d-43a4-a04f-5073d4a9d558",
   "metadata": {},
   "outputs": [],
   "source": []
  },
  {
   "cell_type": "markdown",
   "id": "4b4764fd-ad38-4cf0-905d-219ebccf95f2",
   "metadata": {},
   "source": [
    "#### 4.11.3 Constructing a string\n",
    "**`str(object='')`**  \n",
    "> Return a string version of object. If object is not provided, returns the empty string.  \n",
    "\n",
    "Strings implement all of the common sequence operations, along with the additional methods (non-exhaustive) described below.\n",
    "\n",
    "#### 4.11.4 String Methods\n",
    "\n",
    "1. `str.count(sub[, start[, end]])`\n",
    "> Return the number of non-overlapping occurrences of substring sub in the range [start, end]. Optional arguments start and end are interpreted as in slice notation.  \n",
    "> If sub is empty, returns the number of empty strings between characters which is the length of the string plus one.\n",
    "\n",
    "2. `str.endswith(suffix[, start[, end]])`\n",
    "> Return True if the string ends with the specified suffix, otherwise return False. suffix can also be a tuple of suffixes to look for. With optional start, test beginning at that position. With optional end, stop comparing at that position.\n",
    "\n",
    "3. `str.find(sub[, start[, end]])`\n",
    "> Return the lowest index in the string where substring sub is found within the slice s[start:end]. Optional arguments start and end are interpreted as in slice notation. Return -1 if sub is not found.\n",
    "\n",
    "4. `str.format(*args, **kwargs)`\n",
    "> Perform a string formatting operation. The string on which this method is called can contain literal text or replacement fields delimited by braces {}. Each replacement field contains either the numeric index of a positional argument, or the name of a keyword argument. Returns a copy of the string where each replacement field is replaced with the string value of the corresponding argument.\n",
    ">  String formatting will be explain in the next section.\n",
    "\n",
    "5. `str.isalnum()`\n",
    "> Return True if all characters in the string are alphanumeric and there is at least one character, False otherwise. A character c is alphanumeric if one of the following returns True: c.isalpha(), c.isdecimal(), c.isdigit(), or c.isnumeric().\n",
    "\n",
    "6. `str.isalpha()`\n",
    "> Return True if all characters in the string are alphabetic and there is at least one character, False otherwise. Alphabetic characters are those characters defined in the Unicode character database as “Letter”, i.e., those with general category property being one of “Lm”, “Lt”, “Lu”, “Ll”, or “Lo”. Note that this is different from the Alphabetic property defined in the section 4.10 ‘Letters, Alphabetic, and Ideographic’ of the Unicode Standard.\n",
    "\n",
    "7. `str.isdigit()`\n",
    "> Return True if all characters in the string are digits and there is at least one character, False otherwise. Digits include decimal characters and digits that need special handling, such as the compatibility superscript digits.\n",
    "\n",
    "8. `str.islower()`\n",
    "> Return True if all cased characters in the string are lowercase and there is at least one cased character, False otherwise.\n",
    "\n",
    "9. `str.isspace()`\n",
    "> Return True if there are only whitespace characters in the string and there is at least one character, False otherwise.   \n",
    "> A character is whitespace if in the Unicode character database (see unicodedata), either its general category is Zs (“Separator, space”), or its bidirectional class is one of WS, B, or S.\n",
    "\n",
    "10. `str.isupper()`\n",
    "> Return True if all cased characters in the string are uppercase and there is at least one cased character, False otherwise.\n",
    "\n",
    "11. `str.lower()`\n",
    "> Return a copy of the string with all the cased characters converted to lowercase.\n",
    "\n",
    "12. `str.split(sep=None, maxsplit=-1)`\n",
    "> Return a list of the words in the string, using sep as the delimiter string. If maxsplit is given, at most maxsplit splits are done (thus, the list will have at most maxsplit+1 elements). If maxsplit is not specified or -1, then there is no limit on the number of splits (all possible splits are made).  \n",
    "> If sep is given, consecutive delimiters are not grouped together and are deemed to delimit empty strings (for example, '1,,2'.split(',') returns ['1', '', '2']). The sep argument may consist of multiple characters (for example, '1<>2<>3'.split('<>') returns ['1', '2', '3']). Splitting an empty string with a specified separator returns [''].\n",
    "\n",
    "13. `str.startswith(prefix[, start[, end]])`\n",
    "> Return True if string starts with the prefix, otherwise return False. prefix can also be a tuple of prefixes to look for. With optional start, test string beginning at that position. With optional end, stop comparing string at that position.\n",
    "\n",
    "14. `str.upper()`\n",
    "> Return a copy of the string with all the cased characters  converted to uppercase. Note that s.upper().isupper() might be False if s contains uncased characters or if the Unicode category of the resulting character(s) is not “Lu” (Letter, uppercase), but e.g. “Lt” (Letter, titlecase)."
   ]
  },
  {
   "cell_type": "code",
   "execution_count": 7,
   "id": "8350451f-bb3b-4ada-a724-5de45d53a365",
   "metadata": {},
   "outputs": [
    {
     "name": "stdout",
     "output_type": "stream",
     "text": [
      "A\n",
      "a\n",
      "65\n"
     ]
    }
   ],
   "source": [
    "#chr(n)\n",
    "# https://www.asciitable.com/\n",
    "\n",
    "print(chr(65))\n",
    "print(chr(97))\n",
    "\n",
    "#ord(character)\n",
    "print(ord('A'))"
   ]
  },
  {
   "cell_type": "markdown",
   "id": "f341fa9b-87db-4485-894b-27d693323240",
   "metadata": {},
   "source": [
    "#### 4.11.5 String Formatting : f-string\n",
    "A formatted string literal or f-string is a string literal that is prefixed with 'f' or 'F'. These strings may contain replacement fields, which are expressions delimited by curly braces {}. While other string literals always have a constant value, formatted strings are really expressions evaluated at run time.  \n",
    "\n",
    "Escape sequences are decoded like in ordinary string literals. The parts of the string outside curly braces are treated literally, except that any doubled curly braces '{{' or '}}' are replaced with the corresponding single curly brace. A single opening curly bracket '{' marks a replacement field, which starts with a Python expression.\n",
    "\n",
    "> `name = \"Jack\"`  \n",
    "> `print(f\"Hello! {name}\")`  \n",
    "> `print(f\"Hello! {name + ' & Jill'}\")`  \n",
    "> `print(f\"{{Hello!}} {name}!\")`\n",
    "\n",
    "#### 4.11.6 String Formatting : str.format()\n",
    "Format strings contain “replacement fields” surrounded by curly braces {}. Anything that is not contained in braces is considered literal text, which is copied unchanged to the output. If you need to include a brace character in the literal text, it can be escaped by doubling: {{ and }}.\n",
    "\n"
   ]
  },
  {
   "cell_type": "code",
   "execution_count": 4,
   "id": "1ce3da5b-1d3d-420f-a0d1-5aefcc0cec6d",
   "metadata": {},
   "outputs": [
    {
     "name": "stdout",
     "output_type": "stream",
     "text": [
      "Hello! Jack\n",
      "Hello! Jack & Jill\n",
      "{Hello!} Jack!\n"
     ]
    }
   ],
   "source": [
    "# f-string \n",
    "name = \"Jack\"\n",
    "print(f\"Hello! {name}\")\n",
    "print(f\"Hello! {name + ' & Jill'}\")\n",
    "print(f\"{{Hello!}} {name}!\")\n"
   ]
  },
  {
   "cell_type": "code",
   "execution_count": 8,
   "id": "f9fea8a2-fbfc-43a5-a389-a7790d29cb4e",
   "metadata": {},
   "outputs": [
    {
     "name": "stdout",
     "output_type": "stream",
     "text": [
      "a, b, c\n",
      "a, b, c\n",
      "c, b, a\n",
      "abracadabra\n",
      "\n",
      "Coordinates: 37.24N, -115.81W\n",
      "\n",
      "X: 3;  Y: 5\n",
      "\n",
      "left aligned                  \n",
      "                 right aligned\n",
      "           centered           \n",
      "***********centered***********\n",
      "\n",
      "12,345,678,900\n",
      "\n",
      "Correct answers: 86.36%\n"
     ]
    }
   ],
   "source": [
    "# String formatting examples\n",
    "# arguements by position\n",
    "print('{}, {}, {}'.format('a', 'b', 'c'))\n",
    "print('{0}, {1}, {2}'.format('a', 'b', 'c'))\n",
    "print('{2}, {1}, {0}'.format('a', 'b', 'c'))\n",
    "print('{0}{1}{0}'.format('abra', 'cad'))  \n",
    "print()\n",
    "\n",
    "# arguement by name\n",
    "print('Coordinates: {latitude}, {longitude}'.format(latitude='37.24N', longitude='-115.81W'))\n",
    "print()\n",
    "\n",
    "# arguement by items\n",
    "coord = (3, 5) #tuple\n",
    "print('X: {0[0]};  Y: {0[1]}'.format(coord))\n",
    "print()\n",
    "\n",
    "# alignment\n",
    "print('{:<30}'.format('left aligned'))\n",
    "print('{:>30}'.format('right aligned'))\n",
    "print('{:^30}'.format('centered'))\n",
    "print('{:*^30}'.format('centered'))  # use '*' as a fill char\n",
    "print()\n",
    "\n",
    "#  thousands separator:\n",
    "print('{:,}'.format(12345678900))\n",
    "print()\n",
    "\n",
    "# percentage\n",
    "points = 19\n",
    "total = 22\n",
    "print('Correct answers: {:.2%}'.format(points/total)) # .2 to format the number into 2 decimal places"
   ]
  },
  {
   "cell_type": "code",
   "execution_count": 28,
   "id": "26a4be74-64f7-4ed4-94be-d2506b3b794c",
   "metadata": {},
   "outputs": [
    {
     "name": "stdout",
     "output_type": "stream",
     "text": [
      "12\n",
      "16\n"
     ]
    }
   ],
   "source": [
    "s = 'A Canner can can cans. How many cans can a Canner can if a Canner can can cans.'\n",
    "#How many can's are there\n",
    "print(s.lower().count('can'))\n",
    "#How many n's are there\n",
    "print(s.lower().count('n'))"
   ]
  },
  {
   "cell_type": "markdown",
   "id": "d367b281-bb19-4c43-a557-d1728b6bf23b",
   "metadata": {
    "jp-MarkdownHeadingCollapsed": true
   },
   "source": [
    "### 4.12 Mutable Sequence : Lists\n",
    "\n",
    "#### Learning outcomes : List \n",
    "- *2.3.9 Use list value with appropriate operators, built-in functions and methods (limited to those mention in the Quick Reference guide) to perform:*  \n",
    "> - Concatenation and repetition  \n",
    "> - Extraction of single items and subset of items (i.e., indexing and slicing)  \n",
    "> - Testing of whether an item is in the list  \n",
    "> - Calculation of length  \n",
    "> - Calculation of sum, minimum value and maximum value (provide the list items are all integer or floating-point values)  lues)\n",
    "\n",
    "Lists are mutable sequences, typically used to store collections of homogeneous** items.\n",
    "> `my_list = [23, 77, 14]`  \n",
    "> `my_list = [\"And\", \"There\", \"was\", \"Glitch\"]`\n",
    "\n",
    "Lists may be constructed in several ways:\n",
    "> - Using a pair of square brackets to denote the empty list: `[]`  \n",
    "> - Using square brackets, separating items with commas: `[a]`, `[a, b, c]`  \n",
    "> - Using a list comprehension: `[x for x in iterable]`  \n",
    "> - Using the type constructor: `list()` or `list(iterable)`\n",
    "\n",
    "** Although list is capable of storing values from different data types:\n",
    "> `myList = [123, 12.3, \"1234\"]`  \n",
    "\n",
    "but this is **not encouraged**.  \n",
    "\n",
    "Lists implement all of the common sequence operations and the following mutable sequence operations\n",
    "\n",
    "#### 4.12.1 Mutable Sequence Operations\n",
    "|  Operations | Result |\n",
    "| --- | --- |\n",
    "| `s[i] = x` | item *i* of *s* is replaced by *x* |\n",
    "| `s[i:j] = t` | slice of *s* from *i* to *j* is replaced by the contents of the iterable *t* |\n",
    "| `del s[i:j]` | same as `s[i:j] = []` |\n",
    "| `s[i:j:k] = t` | the elements of `s[i:j:k]` are replaced by those of `t` |\n",
    "| `del s[i:j:k]` | removes the elements of `s[i:j:k]` from the list |\n",
    "| `s.append(x)` | appends *x* to the end of the sequence (same as `s[len(s):len(s)] = [x]`) |\n",
    "| `s.clear()` | removes all items from *s* (same as `del s[:]`) |\n",
    "| `s.copy()` | creates a shallow copy of *s* (same as `s[:]`) |\n",
    "|`s.extend(t)` or `s += t` | extends *s* with the contents of *t* (for the most part the same as `s[len(s):len(s)] = t`) |\n",
    "| `s *= n` | updates *s* with its contents repeated *n* times |\n",
    "| `s.insert(i, x)` | inserts *x* into *s* at the index given by *i* (same as `s[i:i] = [x]`) |\n",
    "| `s.pop()` or `s.pop(i)` | retrieves the item at *i* and also removes it from *s* |\n",
    "| `s.remove(x)` | remove the first item from *s* where `s[i]` is equal to *x* |\n",
    "| `s.reverse()` | reverses the items of *s* in place |\n",
    "\n",
    "Lists also provide the following additional method:\n",
    "> `sort(*, key=None, reverse=False)`\n",
    "\n",
    "This method sorts the list in place, using only `<` comparisons between items (ascending).  \n",
    "`sort()` accepts two arguments that can only be passed by keyword (keyword-only arguments):\n",
    "\n",
    "***key*** specifies a function of one argument that is used to extract a comparison key from each list element (for example, key=str.lower). The key corresponding to each item in the list is calculated once and then used for the entire sorting process. The default value of None means that list items are sorted directly without calculating a separate key value.\n",
    "\n",
    "***reverse*** is a boolean value. If set to True, then the list elements are sorted as if each comparison were reversed (`>`, descending).\n"
   ]
  },
  {
   "cell_type": "markdown",
   "id": "12a912de-2a10-45a5-9389-812a68e97c58",
   "metadata": {},
   "source": [
    "### [+] Immutable Sequence : Tuple\n",
    "\n",
    "Tuples are immutable sequences, typically used to store collections of heterogeneous data. Tuples are used for cases where an immutable sequence of homogeneous data is needed (such as allowing storage in a set or dict instance).\n",
    "\n",
    "Tuples may be constructed in a number of ways:\n",
    "> - Using a pair of parentheses to denote the empty tuple: `()`  \n",
    "> - Using a trailing comma for a singleton tuple: `a,` or `(a,)`  \n",
    "> - Separating items with commas: `a, b, c` or `(a, b, c)`  \n",
    "> - Using the `tuple()`  \n",
    "\n",
    "Tuples implement all of the common sequence operations.\n"
   ]
  },
  {
   "cell_type": "markdown",
   "id": "2437afa7-2817-4a24-8b2e-d8debf728d37",
   "metadata": {},
   "source": [
    "### [+] Immutable Sequence : Range\n",
    "\n",
    "The range type represents an immutable sequence of numbers and is commonly used for looping a specific number of times in `for` loops.\n",
    "\n",
    "There are **two** ways to implement  \n",
    "1. `range(stop)`\n",
    "2. `range(start, stop[, step])`    \n",
    "**start** : The value of the start parameter (or 0 if the parameter was not supplied)  \n",
    "**stop** : The value of the stop parameter  \n",
    "**step** : The value of the step parameter (or 1 if the parameter was not supplied)  \n",
    "\n",
    "For a positive step, the contents of a range `r` are determined by the formula `r[i] = start + step*i` where `i >= 0 and r[i] < stop`.\n",
    "\n",
    "For a negative step, the contents of the range are still determined by the formula `r[i] = start + step*i`, but the constraints are `i >= 0 and r[i] > stop`.  \n",
    "\n",
    "The advantage of the range type over a regular list or tuple is that a range object will always take the same (small) amount of memory, no matter the size of the range it represents (as it only stores the start, stop and step values, calculating individual items and subranges as needed)."
   ]
  },
  {
   "cell_type": "code",
   "execution_count": 12,
   "id": "eeea6e3d-b4fa-47eb-90b0-b64a052b6e79",
   "metadata": {},
   "outputs": [
    {
     "name": "stdout",
     "output_type": "stream",
     "text": [
      "[11, 9, 7, 5, 3]\n"
     ]
    }
   ],
   "source": [
    "my_range = list(range(11,1, -2))\n",
    "print(my_range)"
   ]
  },
  {
   "cell_type": "code",
   "execution_count": 13,
   "id": "aa78d35a-a054-4408-8f74-d280fa3c6a32",
   "metadata": {},
   "outputs": [
    {
     "name": "stdout",
     "output_type": "stream",
     "text": [
      "[12, 67, 58, 39]\n",
      "[67, 58, 39, 12]\n",
      "[67, 58, 39, 12, 67, 58, 39, 12]\n",
      "[0, 10, 1, 11, 2, 12, 3, 13, 4, 14]\n",
      "b: [67, 58, 89999, 12]\n",
      "o: [67, 58, 89999, 12]\n",
      "[-45, 58, 89999, 12]\n",
      "[67, -99, 89999, 12]\n"
     ]
    }
   ],
   "source": [
    "mylist = [12, 67, 58, 39]\n",
    "mylist2 = []\n",
    "for i in range(5):\n",
    "    mylist2.append(i)\n",
    "    mylist2+= [(i+10)]\n",
    "'''\n",
    "print(mylist)\n",
    "print(mylist.index(58))\n",
    "print(mylist2)\n",
    "print(10 in mylist2)\n",
    "'''\n",
    "\n",
    "for i in range(len(mylist)):\n",
    "    if mylist[i] == 84:\n",
    "        print(\"value found at index\", i + \".\")\n",
    "\n",
    "print(mylist)\n",
    "mylist.sort(reverse = True) #default value for reverse is false #function version of mylist.sort() is sorted(mylist)\n",
    "\n",
    "print(mylist)\n",
    "print(mylist * 2)\n",
    "print(mylist2)\n",
    "\n",
    "#shallow copy (its just a shortcut for og)\n",
    "mylist2 = mylist #memory address makes mylist2 just a shortcut for mylist\n",
    "mylist2[2] = 89999 \n",
    "\n",
    "print(\"b:\", mylist2)\n",
    "print(\"o:\", mylist)\n",
    "\n",
    "#deep copy (has its own properties)\n",
    "mylist3 = mylist.copy() #function version of mylist.copy() is list(mylist)\n",
    "mylist3[0] = -45\n",
    "\n",
    "print(mylist3)\n",
    "    #method 2 (slicing)\n",
    "mylist4 = mylist[::]\n",
    "mylist4[1] = -99\n",
    "\n",
    "print(mylist4)\n",
    "    "
   ]
  },
  {
   "cell_type": "code",
   "execution_count": 38,
   "id": "5917aeee-989c-45c4-ba3a-3bc6c5d36a46",
   "metadata": {},
   "outputs": [
    {
     "name": "stdout",
     "output_type": "stream",
     "text": [
      "{'brand': 'Ford', 'model': 'Mustang'}\n",
      "year: 1964\n"
     ]
    }
   ],
   "source": [
    "car =\t{\n",
    "  \"brand\": \"Ford\",\n",
    "  \"model\": \"Mustang\",\n",
    "  \"year\": 1964\n",
    "}\n",
    "\n",
    "x = car.pop('year')\n",
    "print(car,'year: '+ str(x) ,sep = '\\n')"
   ]
  },
  {
   "cell_type": "code",
   "execution_count": 5,
   "id": "5f87b1c2-807c-4617-9772-905bfdd6b93c",
   "metadata": {
    "scrolled": true
   },
   "outputs": [
    {
     "name": "stdout",
     "output_type": "stream",
     "text": [
      "left aligned                                                          \n",
      "                                                         right aligned\n",
      "                               centered                               \n",
      "*******************************centered*******************************\n",
      "\n"
     ]
    }
   ],
   "source": [
    "# alignment\n",
    "print('{:<70}'.format('left aligned'))\n",
    "print('{:>70}'.format('right aligned'))\n",
    "print('{:^70}'.format('centered'))\n",
    "print('{:*^70}'.format('centered'))  # use * as a fill char\n",
    "print()\n"
   ]
  },
  {
   "cell_type": "code",
   "execution_count": 12,
   "id": "018d9d20-d867-44d3-a351-cd218e219c44",
   "metadata": {},
   "outputs": [
    {
     "name": "stdout",
     "output_type": "stream",
     "text": [
      "Jello World\n"
     ]
    }
   ],
   "source": [
    "txt = \"Hello World\"\n",
    "txt = txt.replace(\"H\", \"J\")\n",
    "print(txt)"
   ]
  },
  {
   "cell_type": "code",
   "execution_count": null,
   "id": "31170492-fbb2-492f-a08f-92d91ea2ee51",
   "metadata": {},
   "outputs": [],
   "source": []
  }
 ],
 "metadata": {
  "kernelspec": {
   "display_name": "Python 3 (ipykernel)",
   "language": "python",
   "name": "python3"
  },
  "language_info": {
   "codemirror_mode": {
    "name": "ipython",
    "version": 3
   },
   "file_extension": ".py",
   "mimetype": "text/x-python",
   "name": "python",
   "nbconvert_exporter": "python",
   "pygments_lexer": "ipython3",
   "version": "3.8.18"
  }
 },
 "nbformat": 4,
 "nbformat_minor": 5
}
