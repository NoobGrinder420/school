{
 "cells": [
  {
   "cell_type": "markdown",
   "id": "dbef2849-9db8-46d9-ab72-f6b508cfe630",
   "metadata": {},
   "source": [
    "## Computing+ Secondary 3 Class Test 2\n",
    "### Instructions\n",
    "1. Rename this file to **2024S3CT2_class_index.ipynb**, where class is a 3-digits number of your class and index is a 2-digits number of your index (with leading 0 if necessary). E.g. 2024S3CT2_302_03.ipynb  \n",
    "2. Turn off your LD's Wi-Fi and Bluetooth.\n",
    "3. Close all other tabs in JupyterLab.\n",
    "4. The duration of this test is **50 minutes**.\n",
    "5. After the test duration, turn on your LD's Wi-Fi and submit this file in Google Classroom.\n"
   ]
  },
  {
   "cell_type": "markdown",
   "id": "63d13f83-7ebd-41f5-939c-f4c4c77b3b63",
   "metadata": {},
   "source": [
    "### Task 1a : Square Integers\n",
    "\n",
    "In wireless communication, the signal strength decreases as the distance from the transmitter increases. The decrease is proportional to the square of the distance, which is known as the inverse square law.\n",
    "\n",
    "Let *dist* be an infinite set of square integers : {1, 4, 9, 16, 25, ...}, describing each step of signal loss, where *x* is the distance from the transmitter to receiver.\n",
    "\n",
    "Write a user-defined function, `signal_loss(x)`, where *x* is an integer, that find the number of square integers less than *x*. \n",
    "`signal_loss(x)` will return an integer.\n",
    "\n",
    "E.g.  \n",
    "*x* = 10 returns `3`.  \n",
    "[4m]"
   ]
  },
  {
   "cell_type": "code",
   "execution_count": 7,
   "id": "3ba4caac-a0c7-46bd-9030-7c0092486425",
   "metadata": {
    "scrolled": true
   },
   "outputs": [
    {
     "name": "stdin",
     "output_type": "stream",
     "text": [
      " 16\n"
     ]
    },
    {
     "data": {
      "text/plain": [
       "3"
      ]
     },
     "execution_count": 7,
     "metadata": {},
     "output_type": "execute_result"
    }
   ],
   "source": [
    "# Task 1a answer\n",
    "\n",
    "def signal_loss(x):\n",
    "    for i in range(x):\n",
    "        if i**2 < x: \n",
    "            #if i^2 is less than x, the maximum number of square integers might not have been reached\n",
    "            continue # continue counting\n",
    "        elif i**2 == x: \n",
    "            #if i^2 is equal to x, the maximum number of square integers is i\n",
    "            return(i-1)\n",
    "            break\n",
    "        elif i**2 > x: \n",
    "            #if i^2 is equal to x, the maximum number of square integers has been reached in the previous loop\n",
    "            return(i-1) #therefore number of square integers less than x is i - 1 (the value of i in the previous loop)\n",
    "            break\n",
    "\n",
    "signal_loss(int(input()))"
   ]
  },
  {
   "cell_type": "markdown",
   "id": "0b96a81f-ff4a-4abb-b9ed-b164aadc30e5",
   "metadata": {},
   "source": [
    "### Task 1b : UI\n",
    "Write a simple User Interface to do the following:\n",
    "- Ask user to input a number, *x*.  \n",
    "- Use `signal_loss()` and display the number of square integers in *dist* that are less than *x*.\n",
    "- Repeatedly ask if the user wants to enter another number. \n",
    "- Quit the program when the user indicates that he or she does not want to enter another number.  \n",
    "\n",
    "Appropriate input and output prompts must be included.  \n",
    "[6m]"
   ]
  },
  {
   "cell_type": "code",
   "execution_count": 14,
   "id": "d2aa3829-9193-4b54-8576-a0b85c2c878b",
   "metadata": {},
   "outputs": [
    {
     "name": "stdin",
     "output_type": "stream",
     "text": [
      "Please enter the value of x:  10\n"
     ]
    },
    {
     "name": "stdout",
     "output_type": "stream",
     "text": [
      "The number of square integers that are less than x in the set dist are: 3\n"
     ]
    },
    {
     "name": "stdin",
     "output_type": "stream",
     "text": [
      "Do you want to enter another number? (Y/N):  16\n"
     ]
    },
    {
     "name": "stdout",
     "output_type": "stream",
     "text": [
      "Stopping programme\n"
     ]
    }
   ],
   "source": [
    "# Task 1b answer\n",
    "while 1 ==1:\n",
    "    x = int(input('Please enter the value of x: '))\n",
    "    print(\"The number of square integers that are less than x in the set dist are: \"+ str(signal_loss(x)))\n",
    "\n",
    "    cont = input('Do you want to enter another number? (Y/N): ')\n",
    "    if cont.upper() == 'YES' or cont.upper() == 'Y': #repeat programme if user enters y or yes\n",
    "        continue\n",
    "    else: #quits programme if user presses n or syntax error\n",
    "        print('Quitting programme') \n",
    "        break\n"
   ]
  },
  {
   "cell_type": "markdown",
   "id": "a6f20771-d748-4274-b2b0-de1286489d5d",
   "metadata": {},
   "source": [
    "#### Task 2a : Repetitive Pattern\n",
    "String Matching is the classical and existing problem. String matching strategies or algorithms provide a key role in various real world problems or applications. A few of its imperative applications are Spell Checkers, Spam Filters, Intrusion Detection System, Search Engines, Plagiarism Detection, Bioinformatics, Digital Forensics and Information Retrieval Systems etc.\n",
    "\n",
    "A message, *s*, may contain corrupted characters during the transmission process (e.g. due to signal loss). Some clean-up processes may be employed to improve message integrity.\n",
    "\n",
    "Write a user-defined function, `is_repetitive(s)`, where *s* is a string. The function will **only retain all characters that are letters and numbers**. All characters will be converted to lower case. The string *s* is said to have a repetitive pattern if both the halves of *s* are the same. If the length of *s* is odd, then the character in the middle of *s* is ignored. If *s* has a repetitive pattern, `is_repetitive(s)` will return the Boolean value `True`, and otherwise return `False`. Strings with 1 or less character will also return `False`.\n",
    "\n",
    "E.g.   \n",
    "\"SGD$5S GD5\" returns `True`.  \n",
    "\"abcdabc\" returns `True`.  \n",
    "\"SST10SST\" returns `False`.  \n",
    "[6m]"
   ]
  },
  {
   "cell_type": "code",
   "execution_count": 1,
   "id": "40b13be1-c88c-4f6c-8bc2-b6f74a15c8d6",
   "metadata": {},
   "outputs": [
    {
     "name": "stdout",
     "output_type": "stream",
     "text": [
      "False\n"
     ]
    }
   ],
   "source": [
    "# Task 2a answer\n",
    "def is_repetitive(s):\n",
    "    listOfLetters = []\n",
    "    for i in s:\n",
    "        if i.isalnum()==True:\n",
    "            if i.isdigit()==False:\n",
    "                listOfLetters.append(i.lower())\n",
    "            else: \n",
    "                listOfLetters.append(i)\n",
    "\n",
    "\n",
    "    if len(listOfLetters)%2!=0:\n",
    "        listOfLetters.pop(int((len(listOfLetters))/2))\n",
    "        \n",
    "\n",
    "    for i in range(int((len(listOfLetters))/2)):\n",
    "        \n",
    "        if listOfLetters[i] == listOfLetters[int(((len(listOfLetters))/2)+i)]:\n",
    "            continue\n",
    "            \n",
    "        else:\n",
    "            return(False)\n",
    "            break\n",
    "    else:\n",
    "        return(True)\n",
    "\n",
    "print(is_repetitive('SST10SST'))\n"
   ]
  },
  {
   "cell_type": "markdown",
   "id": "e9f186fb-7c54-47aa-875f-fc4cf0f74e7c",
   "metadata": {},
   "source": [
    "#### Task 2b : FileIO\n",
    "In the file **Task2B_data.txt**, the first line contains a number, *n*.  \n",
    "Subsequently, there are *n* number of lines, each contains a string.  \n",
    "\n",
    "Write a program to read in **Task2B_data.txt**. For each string, display if the string has a repetitive pattern.  \n",
    "\n",
    "Your program should use the `is_repetitive(s)` function.\n",
    "\n",
    "Appropriate output prompts must be included.  \n",
    "[4m]"
   ]
  },
  {
   "cell_type": "code",
   "execution_count": 3,
   "id": "6246c57a-5ca5-45fa-9b27-b7c58a61c2c0",
   "metadata": {},
   "outputs": [
    {
     "name": "stdout",
     "output_type": "stream",
     "text": [
      "SGD$5S GD5 True\n",
      "abcdabc True\n",
      "SST10SST is not\n",
      "comp+comp+ True\n",
      "Best666Best665 is not\n",
      " True\n",
      "aeiou. aei o True\n",
      "thismessageisbroughttoyoubyCP+thismessageisbroughtoyoubyCP is not\n",
      "A True\n",
      "glhf^^ glhf=) True\n",
      "COVID-19xCOVID19 True\n",
      "theLastLineth()$eLastLine True\n"
     ]
    }
   ],
   "source": [
    "with open('Task2B_data.txt') as fin:\n",
    "    list = [i.strip() for i in fin.readlines()]\n",
    "    list.pop(0)\n",
    "\n",
    "    for i in range(len(list)):\n",
    "        if is_repetitive(list[i].strip()) == True:\n",
    "            prompt = 'is'\n",
    "            print(list[i], is_repetitive(list[i].strip()))\n",
    "        else:\n",
    "            prompt = 'is not'\n",
    "            print(list[i], prompt)\n",
    "\n",
    "    \n",
    "        #print(f'{list[i]} {prompt} repetitive')"
   ]
  },
  {
   "cell_type": "code",
   "execution_count": 40,
   "id": "afdfee1f-c350-4151-a5dc-30b54a440f2f",
   "metadata": {},
   "outputs": [],
   "source": []
  },
  {
   "cell_type": "code",
   "execution_count": 41,
   "id": "cadfaf45-2795-4ce7-a248-2c6ee785023d",
   "metadata": {},
   "outputs": [
    {
     "name": "stdout",
     "output_type": "stream",
     "text": [
      "5\n"
     ]
    }
   ],
   "source": []
  },
  {
   "cell_type": "code",
   "execution_count": null,
   "id": "f6536b41-b6b2-4b87-86c7-f18058e6d548",
   "metadata": {},
   "outputs": [],
   "source": []
  }
 ],
 "metadata": {
  "kernelspec": {
   "display_name": "Python 3 (ipykernel)",
   "language": "python",
   "name": "python3"
  },
  "language_info": {
   "codemirror_mode": {
    "name": "ipython",
    "version": 3
   },
   "file_extension": ".py",
   "mimetype": "text/x-python",
   "name": "python",
   "nbconvert_exporter": "python",
   "pygments_lexer": "ipython3",
   "version": "3.8.18"
  }
 },
 "nbformat": 4,
 "nbformat_minor": 5
}
