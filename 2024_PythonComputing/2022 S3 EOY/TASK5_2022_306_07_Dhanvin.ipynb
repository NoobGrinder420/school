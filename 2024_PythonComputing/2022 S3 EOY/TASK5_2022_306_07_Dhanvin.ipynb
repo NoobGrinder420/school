{
 "cells": [
  {
   "cell_type": "code",
   "execution_count": 3,
   "id": "95ef1894-5bd1-46ff-b340-11b63ac22996",
   "metadata": {},
   "outputs": [],
   "source": [
    "# 2022 S3 EOY TASK 5\n",
    "# Save the file as TASK5_2022_<your class>_<index number>_<your name>.ipynb\n",
    "\n",
    "# Q11 : MAKEPLAIN\n",
    "\n",
    "def makeplain(s):\n",
    "    chars = [c.upper() for c in s if c.isalpha()]\n",
    "    T = ''.join(chars)\n",
    "    return T\n"
   ]
  },
  {
   "cell_type": "code",
   "execution_count": 148,
   "id": "3b3dcfb9-2011-4176-8819-d79aa59b9eaa",
   "metadata": {},
   "outputs": [
    {
     "name": "stdout",
     "output_type": "stream",
     "text": [
      "TSSSMT GHISC PIIST OUN  \n"
     ]
    }
   ],
   "source": [
    "# Q12 : TCENCRYPT\n",
    "\n",
    "def tcencrypt(plaintext):\n",
    "    T = makeplain(plaintext)\n",
    "\n",
    "    r1 = [T[i] for i in range(0,len(T),3)]\n",
    "    r2 = [T[i] for i in range(1,len(T),3)]\n",
    "    r3 = [T[i] for i in range(2,len(T),3)]\n",
    "    encrypted = r1+r2+r3\n",
    "    display = encrypted\n",
    "    add = 0\n",
    "    i = 0\n",
    "\n",
    "    while i < len(display)+add:\n",
    "        i+=6\n",
    "        display.insert(i, \" \")\n",
    "        add+=1\n",
    "\n",
    "    return ''.join(display).lstrip()\n",
    "\n",
    "print(tcencrypt(\"This is SST’s Computing+\"))"
   ]
  },
  {
   "cell_type": "code",
   "execution_count": 124,
   "id": "e73e139f-1edc-487c-a2b3-090bb47f6abe",
   "metadata": {},
   "outputs": [
    {
     "name": "stdout",
     "output_type": "stream",
     "text": [
      "THISISSSTSCOMPUTING\n"
     ]
    }
   ],
   "source": [
    "# Q14 : TCDECRYPT\n",
    "\n",
    "def tcdecrypt(ciphertext):\n",
    "    \n",
    "    cText = \"\"\n",
    "    \n",
    "    for i in ciphertext:\n",
    "        if i != \" \":\n",
    "            cText += i\n",
    "\n",
    "    r3Len = len(cText)//3\n",
    "    if len(cText)%3==1:\n",
    "        r1Len = len(cText)//3 + 1\n",
    "        r2Len = len(cText)//3\n",
    "        \n",
    "    elif len(cText)%3==2:\n",
    "        r1Len = len(cText)//3 + 1\n",
    "        r2Len = len(cText)//3 + 1\n",
    "        \n",
    "    else: \n",
    "        r1Len = len(cText)//3\n",
    "        r2Len = len(cText)//3\n",
    "\n",
    "    r1 = [cText[i] for i in range(r1Len)]\n",
    "    r2 = [cText[i] for i in range(r1Len, r1Len+r2Len)]\n",
    "    r3 = [cText[i] for i in range(r1Len+r2Len, r1Len+r2Len+r3Len)]\n",
    "\n",
    "    pText= []\n",
    "\n",
    "    for i in range(r1Len):   \n",
    "        pText += [[r1[i], '', '']]\n",
    "\n",
    "    for i in range(r2Len):\n",
    "        pText[i][1] = r2[i]\n",
    "\n",
    "    for i in range(r3Len):\n",
    "        pText[i][2] = r3[i]\n",
    "\n",
    "    pText = ''.join([''.join([pText[i][0], pText[i][1], pText[i][2]]) for i in range(len(pText))])\n",
    "    \n",
    "\n",
    "    return pText\n",
    "    \n",
    "\n",
    "print(tcdecrypt(\"TSSSM TGHIS CPIIS TOUN\"))"
   ]
  },
  {
   "cell_type": "code",
   "execution_count": null,
   "id": "81cdf469-0bbd-4929-b139-343913852ce4",
   "metadata": {},
   "outputs": [
    {
     "name": "stdout",
     "output_type": "stream",
     "text": [
      "###########################\n",
      "#        Main Menu        #\n",
      "###########################\n",
      "\n"
     ]
    },
    {
     "name": "stdin",
     "output_type": "stream",
     "text": [
      "Choose \"Encrypt\", \"Decrypt\" or \"Quit\":  Encrypt\n"
     ]
    },
    {
     "name": "stdout",
     "output_type": "stream",
     "text": [
      "\n",
      "\n",
      "\n",
      "###########################\n",
      "#         Encrypt         #\n",
      "###########################\n",
      "\n"
     ]
    }
   ],
   "source": [
    "# Q13 & Q15 : TCMYUI / TCMYUI2\n",
    "\n",
    "def main():\n",
    "    print(\"###########################\")\n",
    "    print(\"#        Main Menu        #\")\n",
    "    print(\"###########################\\n\")\n",
    "    option = input(\"Choose \\\"Encrypt\\\", \\\"Decrypt\\\" or \\\"Quit\\\": \")\n",
    "    print(\"\\n\\n\")\n",
    "\n",
    "    if option == \"Encrypt\": Encrypt()\n",
    "    elif option == \"Decrypt\": Decrypt()\n",
    "    else:\n",
    "        print(\"Quitting Programme... \")\n",
    "        return 0\n",
    "\n",
    "def Encrypt():\n",
    "    print(\"###########################\")\n",
    "    print(\"#         Encrypt         #\")\n",
    "    print(\"###########################\\n\")\n",
    "\n",
    "    cont = False\n",
    "    \n",
    "    while True:\n",
    "        pText = input(\"Please enter a plaintext to encrypt: \")\n",
    "        \n",
    "        for i in pText:\n",
    "            if i.isdigit():\n",
    "                print(\"Please enter a valid plaintext without any numerals\")\n",
    "                cont = True\n",
    "                break\n",
    "\n",
    "        if cont:\n",
    "            cont = False\n",
    "            continue\n",
    "        \n",
    "        print(\"\\nEncrypting...\")\n",
    "        print(f\"Encrypted ciphertext is {tcencrypt(pText)}\")\n",
    "        break\n",
    "\n",
    "    \n",
    "    print(\"\\nReturning to Main Menu... \\n\\n\")\n",
    "    main()\n",
    "\n",
    "def Decrypt():\n",
    "    print(\"###########################\")\n",
    "    print(\"#         Decrypt         #\")\n",
    "    print(\"###########################\\n\")\n",
    "\n",
    "    \n",
    "    cText = input(\"Please enter a ciphertext to Decrypt: \")\n",
    "    \n",
    "    print(\"\\nDecrypting...\")\n",
    "    print(f\"Decrypted plaintext is {tcdecrypt(cText)}\")\n",
    "\n",
    "    \n",
    "    print(\"\\nReturning to Main Menu... \\n\\n\")\n",
    "    main()\n",
    "    \n",
    "main()"
   ]
  },
  {
   "cell_type": "code",
   "execution_count": null,
   "id": "e540cb80-b074-46d1-b33d-4594c5b562a9",
   "metadata": {},
   "outputs": [],
   "source": [
    "# Q16 : This is previously a screenshot question, instead, run your program and \n",
    "# type in both inputs and leave the displayed output \n",
    "# plaintext: \"tl;dr I have reached the end of the paper!\"\n",
    "# ciphertext: \"NEOAVOPVGNEEOERNGEUNEOATOWVGNIYUERNLYDN\""
   ]
  }
 ],
 "metadata": {
  "kernelspec": {
   "display_name": "Python 3 (ipykernel)",
   "language": "python",
   "name": "python3"
  },
  "language_info": {
   "codemirror_mode": {
    "name": "ipython",
    "version": 3
   },
   "file_extension": ".py",
   "mimetype": "text/x-python",
   "name": "python",
   "nbconvert_exporter": "python",
   "pygments_lexer": "ipython3",
   "version": "3.8.18"
  }
 },
 "nbformat": 4,
 "nbformat_minor": 5
}
