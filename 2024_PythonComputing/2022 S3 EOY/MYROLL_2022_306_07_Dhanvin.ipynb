{
 "cells": [
  {
   "cell_type": "code",
   "execution_count": null,
   "id": "39364992-4d0a-4f19-8f78-d47c7ae097a4",
   "metadata": {},
   "outputs": [
    {
     "name": "stdin",
     "output_type": "stream",
     "text": [
      "Enter your roll string:  4d6 +2d8 +10\n"
     ]
    },
    {
     "name": "stdout",
     "output_type": "stream",
     "text": [
      "4d6 \t>>> + 6 + 1 + 3 + 6  = 16\n",
      "2d8 \t>>> + 5 + 5  = 10\n",
      "Bonus\t>>> +10\n",
      "Grand total : 36\n"
     ]
    },
    {
     "name": "stdin",
     "output_type": "stream",
     "text": [
      "\n",
      "Q to quit, any key to continue... q\n",
      "Enter your roll string:  2d4\n"
     ]
    },
    {
     "name": "stdout",
     "output_type": "stream",
     "text": [
      "2d4\t>>> + 3 + 3  = 6\n",
      "Grand total : 6\n"
     ]
    }
   ],
   "source": [
    "# 2022 S3 EOY TASK 2 : ROLL\n",
    "# Save the file as MYROLL_2022_<your class>_<index number>_<your name>.ipynb\n",
    "\n",
    "import random\n",
    "\n",
    "cont = \"N\"\n",
    "#while cont == \"Q\":                              ## logic error\n",
    "while cont != \"Q\":\n",
    "    dice_rolls = input(\"Enter your roll string: \").split(\"+\")\n",
    "    grandtotal = 0\n",
    "    #for roll in range(dice_rolls):              ## syntax error\n",
    "    for roll in dice_rolls:\n",
    "        #if roll in \"d\":                         ## logic error\n",
    "        if \"d\" in roll:      \n",
    "            num, dice_type = roll.split(\"d\")\n",
    "            total = 0\n",
    "            #print(\"{}d{}\\t>>> \".format(dice_type, num), end = \"\")   ## logic error\n",
    "            print(\"{}d{}\\t>>> \".format(num, dice_type), end = \"\")\n",
    "            #for _ in range(num):                ## syntax error\n",
    "            for _ in range(int(num)):\n",
    "                #temp = randint(1, int(dice_type)) ## syntax error\n",
    "                temp = random.randint(1, int(dice_type))\n",
    "                #total = temp                     ## logic error\n",
    "                total += temp\n",
    "                print(\"+ {}\".format(temp), end = \" \")\n",
    "            grandtotal += total\n",
    "            print(\" = {}\".format(total))        \n",
    "        else:\n",
    "            print(\"Bonus\\t>>> +{}\".format(roll))\n",
    "            #grandtotal *= int(roll)              ## logic error\n",
    "            grandtotal += int(roll)\n",
    "    #print(\"Grand total :\".format(grandtotal))    ## syntax error\n",
    "    print(\"Grand total : {}\".format(grandtotal)) \n",
    "#cont = input(\"\\nQ to quit, any key to continue...\") ## syntax error (indentation)\n",
    "    cont = input(\"\\nQ to quit, any key to continue...\")"
   ]
  },
  {
   "cell_type": "code",
   "execution_count": null,
   "id": "63bddcb0-0bc2-4fbc-bd0d-3f9f455078a4",
   "metadata": {},
   "outputs": [],
   "source": []
  }
 ],
 "metadata": {
  "kernelspec": {
   "display_name": "Python 3 (ipykernel)",
   "language": "python",
   "name": "python3"
  },
  "language_info": {
   "codemirror_mode": {
    "name": "ipython",
    "version": 3
   },
   "file_extension": ".py",
   "mimetype": "text/x-python",
   "name": "python",
   "nbconvert_exporter": "python",
   "pygments_lexer": "ipython3",
   "version": "3.8.18"
  }
 },
 "nbformat": 4,
 "nbformat_minor": 5
}
