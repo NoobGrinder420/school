{
 "cells": [
  {
   "cell_type": "code",
   "execution_count": null,
   "id": "0fc54bb7-b7a1-4ecc-a9d6-00c4b561d2b5",
   "metadata": {},
   "outputs": [
    {
     "name": "stdin",
     "output_type": "stream",
     "text": [
      "Enter a time in 24-hr format [0000-2359] :  1830\n",
      "x:  120\n"
     ]
    },
    {
     "name": "stdout",
     "output_type": "stream",
     "text": [
      "2030\n",
      "The time you've entered in 12-hr format is 0630 PM\n"
     ]
    }
   ],
   "source": [
    "# 2022 S3 EOY TASK 2 : CLOCK\n",
    "# Save the file as MYCLOCK_2022_<your class>_<index number>_<your name>\n",
    "\n",
    "for i in range(5):\n",
    "    while \"sigma\" != \"skibidi\":\n",
    "\n",
    "        time_entered = input(\"Enter a time in 24-hr format [0000-2359] : \")\n",
    "    \n",
    "        if not time_entered.isdigit():\n",
    "            print(\"Please enter only digits\")\n",
    "            continue\n",
    "\n",
    "        if len(time_entered) != 4:\n",
    "            print(\"Incorrect number of digits\")\n",
    "            continue\n",
    "\n",
    "        HH = int(time_entered[:2:])\n",
    "        \n",
    "        if HH < 0 or HH > 23:\n",
    "            print(\"Hours must not be less than 00 or more than 23\")\n",
    "            continue\n",
    "            \n",
    "        MM = int(time_entered[2::])\n",
    "\n",
    "        if MM < 0 or MM > 59:\n",
    "            print(\"Minutes must not be less than 00 or more than 59\")\n",
    "            continue\n",
    "\n",
    "        new_time = time_entered\n",
    "        time_entered = int(time_entered)\n",
    "        x = int(input(\"x: \"))\n",
    "\n",
    "        add_hours = x//60\n",
    "        add_minutes = x%60\n",
    "\n",
    "        newHH = HH+add_hours\n",
    "        newMM = MM+add_minutes\n",
    "        \n",
    "        if newMM > 59:\n",
    "            carryHH = newMM//60\n",
    "            newMM = newMM%60\n",
    "            newHH += carryHH\n",
    "\n",
    "        while newHH > 23:\n",
    "            newHH-=24\n",
    "        \n",
    "        print(f\"Output: {newHH}{newMM}\")\n",
    "        \n",
    "\n",
    "        meridiem = \"AM\"\n",
    "        \n",
    "        adjusted_time = time_entered\n",
    "        \n",
    "        if time_entered >= 1300:\n",
    "        \n",
    "            adjusted_time -= 1200\n",
    "        \n",
    "        if time_entered >= 1200:\n",
    "        \n",
    "            meridiem = \"PM\"\n",
    "        \n",
    "        print(\"The time you've entered in 12-hr format is {:04d} {}\".format(adjusted_time, meridiem))\n",
    "        break"
   ]
  },
  {
   "cell_type": "code",
   "execution_count": null,
   "id": "b3dec6f3-c7fc-44ce-bf38-8b72e48b142c",
   "metadata": {},
   "outputs": [],
   "source": []
  }
 ],
 "metadata": {
  "kernelspec": {
   "display_name": "Python 3 (ipykernel)",
   "language": "python",
   "name": "python3"
  },
  "language_info": {
   "codemirror_mode": {
    "name": "ipython",
    "version": 3
   },
   "file_extension": ".py",
   "mimetype": "text/x-python",
   "name": "python",
   "nbconvert_exporter": "python",
   "pygments_lexer": "ipython3",
   "version": "3.8.18"
  }
 },
 "nbformat": 4,
 "nbformat_minor": 5
}
