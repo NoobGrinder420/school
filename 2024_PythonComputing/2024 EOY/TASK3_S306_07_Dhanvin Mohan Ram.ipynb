{
 "cells": [
  {
   "cell_type": "markdown",
   "id": "9JpnwhJjgPiX",
   "metadata": {
    "id": "9JpnwhJjgPiX"
   },
   "source": [
    "**Task 3.1**\n",
    "\n",
    "[1/1] Slice or Split the date correctly\n",
    "\n",
    "[1/1] Correct length check\n",
    "\n",
    "[1/1] Correct format check for delimiter\n",
    "\n",
    "[0/1] Correct range check for day\n",
    "\n",
    "[1/1] Correct range check for month\n",
    "\n",
    "\n",
    "**Task 3.2**\n",
    "\n",
    "[0/1] Add 30 for days if days is negative\n",
    "\n",
    "[0/1] Subtract 1 for months if days is negative\n",
    "\n",
    "[0/1] Add 12 for months if months is negative\n",
    "\n",
    "[0/1] Subtract 1 for years if months is negative\n",
    "\n",
    "[0/1] Error message for years is negative\n"
   ]
  },
  {
   "cell_type": "code",
   "execution_count": null,
   "id": "bbb7d720-69e6-41ce-8c60-e4e3c11b488a",
   "metadata": {
    "id": "bbb7d720-69e6-41ce-8c60-e4e3c11b488a",
    "outputId": "2f0e9b3e-601d-44ad-ee2d-c48a1cf15133",
    "tags": []
   },
   "outputs": [
    {
     "name": "stdin",
     "output_type": "stream",
     "text": [
      "Enter today's date (DD/MM/YYYY):  03/07/2024\n",
      "Enter date of birth (DD/MM/YYYY):  03/08/2009\n"
     ]
    },
    {
     "name": "stdout",
     "output_type": "stream",
     "text": [
      "The age is 15 years, 1 months and 0 days.\n"
     ]
    }
   ],
   "source": [
    "#TASK 3.2\n",
    "def validate_date(date):\n",
    "    if len(date) != 10:\n",
    "        return False\n",
    "    if not date[2] == '/' and date[5] == '/':\n",
    "        return False\n",
    "    DD,MM,YYYY = date.split('/')\n",
    "    if not 1 <= int(DD) <= 10:\n",
    "        return False\n",
    "    if not 1 <= int(MM) <= 12:\n",
    "        return False\n",
    "\n",
    "    return True\n",
    "\n",
    "def calculate_age(tdy, dob):\n",
    "    d_tdy, m_tdy, y_tdy = int(tdy[0]), int(tdy[1]), int(tdy[2])\n",
    "    d_dob, m_dob, y_dob = int(dob[0]), int(dob[1]), int(dob[2])\n",
    "\n",
    "    d_age = abs(d_tdy - d_dob)\n",
    "    m_age = abs(m_tdy - m_dob)\n",
    "    y_age = y_tdy - y_dob\n",
    "\n",
    "    return d_age, m_age, y_age\n",
    "\n",
    "input_tdy = input(\"Enter today's date (DD/MM/YYYY): \")\n",
    "input_dob = input(\"Enter date of birth (DD/MM/YYYY): \")\n",
    "\n",
    "if validate_date(input_tdy) and validate_date(input_dob):\n",
    "    tdy = input_tdy.split('/')\n",
    "    dob = input_dob.split('/')\n",
    "    d, m, y = calculate_age(tdy, dob)\n",
    "    print(\"The age is {} years, {} months and {} days.\".format(y, m, d))\n",
    "else:\n",
    "    print(\"You have entered an invalid date. This program will be terminated.\")"
   ]
  },
  {
   "cell_type": "code",
   "execution_count": null,
   "id": "ad017a53-d1f6-4ce7-b2b2-1c83bbea0b1a",
   "metadata": {
    "id": "ad017a53-d1f6-4ce7-b2b2-1c83bbea0b1a",
    "outputId": "45749f35-43fa-49ce-b358-0e688f7b6d14"
   },
   "outputs": [
    {
     "name": "stdout",
     "output_type": "stream",
     "text": [
      "4\n"
     ]
    },
    {
     "data": {
      "text/plain": [
       "False"
      ]
     },
     "execution_count": 11,
     "metadata": {},
     "output_type": "execute_result"
    }
   ],
   "source": [
    "#Task 3.1\n",
    "def validate_date(date):\n",
    "    if len(date) != 10:\n",
    "        return False\n",
    "    if not date[2] == '/' and date[5] == '/':\n",
    "        return False\n",
    "    DD,MM,YYYY = date.split('/')\n",
    "    if not 1 <= int(DD) <= 10:\n",
    "        return False\n",
    "    if not 1 <= int(MM) <= 12:\n",
    "        return False\n",
    "\n",
    "    return True"
   ]
  },
  {
   "cell_type": "raw",
   "id": "f40b0ae8-9e01-490b-a095-db6f4c5ae37d",
   "metadata": {
    "id": "f40b0ae8-9e01-490b-a095-db6f4c5ae37d"
   },
   "source": []
  }
 ],
 "metadata": {
  "colab": {
   "provenance": []
  },
  "kernelspec": {
   "display_name": "Python 3 (ipykernel)",
   "language": "python",
   "name": "python3"
  },
  "language_info": {
   "codemirror_mode": {
    "name": "ipython",
    "version": 3
   },
   "file_extension": ".py",
   "mimetype": "text/x-python",
   "name": "python",
   "nbconvert_exporter": "python",
   "pygments_lexer": "ipython3",
   "version": "3.8.18"
  }
 },
 "nbformat": 4,
 "nbformat_minor": 5
}
