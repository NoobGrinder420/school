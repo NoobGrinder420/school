{
 "cells": [
  {
   "cell_type": "markdown",
   "id": "HZJJbEqkJ4Q4",
   "metadata": {
    "id": "HZJJbEqkJ4Q4"
   },
   "source": [
    "**Task 2.1**\n",
    "\n",
    "[1/1] Changed to the suitable condition for the new loop\n",
    "\n",
    "[1/1] Condition to terminate loop\n",
    "\n",
    "[1/1] Updated the calculation for average\n",
    "\n",
    "\n",
    "**Task 2.2**\n",
    "\n",
    "[2/2] Find the max and min correctly\n",
    "\n",
    "[1/1] Find the days correctly\n",
    "\n",
    "[1/1] Prints the information in the correct format\n",
    "\n",
    "\n",
    "**Task 2.3**\n",
    "\n",
    "[1/1] Correct use of loop to find number of days above average\n",
    "\n",
    "[1/1] Correct condition to find number of days above average\n",
    "\n",
    "[1/1] Correct output\n"
   ]
  },
  {
   "cell_type": "code",
   "execution_count": null,
   "id": "ada6f504-7cc6-4d93-bbd5-baee02d42eef",
   "metadata": {
    "id": "ada6f504-7cc6-4d93-bbd5-baee02d42eef",
    "outputId": "5ca82945-f94d-4ef7-968a-61410d2508fc",
    "tags": []
   },
   "outputs": [
    {
     "name": "stdin",
     "output_type": "stream",
     "text": [
      "Enter temperature:  7\n",
      "Enter temperature:  7\n",
      "Enter temperature:  7\n",
      "Enter temperature:  8\n",
      "Enter temperature:  !\n"
     ]
    },
    {
     "name": "stdout",
     "output_type": "stream",
     "text": [
      "Day 4 has the highest temperature at 8.0 degrees\n",
      "Average temperature is 7.25\n"
     ]
    }
   ],
   "source": [
    "#TASK 2.1\n",
    "templist = []\n",
    "\n",
    "while True:\n",
    "    input_s = input(\"Enter temperature: \")\n",
    "    if input_s == '!': break\n",
    "    temp = float(input_s)\n",
    "    templist.append(temp)\n",
    "\n",
    "average = sum(templist) / len(templist)\n",
    "print(f\"Day {templist.index(max(templist)) + 1} has the highest temperature at {max(templist)} degrees\")\n",
    "print(f\"Day {templist.index(min(templist)) + 1} has the highest temperature at {min(templist)} degrees\")\n",
    "\n",
    "hiav = 0\n",
    "for i in templist:\n",
    "    if i > average: hiav+=1\n",
    "\n",
    "print(f\"There were {hiav} days with above average temperature.\")\n",
    "\n",
    "print(\"Average temperature is\", average)"
   ]
  },
  {
   "cell_type": "code",
   "execution_count": null,
   "id": "ef7abbc2-3a41-4528-8f58-147f6638cce4",
   "metadata": {
    "id": "ef7abbc2-3a41-4528-8f58-147f6638cce4"
   },
   "outputs": [],
   "source": []
  }
 ],
 "metadata": {
  "colab": {
   "provenance": []
  },
  "kernelspec": {
   "display_name": "Python 3 (ipykernel)",
   "language": "python",
   "name": "python3"
  },
  "language_info": {
   "codemirror_mode": {
    "name": "ipython",
    "version": 3
   },
   "file_extension": ".py",
   "mimetype": "text/x-python",
   "name": "python",
   "nbconvert_exporter": "python",
   "pygments_lexer": "ipython3",
   "version": "3.8.18"
  }
 },
 "nbformat": 4,
 "nbformat_minor": 5
}
