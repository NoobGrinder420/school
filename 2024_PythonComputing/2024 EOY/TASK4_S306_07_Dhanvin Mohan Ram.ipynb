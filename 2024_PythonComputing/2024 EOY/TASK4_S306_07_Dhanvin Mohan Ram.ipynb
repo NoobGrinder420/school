{
 "cells": [
  {
   "cell_type": "code",
   "execution_count": 16,
   "id": "15a70885-bcf9-4d0d-b44f-f4c70576eb0f",
   "metadata": {},
   "outputs": [
    {
     "name": "stdin",
     "output_type": "stream",
     "text": [
      "Try #1, enter code:  1234\n"
     ]
    },
    {
     "name": "stdout",
     "output_type": "stream",
     "text": [
      "5453\n",
      "Feedback: WW\n"
     ]
    },
    {
     "name": "stdin",
     "output_type": "stream",
     "text": [
      "Try #2, enter code:  5433\n"
     ]
    },
    {
     "name": "stdout",
     "output_type": "stream",
     "text": [
      "5453\n",
      "Feedback: RRR\n"
     ]
    },
    {
     "name": "stdin",
     "output_type": "stream",
     "text": [
      "Try #3, enter code:  3455\n"
     ]
    },
    {
     "name": "stdout",
     "output_type": "stream",
     "text": [
      "5453\n",
      "Feedback: RRWW\n"
     ]
    },
    {
     "name": "stdin",
     "output_type": "stream",
     "text": [
      "Try #4, enter code:  g\n"
     ]
    },
    {
     "name": "stdout",
     "output_type": "stream",
     "text": [
      "5453\n"
     ]
    },
    {
     "ename": "IndexError",
     "evalue": "string index out of range",
     "output_type": "error",
     "traceback": [
      "\u001b[1;31m---------------------------------------------------------------------------\u001b[0m",
      "\u001b[1;31mIndexError\u001b[0m                                Traceback (most recent call last)",
      "Cell \u001b[1;32mIn[16], line 47\u001b[0m\n\u001b[0;32m     43\u001b[0m \u001b[38;5;28;01mif\u001b[39;00m \u001b[38;5;129;01mnot\u001b[39;00m guess_pos[i]:\n\u001b[0;32m     44\u001b[0m     \u001b[38;5;66;03m#for x in range[4]:   ## syntax error; wrong parenthesis used\u001b[39;00m\n\u001b[0;32m     45\u001b[0m     \u001b[38;5;28;01mfor\u001b[39;00m x \u001b[38;5;129;01min\u001b[39;00m \u001b[38;5;28mrange\u001b[39m(\u001b[38;5;241m4\u001b[39m):\n\u001b[0;32m     46\u001b[0m         \u001b[38;5;66;03m#if not code_pos and code[x] == guess[i]:    ## logci error, checking if list is false instead of list values\u001b[39;00m\n\u001b[1;32m---> 47\u001b[0m         \u001b[38;5;28;01mif\u001b[39;00m \u001b[38;5;129;01mnot\u001b[39;00m code_pos[x] \u001b[38;5;129;01mand\u001b[39;00m code[x] \u001b[38;5;241m==\u001b[39m \u001b[43mguess\u001b[49m\u001b[43m[\u001b[49m\u001b[43mi\u001b[49m\u001b[43m]\u001b[49m:\n\u001b[0;32m     48\u001b[0m             feedback \u001b[38;5;241m+\u001b[39m\u001b[38;5;241m=\u001b[39m \u001b[38;5;124m\"\u001b[39m\u001b[38;5;124mW\u001b[39m\u001b[38;5;124m\"\u001b[39m\n\u001b[0;32m     49\u001b[0m             code_pos[x] \u001b[38;5;241m=\u001b[39m \u001b[38;5;28;01mTrue\u001b[39;00m\n",
      "\u001b[1;31mIndexError\u001b[0m: string index out of range"
     ]
    }
   ],
   "source": [
    "## import random\n",
    "\n",
    "# Game variables\n",
    "tries = 0\n",
    "guess = ''\n",
    "code = ''\n",
    "\n",
    "# Generate the code\n",
    "#while i in range(4):  ## syntax error\n",
    "for i in range(4):\n",
    "    temp = random.randint(1,8)\n",
    "    #code += temp     ## syntax error; temp needs to be a string to concatenate but is integer\n",
    "    code += str(temp)\n",
    "\n",
    "# Gameplay\n",
    "#while tries <= 10:   ##logic error; code runs 11 times instead of 10\n",
    "while tries < 10:\n",
    "    tries += 1\n",
    "    guess = input(f\"Try #{tries}, enter code: \")\n",
    "    feedback = ''\n",
    "    # the following 2 lists as used to mark the positions\n",
    "    # of guess & code that has been process for feedback\n",
    "    #guess_pos = (False,False,False,False)    ## logic error, tuple should be list\n",
    "    guess_pos = [False,False,False,False]\n",
    "    #code_pos = (False,False,False,False)     ## logic error, tuple should be list\n",
    "    code_pos = [False,False,False,False]\n",
    "\n",
    "    if guess == code:\n",
    "        print(f\"Congratulations! You broke the code on try #(tries)\")\n",
    "    print(code)\n",
    "\n",
    "    # check for any correct digit in correct position\n",
    "    #for i in guess:    ## logic error; iterating through list values instead of list indexes\n",
    "    for i in range(len(guess)):\n",
    "        if code[i] == guess[i]:\n",
    "            feedback += \"R\"\n",
    "            guess_pos[i] = True # mark this position as processed \n",
    "            code_pos[i] = True  # mark this position as processed\n",
    "\n",
    "    # check for any correct digit in wrong position\n",
    "    for i in range(4):\n",
    "        #if not guess_pos:    ##logic error; checking if list is false instead of list values\n",
    "        if not guess_pos[i]:\n",
    "            #for x in range[4]:   ## syntax error; wrong parenthesis used\n",
    "            for x in range(4):\n",
    "                #if not code_pos and code[x] == guess[i]:    ## logci error, checking if list is false instead of list values\n",
    "                if not code_pos[x] and code[x] == guess[i]:\n",
    "                    feedback += \"W\"\n",
    "                    code_pos[x] = True\n",
    "    print(f\"Feedback: {feedback}\")\n",
    "\n",
    "# Code reveal\n",
    "if tries == 10:\n",
    "    print(f\"The code is {guess}. Better luck next time!\")"
   ]
  },
  {
   "cell_type": "code",
   "execution_count": null,
   "id": "719e9751-7b95-4305-9335-c6aa87887e57",
   "metadata": {},
   "outputs": [],
   "source": []
  },
  {
   "cell_type": "code",
   "execution_count": null,
   "id": "d0ff4f93-6a3e-434c-aef7-8010d19145f7",
   "metadata": {},
   "outputs": [],
   "source": []
  }
 ],
 "metadata": {
  "kernelspec": {
   "display_name": "Python 3 (ipykernel)",
   "language": "python",
   "name": "python3"
  },
  "language_info": {
   "codemirror_mode": {
    "name": "ipython",
    "version": 3
   },
   "file_extension": ".py",
   "mimetype": "text/x-python",
   "name": "python",
   "nbconvert_exporter": "python",
   "pygments_lexer": "ipython3",
   "version": "3.8.16"
  }
 },
 "nbformat": 4,
 "nbformat_minor": 5
}
