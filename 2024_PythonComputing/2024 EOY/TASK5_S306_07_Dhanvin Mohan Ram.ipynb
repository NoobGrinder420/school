{
 "cells": [
  {
   "cell_type": "code",
   "execution_count": 3,
   "id": "f0d477c2-51f9-4593-be59-61a3ac2680a8",
   "metadata": {},
   "outputs": [],
   "source": [
    "#TASK 5.1\n",
    "def load_data(id_file, bid_file):\n",
    "    #open files\n",
    "    fid = open(id_file, 'r')\n",
    "    fbid = open(bid_file, 'r')\n",
    "\n",
    "    #get lines from files as lines\n",
    "    ids = fid.readlines()\n",
    "    bids = fbid.readlines()\n",
    "\n",
    "    #close files\n",
    "    fid.close()\n",
    "    fbid.close()\n",
    "\n",
    "    #make dictionary using dictionary comprehension\n",
    "    #.strip() method gets rid of '/n' newline characters at the end of the list\n",
    "    id2bid = {int(ids[i].strip()):bids[i].strip() for i in range(len(bids))} \n",
    "    return dict\n"
   ]
  },
  {
   "cell_type": "code",
   "execution_count": 17,
   "id": "cf3a8179-5869-477c-92a4-3e1b83b9e2c5",
   "metadata": {},
   "outputs": [
    {
     "data": {
      "text/plain": [
       "'MB112'"
      ]
     },
     "execution_count": 17,
     "metadata": {},
     "output_type": "execute_result"
    }
   ],
   "source": [
    "#TASK 5.2\n",
    "def create_id(surname, given_name):\n",
    "    import random #import random module in function so accesibile in other codes that do not import random\n",
    "\n",
    "    #part 1 of identity code is first char of surname\n",
    "    x = surname[0]\n",
    "        \n",
    "    #part 2 of identity code is first char of last given name or first given name\n",
    "    if given_name.count(' ') == 1:\n",
    "        y = given_name[given_name.find(' ')+1]\n",
    "    else:\n",
    "        y = surname[0]\n",
    "\n",
    "    #part 3 of identity code is random 3 digit number that can include leading 0s\n",
    "    z = ''\n",
    "    for _ in range(3):\n",
    "        z+= str(random.randint(0, 9))\n",
    "        \n",
    "    return x + y + z\n"
   ]
  },
  {
   "cell_type": "code",
   "execution_count": 61,
   "id": "32ebcd92-7f5d-4f5a-ac41-1065f358e8d8",
   "metadata": {},
   "outputs": [],
   "source": [
    "#TASK 5.3\n",
    "def check_current_price(dict_data, current_quota):\n",
    "    if len(dict_data) < current_quota: return 1\n",
    "\n",
    "    highest_bid = 0\n",
    "    for id in dict_data:\n",
    "        if dict_data[id] > highest_bid:\n",
    "            highest_bid = dict_data[id]\n",
    "            highest_bid+=1\n",
    "\n",
    "    values = list(dict_data.values()) #make a list of current bids to see which is the highest unsuccesful bid\n",
    "    keys = list(dict_data.keys())\n",
    "    values.sort()\n",
    "    \n",
    "    CCP = values[-current_quota]+1 #gets last unsuccesful bid value +1\n",
    "    return CCP\n"
   ]
  },
  {
   "cell_type": "code",
   "execution_count": 62,
   "id": "122df3d0-436e-40bd-8d24-f46feef210ca",
   "metadata": {},
   "outputs": [
    {
     "name": "stdin",
     "output_type": "stream",
     "text": [
      "Please enter the current COE quota:  4\n"
     ]
    },
    {
     "ename": "KeyboardInterrupt",
     "evalue": "Interrupted by user",
     "output_type": "error",
     "traceback": [
      "\u001b[1;31m---------------------------------------------------------------------------\u001b[0m",
      "\u001b[1;31mKeyboardInterrupt\u001b[0m                         Traceback (most recent call last)",
      "Cell \u001b[1;32mIn[62], line 4\u001b[0m\n\u001b[0;32m      1\u001b[0m \u001b[38;5;66;03m#TASK 5.4\u001b[39;00m\n\u001b[0;32m      3\u001b[0m COE \u001b[38;5;241m=\u001b[39m \u001b[38;5;28minput\u001b[39m(\u001b[38;5;124m\"\u001b[39m\u001b[38;5;124mPlease enter the current COE quota: \u001b[39m\u001b[38;5;124m\"\u001b[39m)\n\u001b[1;32m----> 4\u001b[0m coe_data \u001b[38;5;241m=\u001b[39m load_data(\u001b[38;5;28;43minput\u001b[39;49m\u001b[43m(\u001b[49m\u001b[38;5;124;43m\"\u001b[39;49m\u001b[38;5;124;43mPlease enter the name of the id_file: \u001b[39;49m\u001b[38;5;124;43m\"\u001b[39;49m\u001b[43m)\u001b[49m, \u001b[38;5;28minput\u001b[39m(\u001b[38;5;124m\"\u001b[39m\u001b[38;5;124mPlease enter the name of the bid_file: \u001b[39m\u001b[38;5;124m\"\u001b[39m))\n",
      "File \u001b[1;32mC:\\ProgramData\\g3computing\\jlab_server\\lib\\site-packages\\ipykernel\\kernelbase.py:1191\u001b[0m, in \u001b[0;36mKernel.raw_input\u001b[1;34m(self, prompt)\u001b[0m\n\u001b[0;32m   1189\u001b[0m     msg \u001b[38;5;241m=\u001b[39m \u001b[38;5;124m\"\u001b[39m\u001b[38;5;124mraw_input was called, but this frontend does not support input requests.\u001b[39m\u001b[38;5;124m\"\u001b[39m\n\u001b[0;32m   1190\u001b[0m     \u001b[38;5;28;01mraise\u001b[39;00m StdinNotImplementedError(msg)\n\u001b[1;32m-> 1191\u001b[0m \u001b[38;5;28;01mreturn\u001b[39;00m \u001b[38;5;28;43mself\u001b[39;49m\u001b[38;5;241;43m.\u001b[39;49m\u001b[43m_input_request\u001b[49m\u001b[43m(\u001b[49m\n\u001b[0;32m   1192\u001b[0m \u001b[43m    \u001b[49m\u001b[38;5;28;43mstr\u001b[39;49m\u001b[43m(\u001b[49m\u001b[43mprompt\u001b[49m\u001b[43m)\u001b[49m\u001b[43m,\u001b[49m\n\u001b[0;32m   1193\u001b[0m \u001b[43m    \u001b[49m\u001b[38;5;28;43mself\u001b[39;49m\u001b[38;5;241;43m.\u001b[39;49m\u001b[43m_parent_ident\u001b[49m\u001b[43m[\u001b[49m\u001b[38;5;124;43m\"\u001b[39;49m\u001b[38;5;124;43mshell\u001b[39;49m\u001b[38;5;124;43m\"\u001b[39;49m\u001b[43m]\u001b[49m\u001b[43m,\u001b[49m\n\u001b[0;32m   1194\u001b[0m \u001b[43m    \u001b[49m\u001b[38;5;28;43mself\u001b[39;49m\u001b[38;5;241;43m.\u001b[39;49m\u001b[43mget_parent\u001b[49m\u001b[43m(\u001b[49m\u001b[38;5;124;43m\"\u001b[39;49m\u001b[38;5;124;43mshell\u001b[39;49m\u001b[38;5;124;43m\"\u001b[39;49m\u001b[43m)\u001b[49m\u001b[43m,\u001b[49m\n\u001b[0;32m   1195\u001b[0m \u001b[43m    \u001b[49m\u001b[43mpassword\u001b[49m\u001b[38;5;241;43m=\u001b[39;49m\u001b[38;5;28;43;01mFalse\u001b[39;49;00m\u001b[43m,\u001b[49m\n\u001b[0;32m   1196\u001b[0m \u001b[43m\u001b[49m\u001b[43m)\u001b[49m\n",
      "File \u001b[1;32mC:\\ProgramData\\g3computing\\jlab_server\\lib\\site-packages\\ipykernel\\kernelbase.py:1234\u001b[0m, in \u001b[0;36mKernel._input_request\u001b[1;34m(self, prompt, ident, parent, password)\u001b[0m\n\u001b[0;32m   1231\u001b[0m \u001b[38;5;28;01mexcept\u001b[39;00m \u001b[38;5;167;01mKeyboardInterrupt\u001b[39;00m:\n\u001b[0;32m   1232\u001b[0m     \u001b[38;5;66;03m# re-raise KeyboardInterrupt, to truncate traceback\u001b[39;00m\n\u001b[0;32m   1233\u001b[0m     msg \u001b[38;5;241m=\u001b[39m \u001b[38;5;124m\"\u001b[39m\u001b[38;5;124mInterrupted by user\u001b[39m\u001b[38;5;124m\"\u001b[39m\n\u001b[1;32m-> 1234\u001b[0m     \u001b[38;5;28;01mraise\u001b[39;00m \u001b[38;5;167;01mKeyboardInterrupt\u001b[39;00m(msg) \u001b[38;5;28;01mfrom\u001b[39;00m \u001b[38;5;28;01mNone\u001b[39;00m\n\u001b[0;32m   1235\u001b[0m \u001b[38;5;28;01mexcept\u001b[39;00m \u001b[38;5;167;01mException\u001b[39;00m:\n\u001b[0;32m   1236\u001b[0m     \u001b[38;5;28mself\u001b[39m\u001b[38;5;241m.\u001b[39mlog\u001b[38;5;241m.\u001b[39mwarning(\u001b[38;5;124m\"\u001b[39m\u001b[38;5;124mInvalid Message:\u001b[39m\u001b[38;5;124m\"\u001b[39m, exc_info\u001b[38;5;241m=\u001b[39m\u001b[38;5;28;01mTrue\u001b[39;00m)\n",
      "\u001b[1;31mKeyboardInterrupt\u001b[0m: Interrupted by user"
     ]
    }
   ],
   "source": [
    "#TASK 5.4\n",
    "\n",
    "def main()\n",
    "    COE = input(\"Please enter the current COE quota: \")\n",
    "    coe_data = load_data(input(\"\\nPlease enter the name of the id_file: \"), input(\"Please enter the name of the bid_file: \"))\n",
    "    print(\"\\ncoe_data dictionary has been initialised\\n\")\n",
    "    id = new_id()\n",
    "\n",
    "    amount = input(\"Please enter your new reserved price\")\n",
    "    \n",
    "    while True\n",
    "        if amount < check_current_price(coe_data, COE):\n",
    "            print(f\"Please enter a valid reserved price of {check_current_price(coe_data, COE} or above\")\n",
    "        else:\n",
    "            coe_data[id] = amount\n",
    "            print(f\"bid succesfully changed to {amount}!\")\n",
    "            break\n",
    "    \n",
    "\n",
    "\n",
    "def new_id():\n",
    "    surn = input(\"Please enter your surname to create your new id code\")\n",
    "    givenn = input(\"Please enter your given name to create your new id code\")\n",
    "\n",
    "    while True:\n",
    "        id = create_id(surnn, givenn)\n",
    "        print(\"\\nNew identity code has been generated!!\\n\")\n",
    "        if id in coe_data:\n",
    "            print(\"Identity code already exists...\")\n",
    "            print(\"Re generating identity code...\")\n",
    "        else:\n",
    "            coe_data[id] = 40000\n",
    "            break\n",
    "    return id\n",
    "\n",
    "def navigator(text):\n",
    "    if text.upper() == \"CRP\" or \"CHANGE RESERVED PRICE\":\n",
    "    elif text.upper() == \"VRP\" or \"VIEW RESERVED PRICE\":\n",
    "        \n",
    "\n",
    "main()"
   ]
  },
  {
   "cell_type": "code",
   "execution_count": null,
   "id": "f5f6b911-579e-4e1f-9195-4b3669d58688",
   "metadata": {},
   "outputs": [],
   "source": []
  }
 ],
 "metadata": {
  "kernelspec": {
   "display_name": "Python 3 (ipykernel)",
   "language": "python",
   "name": "python3"
  },
  "language_info": {
   "codemirror_mode": {
    "name": "ipython",
    "version": 3
   },
   "file_extension": ".py",
   "mimetype": "text/x-python",
   "name": "python",
   "nbconvert_exporter": "python",
   "pygments_lexer": "ipython3",
   "version": "3.8.18"
  }
 },
 "nbformat": 4,
 "nbformat_minor": 5
}
