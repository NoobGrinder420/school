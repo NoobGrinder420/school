{
 "cells": [
  {
   "cell_type": "markdown",
   "id": "199ec224-256e-4c81-b397-352e35081b21",
   "metadata": {},
   "source": [
    "### Task 5: 3/4\n",
    "1m Appropriate comments (2m)  \n",
    "2m Identifiers appropriately named (2m)  "
   ]
  },
  {
   "cell_type": "code",
   "execution_count": 2,
   "id": "f0d477c2-51f9-4593-be59-61a3ac2680a8",
   "metadata": {},
   "outputs": [],
   "source": [
    "#TASK 5.1\n",
    "def load_data(id_file, bid_file):\n",
    "    #open files\n",
    "    fid = open(id_file, 'r')\n",
    "    fbid = open(bid_file, 'r')\n",
    "\n",
    "    #get lines from files as lines\n",
    "    ids = fid.readlines()\n",
    "    bids = fbid.readlines()\n",
    "\n",
    "    #close files\n",
    "    fid.close()\n",
    "    fbid.close()\n",
    "\n",
    "    #make dictionary using dictionary comprehension\n",
    "    #.strip() method gets rid of '/n' newline characters at the end of the list\n",
    "    id2bid = {int(ids[i].strip()):bids[i].strip() for i in range(len(bids))} \n",
    "    return dict\n"
   ]
  },
  {
   "cell_type": "markdown",
   "id": "7ccd5e40-0d0e-46f2-859f-7c1231b0dd97",
   "metadata": {},
   "source": [
    "### Task 5.1: 2/4\n",
    "1m Correct function definition  \n",
    "1m Open and Close both files, or 'with open' syntax is used.  \n",
    "0m Populate dictionary with id as key and bid as integer value  \n",
    "0m Return the dictionary  \n",
    "*Don't complicate yourself with list comprehension the population of the dictionary*"
   ]
  },
  {
   "cell_type": "code",
   "execution_count": null,
   "id": "cf3a8179-5869-477c-92a4-3e1b83b9e2c5",
   "metadata": {},
   "outputs": [],
   "source": [
    "#TASK 5.2\n",
    "def create_id(surname, given_name):\n",
    "    import random #import random module in function so accesibile in other codes that do not import random\n",
    "\n",
    "    #part 1 of identity code is first char of surname\n",
    "    x = surname[0]\n",
    "        \n",
    "    #part 2 of identity code is first char of last given name or first given name\n",
    "    if given_name.count(' ') == 1:\n",
    "        y = given_name[given_name.find(' ')+1]\n",
    "    else:\n",
    "        y = surname[0]\n",
    "\n",
    "    #part 3 of identity code is random 3 digit number that can include leading 0s\n",
    "    z = ''\n",
    "    for _ in range(3):\n",
    "        z+= str(random.randint(0, 9))\n",
    "        \n",
    "    return x + y + z\n"
   ]
  },
  {
   "cell_type": "markdown",
   "id": "66c49ca9-fd4a-4d7d-9610-16d2fda3b74a",
   "metadata": {},
   "source": [
    "### Task 5.2: 3/3\n",
    "1m Get the 1st character of surname  \n",
    "1m Get the 1st character of the last given name  \n",
    "1m Get a randomized 3-digits numbers (leading zeros is required)  "
   ]
  },
  {
   "cell_type": "code",
   "execution_count": null,
   "id": "32ebcd92-7f5d-4f5a-ac41-1065f358e8d8",
   "metadata": {},
   "outputs": [],
   "source": [
    "#TASK 5.3\n",
    "def check_current_price(dict_data, current_quota):\n",
    "    if len(dict_data) < current_quota: return 1\n",
    "\n",
    "    highest_bid = 0\n",
    "    for id in dict_data:\n",
    "        if dict_data[id] > highest_bid:\n",
    "            highest_bid = dict_data[id]\n",
    "            highest_bid+=1\n",
    "\n",
    "    values = list(dict_data.values()) #make a list of current bids to see which is the highest unsuccesful bid\n",
    "    keys = list(dict_data.keys())\n",
    "    values.sort()\n",
    "    \n",
    "    CCP = values[-current_quota]+1 #gets last unsuccesful bid value +1\n",
    "    return CCP\n"
   ]
  },
  {
   "cell_type": "markdown",
   "id": "ecd82cc9-98ef-409d-aecb-f491befb3d73",
   "metadata": {},
   "source": [
    "### Task 5.3: 1/3  \n",
    "1m Sort a list or dictionary in decending order of reserved price  \n",
    "0m Count the number of bids with the same reserved price  \n",
    "0m Check if the current reserved price lots will cause an overflow of the current quota"
   ]
  },
  {
   "cell_type": "code",
   "execution_count": null,
   "id": "122df3d0-436e-40bd-8d24-f46feef210ca",
   "metadata": {},
   "outputs": [],
   "source": [
    "#TASK 5.4\n",
    "\n",
    "def main()\n",
    "    COE = input(\"Please enter the current COE quota: \")\n",
    "    coe_data = load_data(input(\"\\nPlease enter the name of the id_file: \"), input(\"Please enter the name of the bid_file: \"))\n",
    "    print(\"\\ncoe_data dictionary has been initialised\\n\")\n",
    "    id = new_id()\n",
    "\n",
    "    amount = input(\"Please enter your new reserved price\")\n",
    "    \n",
    "    while True\n",
    "        if amount < check_current_price(coe_data, COE):\n",
    "            print(f\"Please enter a valid reserved price of {check_current_price(coe_data, COE} or above\")\n",
    "        else:\n",
    "            coe_data[id] = amount\n",
    "            print(f\"bid succesfully changed to {amount}!\")\n",
    "            break\n",
    "    \n",
    "\n",
    "\n",
    "def new_id():\n",
    "    surn = input(\"Please enter your surname to create your new id code\")\n",
    "    givenn = input(\"Please enter your given name to create your new id code\")\n",
    "\n",
    "    while True:\n",
    "        id = create_id(surnn, givenn)\n",
    "        print(\"\\nNew identity code has been generated!!\\n\")\n",
    "        if id in coe_data:\n",
    "            print(\"Identity code already exists...\")\n",
    "            print(\"Re generating identity code...\")\n",
    "        else:\n",
    "            coe_data[id] = 40000\n",
    "            break\n",
    "    return id\n",
    "\n",
    "def navigator(text):\n",
    "    if text.upper() == \"CRP\" or \"CHANGE RESERVED PRICE\":\n",
    "    elif text.upper() == \"VRP\" or \"VIEW RESERVED PRICE\":\n",
    "        \n",
    "\n",
    "main()"
   ]
  },
  {
   "cell_type": "markdown",
   "id": "96550c8a-6c9b-4cc9-b4a2-f0234f803e1a",
   "metadata": {},
   "source": [
    "### Task 5.4: 5/8\n",
    "0m Display a UI menu with the 6 options  \n",
    "1m Set value to coe_quota variable  \n",
    "1m Initialize a dictionary coe_data  \n",
    "1m Validate newly created id is unique  \n",
    "1m Add newly created id to coe_data with value of 0  \n",
    "0m Validate new reserved price  \n",
    "1m Calls load_data(), create_id() and check_current_price()  \n",
    "0m Allow user to quit  "
   ]
  },
  {
   "cell_type": "code",
   "execution_count": 9,
   "id": "f5f6b911-579e-4e1f-9195-4b3669d58688",
   "metadata": {},
   "outputs": [
    {
     "name": "stdout",
     "output_type": "stream",
     "text": [
      "7\n"
     ]
    }
   ],
   "source": [
    "#Taak 5.5\n",
    "\n",
    "def best_profit(pc):\n",
    "    if len(pc) == 1: return 0\n",
    "    max_profit = 0\n",
    "\n",
    "    for list_len in range(1, len(pc)+1):\n",
    "        for start_i in range(len(pc)-list_len):\n",
    "            profit = 0\n",
    "            for i in pc[start_i:start_i + list_len:]:\n",
    "                profit += i\n",
    "            if profit > max_profit:\n",
    "                max_profit = profit\n",
    "\n",
    "    return max_profit\n",
    "\n",
    "print(best_profit([-2, -3, 4, -1, -2, 1, 5, -3, -2, -3, 4, -1, -2, 1, 5, -3,-2, -3, 4, -1, -2, 1, 5, -3,-2, -3, 4, -1, -2, 1, 5, -3,-2, -3, 4, -1, -2, 1, 5, -3,-2, -3, 4, -1, -2, 1, 5, -3,-2, -3, 4, -1, -2, 1, 5, -3,-2, -3, 4, -1, -2, 1, 5, -3,-2, -3, 4, -1, -2, 1, 5, -3,-2, -3, 4, -1, -2, 1, 5, -3,-2, -3, 4, -1, -2, 1, 5, -3,-2, -3, 4, -1, -2, 1, 5, -3,-2, -3, 4, -1, -2, 1, 5, -3,-2, -3, 4, -1, -2, 1, 5, -3,-2, -3, 4, -1, -2, 1, 5, -3,-2, -3, 4, -1, -2, 1, 5, -3,-2, -3, 4, -1, -2, 1, 5, -3,-2, -3, 4, -1, -2, 1, 5, -3,-2, -3, 4, -1, -2, 1, 5, -3,-2, -3, 4, -1, -2, 1, 5, -3,-2, -3, 4, -1, -2, 1, 5, -3,-2, -3, 4, -1, -2, 1, 5, -3,-2, -3, 4, -1, -2, 1, 5, -3,-2, -3, 4, -1, -2, 1, 5, -3,-2, -3, 4, -1, -2, 1, 5, -3,-2, -3, 4, -1, -2, 1, 5, -3,-2, -3, 4, -1, -2, 1, 5, -3,-2, -3, 4, -1, -2, 1, 5, -3,-2, -3, 4, -1, -2, 1, 5, -3,-2, -3, 4, -1, -2, 1, 5, -3,-2, -3, 4, -1, -2, 1, 5, -3,-2, -3, 4, -1, -2, 1, 5, -3,-2, -3, 4, -1, -2, 1, 5, -3,-2, -3, 4, -1, -2, 1, 5, -3,-2, -3, 4, -1, -2, 1, 5, -3,-2, -3, 4, -1, -2, 1, 5, -3,-2, -3, 4, -1, -2, 1, 5, -3,-2, -3, 4, -1, -2, 1, 5, -3,-2, -3, 4, -1, -2, 1, 5, -3,-2, -3, 4, -1, -2, 1, 5, -3,-2, -3, 4, -1, -2, 1, 5, -3,-2, -3, 4, -1, -2, 1, 5, -3,-2, -3, 4, -1, -2, 1, 5, -3,-2, -3, 4, -1, -2, 1, 5, -3,-2, -3, 4, -1, -2, 1, 5, -3,-2, -3, 4, -1, -2, 1, 5, -3,-2, -3, 4, -1, -2, 1, 5, -3,-2, -3, 4, -1, -2, 1, 5, -3]))"
   ]
  },
  {
   "cell_type": "code",
   "execution_count": null,
   "id": "e455d537-2a5a-4295-9e29-2d86b90801e3",
   "metadata": {},
   "outputs": [],
   "source": []
  }
 ],
 "metadata": {
  "kernelspec": {
   "display_name": "Python 3 (ipykernel)",
   "language": "python",
   "name": "python3"
  },
  "language_info": {
   "codemirror_mode": {
    "name": "ipython",
    "version": 3
   },
   "file_extension": ".py",
   "mimetype": "text/x-python",
   "name": "python",
   "nbconvert_exporter": "python",
   "pygments_lexer": "ipython3",
   "version": "3.8.18"
  }
 },
 "nbformat": 4,
 "nbformat_minor": 5
}
