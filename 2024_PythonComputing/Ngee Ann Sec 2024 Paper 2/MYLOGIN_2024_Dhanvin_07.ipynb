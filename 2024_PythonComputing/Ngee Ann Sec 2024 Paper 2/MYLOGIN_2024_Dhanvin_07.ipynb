{
 "cells": [
  {
   "cell_type": "code",
   "execution_count": 8,
   "id": "9f690d65-2be8-44cb-b797-b8b7e3ca9b71",
   "metadata": {},
   "outputs": [
    {
     "name": "stdin",
     "output_type": "stream",
     "text": [
      "Create account (True/False):  True\n"
     ]
    },
    {
     "name": "stdout",
     "output_type": "stream",
     "text": [
      "Attempt: 1\n"
     ]
    },
    {
     "name": "stdin",
     "output_type": "stream",
     "text": [
      "Password:  #Qwerty2021\n",
      "Retype password:  #Qwerty2021\n"
     ]
    },
    {
     "name": "stdout",
     "output_type": "stream",
     "text": [
      "encrypted password: 358111910111411612150485049\n"
     ]
    }
   ],
   "source": [
    "create = input(\"Create account (True/False): \")\n",
    "\n",
    "#if create == True:      logic error, should test for string True instead of boolean value\n",
    "if create == \"True\":\n",
    "#    for i in range(1,3):   logic error, code has only two iterations instead of 3\n",
    "    for i in range(1,4): \n",
    "        print(\"Attempt:\",i) \n",
    "        specialChar = None\n",
    "        numbers = None\n",
    "        upperCase = None\n",
    "        pw = input(\"Password: \")\n",
    "        \n",
    "        #2nd_pw = input(\"Retype password: \")   syntax error for invalid variable name\n",
    "        second_pw = input(\"Retype password: \")\n",
    "\n",
    "        if not(len(pw) >= 10 or pw == second_pw): \n",
    "            print(\"Passwords do not match or password too short.\")\n",
    "            #break   logic error, doesnt allow user to try entering pwd again\n",
    "            continue\n",
    "    \n",
    "        for c in pw:\n",
    "            #if c not in \"!@#$%&*\":     logic error \n",
    "            if c in \"!@#$%&*\": \n",
    "                specialChar = True\n",
    "            #if c.isnumber():           syntax error, invalid method\n",
    "            if c.isdigit(): \n",
    "                numbers = True\n",
    "            #if c.upper():              logic error, does not check\n",
    "            if c == c.upper():\n",
    "                upperCase = True\n",
    "        if upperCase and numbers and specialChar: \n",
    "            encrypt_pw = \"\"\n",
    "            for c in pw:\n",
    "                #encrypt_pw += str(c.ord())        syntax error, ord is function not method\n",
    "                encrypt_pw += str(ord(c))\n",
    "            print(\"encrypted password:\", encrypt_pw)\n",
    "            break\n",
    "            \n",
    "        #logic error, forgot to put else statement\n",
    "        else:\n",
    "            print(\"Password does not meet conditions.\")\n",
    "            continue"
   ]
  },
  {
   "cell_type": "code",
   "execution_count": null,
   "id": "c5726bc5-ae1f-4316-aaff-11dfcaa89e37",
   "metadata": {},
   "outputs": [],
   "source": []
  }
 ],
 "metadata": {
  "kernelspec": {
   "display_name": "Python 3 (ipykernel)",
   "language": "python",
   "name": "python3"
  },
  "language_info": {
   "codemirror_mode": {
    "name": "ipython",
    "version": 3
   },
   "file_extension": ".py",
   "mimetype": "text/x-python",
   "name": "python",
   "nbconvert_exporter": "python",
   "pygments_lexer": "ipython3",
   "version": "3.8.18"
  }
 },
 "nbformat": 4,
 "nbformat_minor": 5
}
