{
 "cells": [
  {
   "cell_type": "code",
   "execution_count": 2,
   "id": "a0f7b52f-a927-4878-9c24-6be5db204f8a",
   "metadata": {},
   "outputs": [
    {
     "name": "stdin",
     "output_type": "stream",
     "text": [
      "Like post? (Y/N):  Y\n",
      "Your name:  ff\n"
     ]
    },
    {
     "name": "stdout",
     "output_type": "stream",
     "text": [
      "ff likes this post.\n"
     ]
    },
    {
     "name": "stdin",
     "output_type": "stream",
     "text": [
      "Like post? (Y/N):  N\n"
     ]
    },
    {
     "name": "stdout",
     "output_type": "stream",
     "text": [
      "ff liked this post.\n"
     ]
    }
   ],
   "source": [
    "liked_post = []\n",
    "\n",
    "while True:\n",
    "    liking = input(\"Like post? (Y/N): \")\n",
    "    \n",
    "    if liking == \"Y\":\n",
    "        user_name = input(\"Your name: \")\n",
    "        liked_post.append(user_name)\n",
    "    \n",
    "        print(\"{} likes this post.\".format(user_name))\n",
    "    elif liking == \"N\":\n",
    "        break\n",
    "\n",
    "if len(liked_post) != 1:\n",
    "    \n",
    "    match len(liked_post):\n",
    "    \n",
    "        case 2: print(f\"{liked_post[0]} and {liked_post[1]} like this post.\")\n",
    "        case 3: print(f\"{liked_post[0]}, {liked_post[1]} and {liked_post[2]} like this post.\")\n",
    "        case _: print(f\"{liked_post[0]} and {len(liked_post)} others like this post.\")\n"
   ]
  },
  {
   "cell_type": "code",
   "execution_count": null,
   "id": "4b4c52e1-fd30-4b76-97e1-cc89936f5ab7",
   "metadata": {},
   "outputs": [],
   "source": []
  }
 ],
 "metadata": {
  "kernelspec": {
   "display_name": "Python 3 (ipykernel)",
   "language": "python",
   "name": "python3"
  },
  "language_info": {
   "codemirror_mode": {
    "name": "ipython",
    "version": 3
   },
   "file_extension": ".py",
   "mimetype": "text/x-python",
   "name": "python",
   "nbconvert_exporter": "python",
   "pygments_lexer": "ipython3",
   "version": "3.8.18"
  }
 },
 "nbformat": 4,
 "nbformat_minor": 5
}
