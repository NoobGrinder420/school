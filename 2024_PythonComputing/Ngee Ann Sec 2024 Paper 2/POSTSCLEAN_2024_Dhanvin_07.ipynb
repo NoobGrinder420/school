{
 "cells": [
  {
   "cell_type": "code",
   "execution_count": 50,
   "id": "2af1adbf-705d-40f1-a99e-346dd3f7c278",
   "metadata": {},
   "outputs": [
    {
     "name": "stdout",
     "output_type": "stream",
     "text": [
      "['#ndp2024', '#singaporenationalday', '#sgindependence', '#togetherasonesg', '#healthcareheroes”', '#sgpride', '#globalsg']\n"
     ]
    }
   ],
   "source": [
    "data = ['1. “Happy #NDP2024 Singapore! #SingaporeNationalDay ”\\n',\n",
    "        '2. “Remembering our journey from 1965 to today. #SGIndependence #NDP2024 ”\\n',\n",
    "        '3. “Unity in diversity – that’s what makes us strong. #TogetherAsOneSG ”\\n',\n",
    "        '4. “Grateful for our frontline heroes who keep us safe. #TogetherAsOneSG #HealthcareHeroes”\\n',\n",
    "        '5. “Red and white forever! #SGPride #SingaporeNationalDay #NDP2024 ”\\n',\n",
    "        '6. “Singapore@Home: Even overseas, we’re connected. #GlobalSG #NDP2024 #SingaporeNationalDay ”\\n']\n",
    "\n",
    "def splitdata(s):\n",
    "    s = ''.join([i.lower() for i in s])\n",
    "    final = s.split()\n",
    "    return final\n",
    "\n",
    "def findtags(s):\n",
    "    s = splitdata(s)\n",
    "    \n",
    "    tags = []\n",
    "    for i in range(len(s)):\n",
    "        if s[i][0] == '#' and not s[i] in tags:\n",
    "            tags.append(s[i])\n",
    "\n",
    "    return tags"
   ]
  },
  {
   "cell_type": "code",
   "execution_count": 16,
   "id": "3555c183-8252-4fea-8736-ca6a5bc96830",
   "metadata": {},
   "outputs": [],
   "source": [
    "def count_tags(tags, data):\n",
    "    uniqueTags = findtags(data)\n",
    "\n",
    "    list1 = [data.count(i) for i in uniqueTags]\n",
    "    return list"
   ]
  },
  {
   "cell_type": "code",
   "execution_count": 92,
   "id": "1f4fc8ee-32c5-4d2a-88f1-cdbe43edc057",
   "metadata": {},
   "outputs": [
    {
     "name": "stdout",
     "output_type": "stream",
     "text": [
      "['#ndp2024', '#singaporenationalday', '#sgindependence', '#togetherasonesg', '#healthcareheroes”', '#sgpride', '#globalsg']\n",
      "[4, 3, 1, 2, 1, 1, 1]\n",
      "\n",
      " ['1.', '“happy', '#ndp2024', 'singapore!', '#singaporenationalday', '”', '2.', '“remembering', 'our', 'journey', 'from', '1965', 'to', 'today.', '#sgindependence', '#ndp2024', '”', '3.', '“unity', 'in', 'diversity', '–', 'that’s', 'what', 'makes', 'us', 'strong.', '#togetherasonesg', '”', '4.', '“grateful', 'for', 'our', 'frontline', 'heroes', 'who', 'keep', 'us', 'safe.', '#togetherasonesg', '#healthcareheroes”', '5.', '“red', 'and', 'white', 'forever!', '#sgpride', '#singaporenationalday', '#ndp2024', '”', '6.', '“singapore@home:', 'even', 'overseas,', 'we’re', 'connected.', '#globalsg', '#ndp2024', '#singaporenationalday', '”'] \n",
      "\n",
      "\n",
      "\n",
      "The top 2 tags are #ndp2024, #singaporenationalday.\n",
      "The number of times used are 4, 3 respectively.\n"
     ]
    }
   ],
   "source": [
    "def count_tags(uniqueTags, data):\n",
    "\n",
    "    data = splitdata(data)\n",
    "    print(uniqueTags)\n",
    "\n",
    "    list1 = [data.count(i) for i in uniqueTags]\n",
    "\n",
    "    print(list1)\n",
    "    print('\\n',data, '\\n\\n\\n')\n",
    "    \n",
    "    max1 = max(list1)\n",
    "    max1index = list1.index(max1)    \n",
    "    maxhash1 = uniqueTags[max1index]\n",
    "    \n",
    "    list1.remove(max1)\n",
    "    uniqueTags.remove(maxhash1)\n",
    "    \n",
    "    max2 = max(list1)\n",
    "    max2index = list1.index(max2)\n",
    "    maxhash2 = uniqueTags[max2index]\n",
    "\n",
    "    \n",
    "            \n",
    "    print(f\"The top 2 tags are {maxhash1}, {maxhash2}.\")\n",
    "    print(f\"The number of times used are {max1}, {max2} respectively.\")\n",
    "\n",
    "    \n",
    "count_tags(findtags(data), data)\n"
   ]
  },
  {
   "cell_type": "raw",
   "id": "6cedd100-49aa-4a6a-972d-29a9a03a646c",
   "metadata": {},
   "source": [
    "print('a b c'.split(' '))"
   ]
  },
  {
   "cell_type": "code",
   "execution_count": 7,
   "id": "42cabd28-2c7f-4839-8665-566ee6d7b3ec",
   "metadata": {},
   "outputs": [
    {
     "name": "stdout",
     "output_type": "stream",
     "text": [
      "['a', '', 'b', '', 'c']\n"
     ]
    }
   ],
   "source": [
    "print('a  b  c'.split(' '))"
   ]
  },
  {
   "cell_type": "code",
   "execution_count": null,
   "id": "e127d589-5b38-41fc-9cf0-a3966d6e302f",
   "metadata": {},
   "outputs": [],
   "source": []
  }
 ],
 "metadata": {
  "kernelspec": {
   "display_name": "Python 3 (ipykernel)",
   "language": "python",
   "name": "python3"
  },
  "language_info": {
   "codemirror_mode": {
    "name": "ipython",
    "version": 3
   },
   "file_extension": ".py",
   "mimetype": "text/x-python",
   "name": "python",
   "nbconvert_exporter": "python",
   "pygments_lexer": "ipython3",
   "version": "3.8.18"
  }
 },
 "nbformat": 4,
 "nbformat_minor": 5
}
