{
 "cells": [
  {
   "cell_type": "code",
   "execution_count": 2,
   "id": "ce4ae19b-f4ae-4c56-a267-56898a508053",
   "metadata": {},
   "outputs": [
    {
     "name": "stdin",
     "output_type": "stream",
     "text": [
      "Please enter the values for day1:  1, 0, 1, 1\n",
      "Please enter the values for day2:  1, 0, 1, 1\n",
      "Please enter the values for day3:  1, 0, 1, 1\n",
      "Please enter the values for day4:  1, 0, 1, 1\n",
      "Please enter the values for day5:  1, 0, 1, 1\n",
      "Please enter the values for day6:  1, 0, 1, 1\n",
      "Please enter the values for day7:  1, 0, 1, 1\n"
     ]
    },
    {
     "name": "stdout",
     "output_type": "stream",
     "text": [
      "Day 1      3 egg(s)\n",
      "Day 2      3 egg(s)\n",
      "Day 3      3 egg(s)\n",
      "Day 4      3 egg(s)\n",
      "Day 5      3 egg(s)\n",
      "Day 6      3 egg(s)\n",
      "Day 7      3 egg(s)\n",
      "Average number of eggs              3\n",
      "Total number of eggs for the week   21\n"
     ]
    }
   ],
   "source": [
    "#HEN1_S306_Dhanvin\n",
    "x = True\n",
    "week = []\n",
    "for i in range(7):\n",
    "    while x == True:\n",
    "        abcd = input(f'Please enter the values for day{i+1}: ')\n",
    "        lister = abcd.split(', ')\n",
    "        if len(lister) != 4:\n",
    "            print('invalid string')\n",
    "            continue\n",
    "        else:\n",
    "            a = lister[0]\n",
    "            b = lister[1]\n",
    "            c = lister[2]\n",
    "            d = lister[3]\n",
    "        \n",
    "    \n",
    "            if (a!='0' and a!='1') or (b!='0' and b!='1') or (c!='0' and c!='1') or (d!='0' and d!='1'):\n",
    "                print('Invalid value entered, please enter only 1 or 0')\n",
    "         \n",
    "            else: \n",
    "                a = int(a)\n",
    "                b = int(b)         \n",
    "                c = int(c)\n",
    "                d = int(d)\n",
    "                sums = a+b+c+d\n",
    "                week.append(sums)\n",
    "                break\n",
    "\n",
    "for i in range(7):\n",
    "    print(f'Day {i+1}      {week[i]} egg(s)')\n",
    "weeksum = 0\n",
    "for i in week:\n",
    "    weeksum+=i\n",
    "print(f'Average number of eggs              {weeksum//7}')\n",
    "print(f'Total number of eggs for the week   {weeksum}')\n",
    "\n"
   ]
  },
  {
   "cell_type": "code",
   "execution_count": null,
   "id": "2edb3890-d012-42c0-ae06-b76f14be0ac1",
   "metadata": {},
   "outputs": [],
   "source": []
  },
  {
   "cell_type": "code",
   "execution_count": 2,
   "id": "160734dd-720a-4ec4-919d-e81f407e305a",
   "metadata": {},
   "outputs": [
    {
     "name": "stdout",
     "output_type": "stream",
     "text": [
      "87\n"
     ]
    }
   ],
   "source": [
    "print(87%567)"
   ]
  },
  {
   "cell_type": "code",
   "execution_count": null,
   "id": "97eb2f2d-10a1-4b8a-9141-1e4db6703e02",
   "metadata": {},
   "outputs": [],
   "source": []
  }
 ],
 "metadata": {
  "kernelspec": {
   "display_name": "Python 3 (ipykernel)",
   "language": "python",
   "name": "python3"
  },
  "language_info": {
   "codemirror_mode": {
    "name": "ipython",
    "version": 3
   },
   "file_extension": ".py",
   "mimetype": "text/x-python",
   "name": "python",
   "nbconvert_exporter": "python",
   "pygments_lexer": "ipython3",
   "version": "3.8.18"
  }
 },
 "nbformat": 4,
 "nbformat_minor": 5
}
