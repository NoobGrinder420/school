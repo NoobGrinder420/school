{
 "cells": [
  {
   "cell_type": "markdown",
   "id": "c0f5a6bf-dc72-4c80-9899-f28aa97b675b",
   "metadata": {},
   "source": [
    "### Primes\n",
    "A prime number is a natural number with exactly two unique factors: 1 and itself.  \n",
    "The first prime number is 2. Given n, where 1 ≤ n ≤ 30000.  \n",
    "Find the n-th prime number. (within reasonable time) \n",
    "\n",
    "|INPUT|OUTPUT|\n",
    "|----:|:------|\n",
    "|30|113|\n",
    "|303|1999|\n",
    "|2024|17599|\n",
    "|10000|104729|\n",
    "\n"
   ]
  },
  {
   "cell_type": "markdown",
   "id": "1abe4197-c87b-44df-b16a-f86a4c491b74",
   "metadata": {},
   "source": [
    "### Your presentation here\n"
   ]
  },
  {
   "cell_type": "code",
   "execution_count": 78,
   "id": "62bfb3e3-290e-446c-ae09-734e1407bd0b",
   "metadata": {},
   "outputs": [
    {
     "name": "stdout",
     "output_type": "stream",
     "text": [
      "104729\n"
     ]
    }
   ],
   "source": [
    "# Method Signature: nthPrime(n:int)\n",
    "\n",
    "def nthPrime(n = 10000):\n",
    "\n",
    "    primes = []\n",
    "    isPrime = True\n",
    "\n",
    "    for i in range(2, n**2):\n",
    "        for j in range(2, round(i/2)):\n",
    "            if i%j == 0:\n",
    "                isPrime = False\n",
    "                break\n",
    "                \n",
    "        if isPrime: primes.append(i)\n",
    "        isPrime = True\n",
    "            \n",
    "        if len(primes) > n: break\n",
    "\n",
    "    print(primes[n])\n",
    "    \n",
    "nthPrime()"
   ]
  },
  {
   "cell_type": "code",
   "execution_count": null,
   "id": "2b983adc-d0b8-4dfb-864e-fc9b66e31cbb",
   "metadata": {},
   "outputs": [],
   "source": []
  }
 ],
 "metadata": {
  "kernelspec": {
   "display_name": "Python 3 (ipykernel)",
   "language": "python",
   "name": "python3"
  },
  "language_info": {
   "codemirror_mode": {
    "name": "ipython",
    "version": 3
   },
   "file_extension": ".py",
   "mimetype": "text/x-python",
   "name": "python",
   "nbconvert_exporter": "python",
   "pygments_lexer": "ipython3",
   "version": "3.8.18"
  }
 },
 "nbformat": 4,
 "nbformat_minor": 5
}
