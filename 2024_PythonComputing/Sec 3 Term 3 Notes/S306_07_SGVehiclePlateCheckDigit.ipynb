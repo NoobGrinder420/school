{
 "cells": [
  {
   "cell_type": "code",
   "execution_count": 15,
   "id": "9476b932-0122-492c-aaea-e5cb93b76978",
   "metadata": {},
   "outputs": [
    {
     "name": "stdin",
     "output_type": "stream",
     "text": [
      "Registration Plate:  SBL88K\n"
     ]
    },
    {
     "name": "stdout",
     "output_type": "stream",
     "text": [
      "0088\n",
      "Checksum failed.\n"
     ]
    }
   ],
   "source": [
    "#Task 3 : Singapore Vehicle Registration Plate Check Digit\n",
    "checksum = \"AZYXUTSRPMLKJHGEDCB\"\n",
    "#weights = {9, 4, 5, 4, 3, 2}\n",
    "#Syntax Runtime Error: curly brackets used instead of square brackets for list\n",
    "weights = [9, 4, 5, 4, 3, 2]\n",
    "total = 0\n",
    "\n",
    "reg_plate = input(\"Registration Plate: \").lower()\n",
    "\n",
    "prefix_length = 0\n",
    "#while reg_plate[prefix_length].isdigit():\n",
    "#Logic Error: prefix is made of letters not integers\n",
    "while reg_plate[prefix_length].isalpha():\n",
    "    prefix_length += 1\n",
    "if prefix_length > 1:\n",
    "    #letter_1 = chr(reg_plate[prefix_length-2].upper())-64\n",
    "    #Logic Error: ord() instead of chr()\n",
    "    letter_1 = ord(reg_plate[prefix_length-2].upper())-64\n",
    "    #letter_2 = ord(reg_plate[prefix_length-1])-64\n",
    "    #Logic Error: .upper() should be used as -64 is used\n",
    "    letter_2 = ord(reg_plate[prefix_length-1].upper())-64\n",
    "    total += letter_1 * weights[0]\n",
    "    total += letter_2 * weights[1]\n",
    "else:\n",
    "    #letter = ord(reg_plate[1].upper())-64\n",
    "    #Logic Error: wrong index\n",
    "    letter = ord(reg_plate[0].upper())-64\n",
    "    total += letter * weights[1]\n",
    "\n",
    "#mainbody = reg_plate[prefix_length:]\n",
    "#logic error: includes check_digit in mainbody\n",
    "mainbody = reg_plate[prefix_length:-1]\n",
    "#mainbody = mainbody + \"0\"*(4-len(mainbody))\n",
    "#Logic Error: wrong order of addition\n",
    "mainbody = \"0\"*(4-len(mainbody)) + mainbody\n",
    "print(mainbody)\n",
    "weight_counter = 2\n",
    "for n in mainbody:\n",
    "    total = int(n) * weights[weight_counter]\n",
    "weight_counter += 1\n",
    "\n",
    "rem = total % 19\n",
    "#if checksum[rem] = reg_plate[1]:\n",
    "#Syntax Error: single = used in if statement \n",
    "#Logic Error: wrong index used\n",
    "if checksum[rem] == reg_plate[-1]:\n",
    "    print(\"Checksum passed.\")\n",
    "else:\n",
    "    print(\"Checksum failed.\")"
   ]
  },
  {
   "cell_type": "code",
   "execution_count": null,
   "id": "b8b275b0-3586-483a-b51a-0fd4daceaa3a",
   "metadata": {},
   "outputs": [],
   "source": [
    "SBL88K"
   ]
  }
 ],
 "metadata": {
  "kernelspec": {
   "display_name": "Python 3 (ipykernel)",
   "language": "python",
   "name": "python3"
  },
  "language_info": {
   "codemirror_mode": {
    "name": "ipython",
    "version": 3
   },
   "file_extension": ".py",
   "mimetype": "text/x-python",
   "name": "python",
   "nbconvert_exporter": "python",
   "pygments_lexer": "ipython3",
   "version": "3.8.18"
  }
 },
 "nbformat": 4,
 "nbformat_minor": 5
}
