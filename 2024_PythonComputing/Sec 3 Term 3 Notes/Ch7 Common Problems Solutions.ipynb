{
 "cells": [
  {
   "cell_type": "markdown",
   "id": "4f5b0bc3-b9ac-4a31-9f01-40081a0b1663",
   "metadata": {},
   "source": [
    "### Learning Outcomes\n",
    "\n",
    "**2.5.1 Explain and use the algorithms for:**\n",
    "- Obtaining the minimum or maximum value(s) in a list without using the min() or max() functions\n",
    "- Calculating the sum or average of values in the list without using the sum() function\n",
    "- Searching for the location(s) of a item in a list or a character in a string without using the index() or find() methods\n",
    "- Extracting items from a list or charachers from a string based on a given criteria\n",
    "- Splitting a string into a list based on a given delimiter without using the split() method\n"
   ]
  },
  {
   "cell_type": "code",
   "execution_count": 143,
   "id": "567b07c5-2904-407b-93e8-c7853c8ab595",
   "metadata": {},
   "outputs": [],
   "source": [
    "# Global variable used for codes below. Compile and run this cell first!\n",
    "numlist = [13, 35, 24, 7, -2, 45, 12]\n",
    "namelist = ['Aletta', 'Bud', 'Carlotta', 'Daniel', 'Emilia', 'Aletta', 'Gilma', 'Hector', \n",
    "            'Ileana', 'Aletta', 'Kristy', 'Lane', 'Miriam', 'Norman', 'Olivia', 'Paul']\n",
    "\n",
    "sst_corpus = '''Do no harm to yourself, do no harm to others and do no harm to the school. The red, the blue, the grey and you.'''"
   ]
  },
  {
   "cell_type": "code",
   "execution_count": 10,
   "id": "1f15f8cc-f8eb-4e47-865e-1453abeacbca",
   "metadata": {},
   "outputs": [
    {
     "name": "stdout",
     "output_type": "stream",
     "text": [
      "The minimum value of numlist is -2\n",
      "-2\n"
     ]
    }
   ],
   "source": [
    "# 7.4.1 Find the minimum value in a list\n",
    "print(f'The minimum value of numlist is {min(numlist)}')\n",
    "\n",
    "smallest = numlist[0]\n",
    "for i in range(len(numlist)):\n",
    "    if smallest <= numlist[i]:\n",
    "        continue\n",
    "\n",
    "    else:\n",
    "        smallest = numlist[i]\n",
    "\n",
    "print(smallest)"
   ]
  },
  {
   "cell_type": "code",
   "execution_count": 11,
   "id": "621498af-7f45-437e-89ef-591f925adf7d",
   "metadata": {},
   "outputs": [
    {
     "name": "stdout",
     "output_type": "stream",
     "text": [
      "The maximum value of numlist is 45\n",
      "45\n"
     ]
    }
   ],
   "source": [
    "# 7.4.1 Find the maximum value in a list\n",
    "print(f'The maximum value of numlist is {max(numlist)}')\n",
    "\n",
    "biggest = numlist[0]\n",
    "for i in range(len(numlist)):\n",
    "    if biggest >= numlist[i]:\n",
    "        continue\n",
    "\n",
    "    else:\n",
    "        biggest = numlist[i]\n",
    "\n",
    "print(biggest)"
   ]
  },
  {
   "cell_type": "code",
   "execution_count": 13,
   "id": "6db6e38b-b747-49ec-9ab3-a2294acfd937",
   "metadata": {},
   "outputs": [
    {
     "name": "stdout",
     "output_type": "stream",
     "text": [
      "The total value of all elements in numlist is 134\n",
      "134\n"
     ]
    }
   ],
   "source": [
    "# 7.4.2 Find the total value of all elements in a list\n",
    "print(f'The total value of all elements in numlist is {sum(numlist)}')\n",
    "\n",
    "total = 0\n",
    "for i in numlist:\n",
    "    total+=i\n",
    "\n",
    "print(total)\n"
   ]
  },
  {
   "cell_type": "code",
   "execution_count": 16,
   "id": "73cd6117-94b0-4048-bb8d-ea88552d5e9b",
   "metadata": {},
   "outputs": [
    {
     "name": "stdout",
     "output_type": "stream",
     "text": [
      "19.14\n"
     ]
    }
   ],
   "source": [
    "# 7.4.2 Find the average value of all elements in a list (rounded to 2dp)\n",
    "# The result should be 19.14\n",
    "\n",
    "total = 0\n",
    "for i in numlist:\n",
    "    total+=i\n",
    "\n",
    "print(round(total/len(numlist), 2))"
   ]
  },
  {
   "cell_type": "code",
   "execution_count": 130,
   "id": "e47c7273-87b3-4abb-95f3-c3b8a3d47cda",
   "metadata": {},
   "outputs": [
    {
     "name": "stdin",
     "output_type": "stream",
     "text": [
      "Enter name to search:  bud\n"
     ]
    },
    {
     "name": "stdout",
     "output_type": "stream",
     "text": [
      "bud is found at position 1 of the namelist.\n",
      "bud is found at 1\n"
     ]
    }
   ],
   "source": [
    "# 7.4.3 Find the location(s) of a value in a list\n",
    "c = 0\n",
    "for i in namelist:\n",
    "    print\n",
    "    namelist[c] = i.lower()\n",
    "    c+=1\n",
    "\n",
    "search_name = input(\"Enter name to search: \")\n",
    "if not (search_name in namelist):\n",
    "    print(\"name not found please re enter\")\n",
    "while not (search_name in namelist):\n",
    "    search_name = input(\"Enter name to search: \")\n",
    "    print(\"name not found please re enter\")\n",
    "\n",
    "print(f'{search_name} is found at position {namelist.index(search_name)} of the namelist.')\n",
    "\n",
    "\n",
    "\n",
    "# How can you find all the positions of search_name?\n",
    "# When the search_name is not found in namelist, it will caused a run-time error. How can you prevent that?\n",
    "\n",
    "counter = 0\n",
    "\n",
    "for i in namelist:\n",
    "    if i != search_name:\n",
    "        counter+=1\n",
    "    else:\n",
    "        print(f\"{search_name} is found at {counter}\")\n",
    "        break\n",
    "        "
   ]
  },
  {
   "cell_type": "code",
   "execution_count": 191,
   "id": "90867b23-c2cb-43a4-85fe-5ab2c907deaf",
   "metadata": {},
   "outputs": [
    {
     "name": "stdin",
     "output_type": "stream",
     "text": [
      "Enter character(s) to search:  and\n"
     ]
    },
    {
     "name": "stdout",
     "output_type": "stream",
     "text": [
      "and is found at position 45 of the SST Corpus.\n",
      "String found at 45\n",
      "String found at 103\n"
     ]
    }
   ],
   "source": [
    "# 7.4.3 Find the location(s) of  character(s) in a string\n",
    "search_ch = input(\"Enter character(s) to search: \")\n",
    "print(f'{search_ch} is found at position {sst_corpus.find(search_ch)} of the SST Corpus.')\n",
    "\n",
    "# How can you find all the positions of search_ch\n",
    "# How do you determine if search_ch is not found?\n",
    "\n",
    "def recursiveFind(phrase1, phrase2, x, y):\n",
    "    #phrase 1 is string youre searching for\n",
    "    #phrase 2 is string youre searching in\n",
    "    \n",
    "    if phrase1[x] == phrase2[y]:\n",
    "        #print(f\"char match number {x+1}/{len(phrase1)}\")\n",
    "\n",
    "        if x == (len(phrase1)-1): return 1  #len(phrase1)-1 is the max index of phrase1\n",
    "        if y == (len(phrase2)-1): return 0  #len(phrase2)-1 is the max index of phrase2\n",
    "        \n",
    "        return recursiveFind(phrase1, phrase2, x+1, y+1)\n",
    "        \n",
    "    else: return 0\n",
    "\n",
    "\n",
    "sigma = False\n",
    "counter = -1\n",
    "\n",
    "for i in sst_corpus:\n",
    "    counter+=1\n",
    "    if i == search_ch[0]:\n",
    "        #print(f\"1st char match at {counter}\")\n",
    "        if recursiveFind(search_ch, sst_corpus, 1, counter+1) == 1:\n",
    "            print(f\"String found at {counter}\")\n",
    "            sigma = True\n",
    "            \n",
    "else: \n",
    "    if not sigma:\n",
    "        print(f\"{search_ch} not found\")\n",
    "        "
   ]
  },
  {
   "cell_type": "code",
   "execution_count": 192,
   "id": "a55938d9-1e07-492b-82f5-89a2b7b33dd8",
   "metadata": {},
   "outputs": [
    {
     "name": "stdin",
     "output_type": "stream",
     "text": [
      "Enter character(s) to search:  and\n"
     ]
    },
    {
     "name": "stdout",
     "output_type": "stream",
     "text": [
      "bryan says and is found at position 45-48, 103-106 of the SST Corpus.\n"
     ]
    }
   ],
   "source": [
    "#BRYANS CODE\n",
    "\n",
    "def find(search_ch, corpus):\n",
    "    found = []\n",
    "    for i in range(len(corpus)-len(search_ch)+1):\n",
    "        if corpus[i:i+len(search_ch)] == search_ch:\n",
    "            if len(search_ch) > 1:  \n",
    "                found.append(f\"{i}-{i+len(search_ch)}\")\n",
    "            else:\n",
    "                found.append(str(i))\n",
    "    return \", \".join(found) if len(found) > 0 else \"none\"\n",
    "        \n",
    "\n",
    "\n",
    "search_ch = input(\"Enter character(s) to search: \")\n",
    "print(f'bryan says {search_ch} is found at position {find(search_ch, sst_corpus)} of the SST Corpus.')\n"
   ]
  },
  {
   "cell_type": "code",
   "execution_count": 100,
   "id": "29fcb87e-d1f9-4aa7-9f2f-0a27e003d7a3",
   "metadata": {},
   "outputs": [
    {
     "name": "stdout",
     "output_type": "stream",
     "text": [
      "13 35 7 45 \n",
      "albucadaemalgiheilalkrlaminoolpa\n"
     ]
    }
   ],
   "source": [
    "# 7.4.4 Extractiong values based of given criteria\n",
    "# 1. Display all odd values in numlist\n",
    "\n",
    "oddlist =[]\n",
    "\n",
    "for i in numlist:\n",
    "    if i%2==1:\n",
    "        oddlist.append(i)\n",
    "\n",
    "for i in oddlist:\n",
    "    print(i, end =' ')\n",
    "\n",
    "# 2. Create a new string made up of the first two characters of every elements in namelist\n",
    "big = \"\"\n",
    "\n",
    "for i in namelist:\n",
    "    small = i[0:2].lower()\n",
    "    big+=small\n",
    "    \n",
    "print(\"\\n\"+big)"
   ]
  },
  {
   "cell_type": "code",
   "execution_count": 121,
   "id": "d9c98de5-8733-4505-b147-a1bcd2c5395c",
   "metadata": {},
   "outputs": [
    {
     "name": "stdout",
     "output_type": "stream",
     "text": [
      "['Computer', 'science', 'is', 'no', 'more', 'about', 'computers', 'than', 'astronomy', 'is', 'about', 'telescopes.']\n"
     ]
    },
    {
     "name": "stdin",
     "output_type": "stream",
     "text": [
      "Enter text:  Computer:science:is:no:more:about:computers:than:astronomy:is:about:telescopes.\n",
      "Enter delimiter to split text:  :\n"
     ]
    },
    {
     "name": "stdout",
     "output_type": "stream",
     "text": [
      "Computer science is no more about computers than astronomy is about telescopes. \n",
      "['Computer', 'science', 'is', 'no', 'more', 'about', 'computers', 'than', 'astronomy', 'is', 'about', 'telescopes.']\n"
     ]
    }
   ],
   "source": [
    "# 7.4.5 Splitting a string into a list based on a given delimiter without using the split() method\n",
    "sample_text = 'Computer:science:is:no:more:about:computers:than:astronomy:is:about:telescopes.'\n",
    "sample_delimiter = \":\"\n",
    "sample_list = sample_text.split(sample_delimiter)\n",
    "print(sample_list)\n",
    "\n",
    "# Your code here\n",
    "mytext = input(\"Enter text: \")\n",
    "delimiter = input(\"Enter delimiter to split text: \")\n",
    "\n",
    "twodlist = [[]]\n",
    "\n",
    "rowNum = 0\n",
    "for i in sample_text:\n",
    "    if i != delimiter:\n",
    "        twodlist[rowNum].append(i)\n",
    "    else:\n",
    "        rowNum+=1\n",
    "        twodlist.append([])\n",
    "\n",
    "mylist = []\n",
    "rownum = 0\n",
    "for i in twodlist:\n",
    "    string = ''\n",
    "    for i in twodlist[rownum]:\n",
    "        print(i, end ='')\n",
    "        string+=i\n",
    "\n",
    "    mylist.append(string)\n",
    "    print(' ', end ='')\n",
    "\n",
    "    rownum+=1\n",
    "\n",
    "print()\n",
    "print(mylist)\n",
    "        \n",
    "        \n",
    "        \n",
    "    \n",
    "    "
   ]
  },
  {
   "cell_type": "code",
   "execution_count": 149,
   "id": "47dfc2d9-249a-4f36-965c-658c72ddf39d",
   "metadata": {},
   "outputs": [
    {
     "name": "stdout",
     "output_type": "stream",
     "text": [
      "['Computer', 'science', 'is', 'no', 'more', 'about', 'computers', 'than', 'astronomy', 'is', 'about', 'telescopes.']\n",
      "Computer ~ science ~ is ~ no ~ more ~ about ~ computers ~ than ~ astronomy ~ is ~ about ~ telescopes.\n"
     ]
    },
    {
     "name": "stdin",
     "output_type": "stream",
     "text": [
      "Enter seperator to join text:   ~ \n"
     ]
    },
    {
     "name": "stdout",
     "output_type": "stream",
     "text": [
      "Computer ~ science ~ is ~ no ~ more ~ about ~ computers ~ than ~ astronomy ~ is ~ about ~ telescopes.\n"
     ]
    }
   ],
   "source": [
    "# 7.4.5 Joining a list into a string based on a given seperator without using the join() method\n",
    "sample_seperator = \" ~ \"\n",
    "sample_list = sample_text.split(sample_delimiter)\n",
    "print(sample_list)\n",
    "sample_string = sample_seperator.join(sample_list)\n",
    "print(sample_string)\n",
    "\n",
    "\n",
    "#mylist = [ ] #populate your list\n",
    "seperator = input(\"Enter seperator to join text: \")\n",
    "\n",
    "long = ''\n",
    "\n",
    "for i in range(len(mylist)):\n",
    "    \n",
    "    if i < len(mylist)-1: \n",
    "        long+=(mylist[i]+seperator)\n",
    "    else: \n",
    "        long+=mylist[i]\n",
    "        \n",
    "\n",
    "print(long)\n",
    "\n",
    "\n",
    "    \n"
   ]
  }
 ],
 "metadata": {
  "kernelspec": {
   "display_name": "Python 3 (ipykernel)",
   "language": "python",
   "name": "python3"
  },
  "language_info": {
   "codemirror_mode": {
    "name": "ipython",
    "version": 3
   },
   "file_extension": ".py",
   "mimetype": "text/x-python",
   "name": "python",
   "nbconvert_exporter": "python",
   "pygments_lexer": "ipython3",
   "version": "3.8.18"
  }
 },
 "nbformat": 4,
 "nbformat_minor": 5
}
