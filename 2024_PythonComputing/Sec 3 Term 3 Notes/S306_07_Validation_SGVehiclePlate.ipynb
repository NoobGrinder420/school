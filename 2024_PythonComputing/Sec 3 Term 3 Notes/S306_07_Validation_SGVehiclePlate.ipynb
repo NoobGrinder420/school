{
 "cells": [
  {
   "cell_type": "markdown",
   "id": "37071a2f-02a2-4d6e-a3d6-328e0aa17da4",
   "metadata": {},
   "source": [
    "Singapore vehicle registration plates consist of a prefix, main body and a check digit.\n",
    "- The prefix consists of at least 1 to a maximum of 3 letters.\n",
    "- The main body consists of at least 1 to a maximum of 4 numbers.\n",
    "- The check digit is a single letter.\n",
    "\n",
    "Write a function, `validateSGPlates()`, that has the parameter `plate_number` passed to it. The function must validate the format of `plate_number` based on the above requirements. The function will return `True` if the validation passed, otherwise return `False`."
   ]
  },
  {
   "cell_type": "code",
   "execution_count": 9,
   "id": "326083e9-6e6c-4035-823e-f78c48c82763",
   "metadata": {},
   "outputs": [
    {
     "name": "stdin",
     "output_type": "stream",
     "text": [
      " a0c\n"
     ]
    },
    {
     "name": "stdout",
     "output_type": "stream",
     "text": [
      "False\n"
     ]
    }
   ],
   "source": [
    "def validateSGPlates(plate_number = input()):\n",
    "\n",
    "    prefix = []\n",
    "    main_body = []\n",
    "    chars = [i for i in plate_number]\n",
    "\n",
    "\n",
    "    #Finding check_digit\n",
    "    if not chars[-1].isalpha():\n",
    "        return False\n",
    "    else:\n",
    "        check_digit = chars.pop(-1)\n",
    "\n",
    "    \n",
    "    #Differentiating main body and prefix\n",
    "    for x in chars:\n",
    "        if x.isdigit():\n",
    "            main_body.append(x)\n",
    "        elif x.isalpha():\n",
    "            prefix.append(x)\n",
    "        else:\n",
    "            return False\n",
    "\n",
    "\n",
    "    #Checking if characters are consecutive\n",
    "    if prefix != chars[:len(prefix):]:\n",
    "        return False\n",
    "    elif main_body != chars[len(prefix)::]:\n",
    "        return False\n",
    "        \n",
    "\n",
    "    #Checking number of characters in prefix and main body\n",
    "    if len(main_body) < 1 or len(main_body) > 4:\\\n",
    "        return False\n",
    "    elif len(prefix) < 1 or len(prefix) > 3:\n",
    "        return False\n",
    "\n",
    "    #Checking for leading 0's\n",
    "    if main_body[0] == '0':\n",
    "        return False\n",
    "\n",
    "    return True\n",
    "\n",
    "        \n",
    "\n",
    "print(validateSGPlates())"
   ]
  },
  {
   "cell_type": "code",
   "execution_count": null,
   "id": "7875742e-78e9-4a09-8e2e-5934f7259e42",
   "metadata": {},
   "outputs": [],
   "source": [
    "ab1234z"
   ]
  }
 ],
 "metadata": {
  "kernelspec": {
   "display_name": "Python 3 (ipykernel)",
   "language": "python",
   "name": "python3"
  },
  "language_info": {
   "codemirror_mode": {
    "name": "ipython",
    "version": 3
   },
   "file_extension": ".py",
   "mimetype": "text/x-python",
   "name": "python",
   "nbconvert_exporter": "python",
   "pygments_lexer": "ipython3",
   "version": "3.8.18"
  }
 },
 "nbformat": 4,
 "nbformat_minor": 5
}
