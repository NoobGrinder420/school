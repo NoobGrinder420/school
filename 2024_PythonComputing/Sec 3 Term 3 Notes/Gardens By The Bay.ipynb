{
 "cells": [
  {
   "cell_type": "markdown",
   "id": "fe92f036-4ca2-4b6b-ab61-f2361de98f53",
   "metadata": {},
   "source": [
    "### GARDENS BY THE BAY\n",
    "You are a floriculturist working for Gardens by the Bay. For the next exhibition, you wish to plant the flowers such that they do not block other flowers while they are visible.  \n",
    "\n",
    "Each type of flower is represented by the following attributes: height, bloom, and wilt. \n",
    "height represents how high each type of flower grows, \n",
    "bloom represents the morning that each type of flower springs from the ground, and \n",
    "wilt represents the evening that each type of flower shrivels up and dies. \n",
    "\n",
    "You must plant all of the flowers of the same type in a single row for appearance, and you also want to have the tallest flowers as far forward as possible. However, if a flower type is taller than another type, and both types can be out of the ground at the same time, the shorter flower must be planted in front of the taller flower to prevent blocking. A flower blooms in the morning, and wilts in the evening, so even if one flower is blooming on the same day another flower is wilting, one can block the other.\n",
    "\n",
    "**INPUT**  \n",
    "1st line: `height[]`  \n",
    "2nd line: `bloom[]`  \n",
    "3rd line: `wilt[]`  \n",
    "\n",
    "-    height will have between 2 and 50 elements, inclusive.\n",
    "-    bloom will have the same number of elements as height\n",
    "-    wilt will have the same number of elements as height\n",
    "-    height will have no repeated elements.\n",
    "-    Each element of height will be between 1 and 1000, inclusive.\n",
    "-    Each element of bloom will be between 1 and 365, inclusive.\n",
    "-    Each element of wilt will be between 1 and 365, inclusive.\n",
    "-    For each element i of bloom and wilt, wilt[i] will be greater than bloom[i].\n",
    "\n",
    "**OUTPUT**  \n",
    "A single list of integers which contains the elements of height in the order you should plant your flowers to achieve the above goals. The front of the garden is represented by the first element in your return value, and is where you view the garden from. The elements of height will all be unique, so there will always be a well-defined ordering.\n",
    "\n"
   ]
  },
  {
   "cell_type": "markdown",
   "id": "acd82016-ba4c-498b-8c74-ef363fcf0847",
   "metadata": {},
   "source": [
    "### Sample Test Cases\n",
    "*Examples 0*    \n",
    "`[5,4,3,2,1]`  \n",
    "`[1,1,1,1,1]`  \n",
    "`[365,365,365,365,365]`  \n",
    "\n",
    "Returns: `[1,  2,  3,  4,  5]`  \n",
    "These flowers all bloom on January 1st and wilt on December 31st. Since they all may block each other, you must order them from shortest to tallest.\n",
    "\n",
    "*Example 1*  \n",
    "`[5,4,3,2,1]`  \n",
    "`[1,5,10,15,20]`  \n",
    "`[4,9,14,19,24]`  \n",
    "Returns: `[5,  4,  3,  2,  1]`  \n",
    "The same set of flowers now bloom all at separate times. Since they will never block each other, you can order them from tallest to shortest to get the tallest ones as far forward as possible.\n",
    "\n",
    "*Example 2*  \n",
    "`[5,4,3,2,1]`  \n",
    "`[1,5,10,15,20]`  \n",
    "`[5,10,15,20,25]`  \n",
    "Returns: `[1,  2,  3,  4,  5]`  \n",
    "Although each flower only blocks at most one other, they all must be ordered from shortest to tallest to prevent any blocking from occurring.\n",
    "\n",
    "*Example 3*  \n",
    "`[5,4,3,2,1]`  \n",
    "`[1,5,10,15,20]`  \n",
    "`[5,10,14,20,25]`  \n",
    "Returns: `[ 3,  4,  5,  1,  2 ]`  \n",
    "The difference here is that the third type of flower wilts one day earlier than the blooming of the fourth flower. Therefore, we can put the flowers of height 3 first, then the flowers of height 4, then height 5, and finally the flowers of height 1 and 2. Note that we could have also ordered them with height 1 first, but this does not result in the maximum possible height being first in the garden.\n"
   ]
  },
  {
   "cell_type": "markdown",
   "id": "269f1219-cd19-474d-aa91-faee3ad2d7e6",
   "metadata": {},
   "source": [
    "### Your Presentation here\n"
   ]
  },
  {
   "cell_type": "code",
   "execution_count": 144,
   "id": "fa8b4ec6-34cb-482a-a91f-87821aedbafa",
   "metadata": {},
   "outputs": [
    {
     "name": "stdin",
     "output_type": "stream",
     "text": [
      " [5,4,3,2,1]\n",
      " [1,5,10,15,20]\n",
      " [5,10,14,20,25]\n"
     ]
    },
    {
     "name": "stdout",
     "output_type": "stream",
     "text": [
      "[[5, 1, 5], [4, 5, 10], [3, 10, 14], [2, 15, 20], [1, 20, 25]]\n",
      "[3, 4, 5, 1, 2]\n"
     ]
    }
   ],
   "source": [
    "# Your code here\n",
    "height = eval(input())\n",
    "bloom = eval(input())\n",
    "wilt = eval(input())\n",
    "\n",
    "flowers = [[height[i], bloom[i], wilt[i]] for i in range(len(height))]\n",
    "\n",
    "for j in range(len(height)):\n",
    "    for i in range(len(height) - 1 - j):\n",
    "        if flowers[i][0] < flowers[i+1][0]:\n",
    "            x = flowers[i+1]\n",
    "            flowers[i+1] = flowers[i]\n",
    "            flowers[i] = x\n",
    "\n",
    "for a in range(len(flowers)):\n",
    "    for b in range(a, len(flowers)):\n",
    "        \n",
    "        if a == b: continue\n",
    "        if flowers[a][0] > flowers[b][0]: i, j = a, b\n",
    "        else: i, j = b, a\n",
    "        \n",
    "        if flowers[i][1] <= flowers[j][1] <= flowers[i][2] or flowers[j][1] <= flowers[i][1] <= flowers[j][2] or flowers[i][1] <= flowers[j][2] <= flowers[i][2]:\n",
    "            x = flowers[j]\n",
    "            flowers[j] = flowers[i]\n",
    "            flowers[i] = x\n",
    "\n",
    "print([flowers[i][0] for i in range(len(flowers))])\n"
   ]
  },
  {
   "cell_type": "code",
   "execution_count": null,
   "id": "5c12dbe3-8875-44c8-a7e0-7d704565512f",
   "metadata": {},
   "outputs": [],
   "source": []
  }
 ],
 "metadata": {
  "kernelspec": {
   "display_name": "Python 3 (ipykernel)",
   "language": "python",
   "name": "python3"
  },
  "language_info": {
   "codemirror_mode": {
    "name": "ipython",
    "version": 3
   },
   "file_extension": ".py",
   "mimetype": "text/x-python",
   "name": "python",
   "nbconvert_exporter": "python",
   "pygments_lexer": "ipython3",
   "version": "3.8.18"
  }
 },
 "nbformat": 4,
 "nbformat_minor": 5
}
