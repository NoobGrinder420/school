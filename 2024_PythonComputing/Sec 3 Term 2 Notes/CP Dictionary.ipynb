{
 "cells": [
  {
   "cell_type": "markdown",
   "id": "d5e36644-7225-46e5-b65a-7400b62a8fc2",
   "metadata": {},
   "source": [
    "## Dictionary\n",
    "A dictionary is a mapping type objects. Unlike sequences, which are indexed by a range of numbers, dictionaries are indexed by keys, which can be any immutable type; strings and numbers can always be keys. Tuples can be used as keys if they contain only strings, numbers, or tuples; if a tuple contains any mutable object either directly or indirectly, it cannot be used as a key. You can’t use lists as keys, since lists can be modified in place using index assignments, slice assignments, or methods like append() and extend().\n",
    "\n",
    "It is best to think of as a set of *key: value* pairs, with the requirement that the keys are unique (within one dictionary). A pair of braces creates an empty dictionary: {}. \n",
    "\n",
    "The main operations on a dictionary are storing a value with some key and extracting the value given the key. It is also possible to delete a key:value pair with del. If you store using a key that is already in use, the old value associated with that key is forgotten. It is an error to extract a value using a non-existent key.\n",
    "\n",
    "### Learning Outcomes\n",
    "- 2.3.10\tUse dictionary values with appropriate operators to perform dictionary insertion, query, lookup and deletion.\n"
   ]
  },
  {
   "cell_type": "markdown",
   "id": "fd6bbbf8-b010-4d34-8d24-d883617f9cee",
   "metadata": {},
   "source": [
    "### 4.13.1 Dictionary Literals\n",
    "**Syntax:**  \n",
    "- dictionary_1 = {} #empty dictionary  \n",
    "- dictionary_1 = { key_1:value_1, key_2:value_2, .... key_n:value_n }  "
   ]
  },
  {
   "cell_type": "code",
   "execution_count": 16,
   "id": "fecfd684-d6c1-42c7-ad7d-57297b7602f5",
   "metadata": {},
   "outputs": [],
   "source": [
    "#Creating a dictionary with pre-defined key/values\n",
    "myExams = { \"EL\": 87, \"CL\": 33, \"EM\":78, \"AM\":51, \"CP\":88}"
   ]
  },
  {
   "cell_type": "markdown",
   "id": "04a7d0ef-96a3-4485-8130-2505864ff25e",
   "metadata": {},
   "source": [
    "### 4.13.2\tDictionary Operators\n",
    "#### 4.13.2.1\tIndexing\n",
    "Looking up the value associated with a key uses the indexing operator:  \n",
    "**Syntax**\n",
    "- `dictionary[key]` will return the value paired with key.\n",
    "- `dictionary[new_key] = value` will create a entry in dictionary with *key:value* pair. If key exist, old value will be overwritten.\n",
    "- `del dictionary[key]` will delete the *key:value* pair in the dictionary.\n"
   ]
  },
  {
   "cell_type": "code",
   "execution_count": 18,
   "id": "e9fab231-330a-464e-b752-184eb15897d0",
   "metadata": {},
   "outputs": [
    {
     "name": "stdout",
     "output_type": "stream",
     "text": [
      "87\n",
      "noob just say\n"
     ]
    }
   ],
   "source": [
    "#Accessing a value using key index\n",
    "EL_Score = myExams[\"EL\"]\n",
    "print(EL_Score)\n",
    "myExams[\"Ge\"] = 70   #create a new entry in dictionary\n",
    "\n",
    "try:\n",
    "    del myExams[\"CL\"]  #delete away the CL entry in dictionary\n",
    "    print(myExams[\"CL\"])\n",
    "except KeyError:\n",
    "    print(\"noob just say\")"
   ]
  },
  {
   "attachments": {},
   "cell_type": "markdown",
   "id": "e5b575c2-7dca-4a95-b610-02c04df1df07",
   "metadata": {},
   "source": [
    "#### 4.13.2.2\tMembership\r\n",
    "To test whether a key exists in a dictionary, use the “in” membership operator .\r\n"
   ]
  },
  {
   "cell_type": "code",
   "execution_count": 11,
   "id": "ea29d410-23df-4f06-b812-01702746ea08",
   "metadata": {},
   "outputs": [
    {
     "name": "stdout",
     "output_type": "stream",
     "text": [
      "You do not take BT subject!\n"
     ]
    }
   ],
   "source": [
    "#check if key exist in dictionary\n",
    "subject = \"BT\"\n",
    "if subject in myExams:\n",
    "    print(\"Grade for {}: {}\".format(subject, myExams[subject]))\n",
    "else:\n",
    "    print(\"You do not take {} subject!\".format(subject))"
   ]
  },
  {
   "cell_type": "code",
   "execution_count": null,
   "id": "37d36800-7e3c-43ff-9fd2-37a510b302ca",
   "metadata": {},
   "outputs": [],
   "source": []
  }
 ],
 "metadata": {
  "kernelspec": {
   "display_name": "Python 3 (ipykernel)",
   "language": "python",
   "name": "python3"
  },
  "language_info": {
   "codemirror_mode": {
    "name": "ipython",
    "version": 3
   },
   "file_extension": ".py",
   "mimetype": "text/x-python",
   "name": "python",
   "nbconvert_exporter": "python",
   "pygments_lexer": "ipython3",
   "version": "3.8.18"
  }
 },
 "nbformat": 4,
 "nbformat_minor": 5
}
