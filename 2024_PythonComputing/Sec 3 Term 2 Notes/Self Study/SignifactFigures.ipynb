{
 "cells": [
  {
   "cell_type": "code",
   "execution_count": 42,
   "id": "8550fdfa-8945-47d0-8e85-cd20224238f2",
   "metadata": {},
   "outputs": [
    {
     "data": {
      "text/plain": [
       "54.54888"
      ]
     },
     "execution_count": 42,
     "metadata": {},
     "output_type": "execute_result"
    }
   ],
   "source": [
    "from math import log10, floor\n",
    "\n",
    "def round_sig(num, sf=3):\n",
    "\treturn round(num,   sf - (1 + int(floor(log10(abs(num))))))\n",
    "\n",
    "round_sig(54.54888, 100)"
   ]
  },
  {
   "cell_type": "code",
   "execution_count": 40,
   "id": "24bcf304-1979-4cec-8ebe-65c19587f2d7",
   "metadata": {},
   "outputs": [
    {
     "name": "stdout",
     "output_type": "stream",
     "text": [
      "1\n"
     ]
    }
   ],
   "source": [
    "print(int(floor(log10(abs(54.54888)))))"
   ]
  },
  {
   "cell_type": "code",
   "execution_count": 35,
   "id": "751323d2-8179-4f79-97d7-53fb6aee1074",
   "metadata": {},
   "outputs": [
    {
     "name": "stdout",
     "output_type": "stream",
     "text": [
      "54.5\n"
     ]
    }
   ],
   "source": [
    "print(round(54.54888,  1))"
   ]
  },
  {
   "cell_type": "code",
   "execution_count": null,
   "id": "5d82bda3-79e6-4ae0-8a69-3e2612a9ed3d",
   "metadata": {},
   "outputs": [],
   "source": []
  }
 ],
 "metadata": {
  "kernelspec": {
   "display_name": "Python 3 (ipykernel)",
   "language": "python",
   "name": "python3"
  },
  "language_info": {
   "codemirror_mode": {
    "name": "ipython",
    "version": 3
   },
   "file_extension": ".py",
   "mimetype": "text/x-python",
   "name": "python",
   "nbconvert_exporter": "python",
   "pygments_lexer": "ipython3",
   "version": "3.8.18"
  }
 },
 "nbformat": 4,
 "nbformat_minor": 5
}
