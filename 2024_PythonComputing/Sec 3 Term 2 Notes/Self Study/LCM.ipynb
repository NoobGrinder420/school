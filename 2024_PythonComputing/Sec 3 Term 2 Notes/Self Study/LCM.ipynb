{
 "cells": [
  {
   "cell_type": "code",
   "execution_count": 4,
   "id": "72843cfb-87d9-4313-9c3a-5b7d023aeac3",
   "metadata": {},
   "outputs": [
    {
     "name": "stdin",
     "output_type": "stream",
     "text": [
      " 56\n",
      " 8\n"
     ]
    },
    {
     "name": "stdout",
     "output_type": "stream",
     "text": [
      "56\n"
     ]
    }
   ],
   "source": [
    "#Lowest common multiple\n",
    "import math\n",
    "\n",
    "def LCM(a=int(input()),b=int(input())):\n",
    "\n",
    "    ballsack = True\n",
    "\n",
    "    if a >b:\n",
    "        big = a\n",
    "        small = b\n",
    "    elif b>a:\n",
    "        big = b\n",
    "        small = a\n",
    "    else:\n",
    "        ballsack=False\n",
    "        print(a)\n",
    "\n",
    "    i=0\n",
    "    \n",
    "    while ballsack==True:\n",
    "        i+=1\n",
    "        if (i*big)%small==0:\n",
    "            print(i*big)\n",
    "            break\n",
    "\n",
    "LCM()\n",
    "        "
   ]
  },
  {
   "cell_type": "code",
   "execution_count": 60,
   "id": "9f660171-7fa2-4c19-8c1d-972d0813108a",
   "metadata": {},
   "outputs": [
    {
     "name": "stdin",
     "output_type": "stream",
     "text": [
      " ff ff\n"
     ]
    },
    {
     "name": "stdout",
     "output_type": "stream",
     "text": [
      "Ff Ff\n"
     ]
    }
   ],
   "source": [
    "#Makes name first letter capital\n",
    "\n",
    "S = str(input())\n",
    "    \n",
    "splitNames = S.split()\n",
    "x = []\n",
    "for i in splitNames:\n",
    "    \n",
    "    list = [nuts for nuts in i]\n",
    "    list[0]=(list[0]).upper()\n",
    "    \n",
    "    x.append((list[0]).upper() + (''.join(list[1:(len(list)+1)])))\n",
    "\n",
    "\n",
    "print(' '.join(x))\n"
   ]
  },
  {
   "cell_type": "code",
   "execution_count": 76,
   "id": "f801b5d3-9d3a-4ba8-b346-5167c87b523d",
   "metadata": {},
   "outputs": [
    {
     "name": "stdout",
     "output_type": "stream",
     "text": [
      "10\n"
     ]
    }
   ],
   "source": [
    "def func(*b):\n",
    "    print(sum(b))\n",
    "\n",
    "func(1, 2, 3, 4)"
   ]
  },
  {
   "cell_type": "code",
   "execution_count": 89,
   "id": "98838e0f-1f3b-40fd-98af-20e6d24df709",
   "metadata": {},
   "outputs": [
    {
     "name": "stdout",
     "output_type": "stream",
     "text": [
      "{'brand': 'Ford', 'model': 'Mustang', 'year': 1964, 'SN': 3454}\n"
     ]
    }
   ],
   "source": [
    "car =\t{\n",
    "  \"brand\": \"Ford\",\n",
    "  \"model\": \"Mustang\",\n",
    "  \"year\": 1964\n",
    "}\n",
    "car[\"SN\"] = 3454\n",
    "print(car)"
   ]
  },
  {
   "cell_type": "code",
   "execution_count": null,
   "id": "6178e732-ca9d-4fea-abc2-852088721956",
   "metadata": {},
   "outputs": [],
   "source": [
    "#PUTCOMMENTS\n",
    "Rounding:\n",
    "\n",
    "NUM = 12.3456\n",
    "\n",
    "##Decimal Places\n",
    "#Method 1\n",
    "num = float(‘%.2f’%NUM)     #Result: num = 12.34\n",
    "\n",
    "#Method 2\n",
    "num = round(NUM, 2)    #Result: num = 12.34\n",
    "\n",
    "num = round(NUM, -1)    #Result: num = 10.0     (units digit and afterwards is removed)\n",
    "\n",
    "##Significant Figures\n",
    "\n",
    "from math import log10, floor\n",
    "\n",
    "def round_sig(num, sf=3):\n",
    "\treturn round(num,   sf - (1 + int(floor(log10(abs(num))))))  \n",
    "\n",
    "#log10 a number is the number of non-decimal digits -1\n",
    "\n",
    "num = round_sig(NUM)            \n",
    "\n",
    "#Result: num = 12.3 ",
    " ",
    " ",
    " ",
    " ",
    " ",
    " ",
    " ",
    " ",
    "Dictionaries:\n",
    "\n",
    "dictionary[key]                        \n",
    "#will return the value paired with key.\n",
    "\n",
    "\n",
    "dictionary[new_key] = value  \n",
    "#will create a entry in dictionary with key:value pair. If key exist, old value will be overwritten.\n",
    "\n",
    "del dictionary[key] \n",
    "#will delete the key:value pair in the dictionary.\n",
    "\n",
    "if key in dictionary\n",
    "#Boolean to see if a key is a member of a list\n",
    "\n",
    "\n",
    "keys = list(dictionary.keys()) #list of keys\n",
    "values = list(dictionary.values()) #list of values\n",
    "#indexes of keys and values in this list will be corresponding \n",
    "#use method .index(). to find index in a list ",
    " ",
    " ",
    " ",
    " ",
    "\n",
    "\n",
    "\n",
    "Files:\n",
    "\n",
    "open( “{file_name}”,  “{modeType}” )\n",
    "\n",
    "#modeType {“r”} is for reading\n",
    "#modeType {“w”} creates a new file or deletes the value of an existing file\n",
    "\n",
    "##File Methods\n",
    ".close() \n",
    "#saves info \n",
    "#can be avoided with:\n",
    "\n",
    "with open(filename, 'r') as fin:\n",
    "    #code associated with fin\n",
    "\n",
    "\n",
    ".read() \n",
    "#Returns the entire text file (including \\n) as a str.\n",
    "\n",
    ".readline() \n",
    "#Returns the next line from the text file (including a \\n at the end, if present) or an empty str if already at the end of the file.\n",
    "\n",
    ".readlines() \n",
    "#Returns a list of all the lines in the text file. (Each line includes a \\n at the end, if present)\n",
    "\n",
    ".write(str) \n",
    "#Writes the string argument into the text file. Does not automatically add a newline character.\n",
    "\n",
    "str.rstrip([chars])\n",
    "#removes chars (whitespace by default) from the right side of the string (any trailing chars)\n",
    "\n",
    "\n",
    "\n",
    "\n",
    "\n",
    "\n",
    "Random:\n",
    "\n",
    "randint()\t\n",
    "#Returns a random number between the given range\n",
    "\n",
    "random()\t\n",
    "#Returns a random float number between 0 and 1\n",
    "\n",
    "uniform()\t\n",
    "#Returns a random float number between two given parameters\n",
    "\n",
    "sample(list, k=x)\t#k is the number of values returned. k cannot be greater than len(list)\n",
    "#Returns a given sample of a sequence\n",
    "#cannot repeat values\n",
    "\n",
    "choices(list, k=x)\t#k is the number of values returned\n",
    "#Returns a list with a random selection from the given sequence\n",
    "#Can repeat values \n",
    "\n",
    "choice()\n",
    "#Returns a random element from the given sequence\n",
    "\n",
    "shuffle()\t\n",
    "#Takes a sequence and returns the sequence in a random order\n",
    "\n",
    "getrandbits()\t\n",
    "#Returns a number representing the random bits\n",
    "\n",
    "\n",
    "\n",
    "\n",
    "\n",
    "\n",
    "Math:\n",
    "\n",
    "import math\n",
    "\n",
    "math.ceil()    #round up\n",
    "math.floor()  #round down\n",
    "\n",
    "math.factorial()  #factorial\n",
    "math.sqrt(x ,y)\n",
    "\n",
    "math.trunc() #remove decimal portion and leaves only negative/positive sign and integer\n",
    "\n",
    "math.dist(p, q).   #p and q are both lists with 2 values for coordinates such that they = [x, y]\n",
    "#calculates the euclidean distance between 2 points on the cartesian scale\n",
    "\n",
    "math.comb(n, r)  #same as binomials (nCr)\n",
    "\n",
    "##Trigonometry\n",
    "#angle to ratio\n",
    "math.sin()   \n",
    "math.cos()\n",
    "math.tan()\n",
    "\n",
    "#ratio to angle\n",
    "math.asin(). #sin^-1\n",
    "math.acos()  #sin^-1\n",
    "math.atan().  #tan^-1\n",
    "\n",
    "\n",
    "\n",
    "\n",
    "x = mySeparator.join(iterables)\n",
    "\n",
    "fruits = [\"apple\", \"banana\", \"cherry\"]\n",
    "fruits.remove(\"banana\")\n",
    "\n",
    "fruits = ['apple', 'cherry']\n",
    "\n",
    ".insert()\n",
    "\n",
    "\n",
    "\n",
    "\n",
    "\n",
    "List comprehension:\n",
    "newlist = [expression for item in iterable if condition == True]\n",
    "item is added when condition is true\n",
    "\n",
    "newlist = [expression if condition == True else expression  for item in iterable]\n",
    "item is changed to expression when condition is true\n",
    "\n",
    "\n",
    "my_range = list(range(11,1, -2))\n",
    "print(my_range)\n",
    "output = [11, 9, 7, 5, 3]\n",
    "\n",
    "\n",
    "\n",
    "Dictionary comprehension:\n",
    "res = {test_keys[i]: test_values[i] for i in range(len(test_keys))}\n",
    "\n",
    "\n",
    "\n",
    "\n",
    "\n",
    "Strings:\n",
    "\n",
    "str.count(sub[, start[, end]])\n",
    "\n",
    "Return the number of non-overlapping occurrences of substring sub in the range [start, end]. Optional arguments\n",
    "\n",
    "\n",
    "txt = \"Hello World\"\n",
    "txt = txt.replace(\"H\", \"J\")\n",
    "output = “Jello World”\n",
    "\n",
    "\n",
    "\n",
    "string.split(separator, maxsplit)\n",
    "\n",
    "#Example:\n",
    "txt = \"apple#banana#cherry#orange\"\n",
    "\n",
    "# setting the maxsplit parameter to 1, will return a list with 2 elements!\n",
    "x = txt.split(\"#\", 1)\n",
    "output = [‘apple’, ‘banana#cherry#orange’ ]\n",
    "\n",
    "\n",
    "s.index(x[, i[, j]])\tindex of first occurrence of x in s (at or after index i and before index j\n",
    "\n",
    "\n",
    "str.endswith(suffix[, start[, end]])\n",
    "str.startswith(prefix[, start[, end]])\n",
    "\n",
    "Return True if the string starts/ends with the specified phrase, otherwise return False\n",
    "\n",
    "\n",
    "\n",
    "str.find(sub[, start[, end]])\n",
    "\n",
    "Return the lowest index in the string where substring sub is found within the slice s[start:end]. Optional arguments start and end are interpreted as in slice notation. Return -1 if sub is not found.\n",
    "\n",
    "\n",
    "# alignment\n",
    "print('{:<30}'.format('left aligned'))\n",
    "print('{:>30}'.format('right aligned'))\n",
    "print('{:^30}'.format('centered'))\n",
    "print('{:*^30}'.format('centered'))  # use * as a fill char\n",
    "print()\n",
    "\n",
    "#  thousands separator:\n",
    "print('{:,}'.format(12345678900))\n",
    "\n",
    "\n",
    "str.isalnum()\n",
    "str.isalpha()\n",
    "str.isdigit()\n",
    "str.islower()\n",
    "str.isspace()\n",
    "str.isupper()\n",
    "\n",
    "\n",
    "\n",
    "\n",
    "\n",
    "\n",
    "\n",
    "\n",
    "\n",
    "\n",
    "Mutable sequences:\n",
    "\n",
    "s.reverse()\t#reverses the items of s in place\n",
    "s.pop() or s.pop(i)\t#retrieves the item at i and also removes it from s\n",
    "s *= n\t#updates s with its contents repeated n times\n",
    "\n",
    "s.sort(*, key=None, reverse=False)   #when reverse is true, s is sorted in descending order\n",
    "\n",
    "#This method sorts the list in place, using only < comparisons between items (ascending).\n",
    "sort() accepts two arguments that can only be passed by keyword (keyword-only arguments):\n",
    "\n",
    "\n",
    "#deep copy a list (has its own properties)\n",
    "mylist3 = mylist.copy() #method version of mylist.copy() is list(mylist)\n",
    "mylist3[0] = -45\n",
    "\n",
    "\n",
    "\n",
    "\n",
    "The ord() function returns the number representing the unicode code of a specified character.\n",
    "The chr() function converts it back\n"
   ]
  },
  {
   "cell_type": "code",
   "execution_count": 92,
   "id": "9616c436-5031-43ab-bab5-c80f64d639eb",
   "metadata": {},
   "outputs": [
    {
     "name": "stdout",
     "output_type": "stream",
     "text": [
      "2\n"
     ]
    }
   ],
   "source": [
    "print(int(pow(8,(1/3))))"
   ]
  },
  {
   "cell_type": "code",
   "execution_count": 118,
   "id": "198865af-fee0-4a98-b8a3-a1b08746e9f3",
   "metadata": {},
   "outputs": [
    {
     "name": "stdout",
     "output_type": "stream",
     "text": [
      "67\n"
     ]
    }
   ],
   "source": [
    "#creating a list \n",
    "number = [54,67,12,33,69,32] \n",
    "number.pop(4)\n",
    "#printing max element \n",
    "print(max(number))"
   ]
  },
  {
   "cell_type": "code",
   "execution_count": 120,
   "id": "67b9ac21-addc-4709-9e1d-4306d9889a64",
   "metadata": {},
   "outputs": [
    {
     "name": "stdout",
     "output_type": "stream",
     "text": [
      "2.0\n"
     ]
    }
   ],
   "source": []
  },
  {
   "cell_type": "code",
   "execution_count": null,
   "id": "31aa50b5-4f06-4a68-b008-87930c9cb03d",
   "metadata": {},
   "outputs": [],
   "source": []
  },
  {
   "cell_type": "code",
   "execution_count": null,
   "id": "9f4ca53a-0a6c-475a-986d-3c81971aa782",
   "metadata": {},
   "outputs": [],
   "source": []
  }
 ],
 "metadata": {
  "kernelspec": {
   "display_name": "Python 3 (ipykernel)",
   "language": "python",
   "name": "python3"
  },
  "language_info": {
   "codemirror_mode": {
    "name": "ipython",
    "version": 3
   },
   "file_extension": ".py",
   "mimetype": "text/x-python",
   "name": "python",
   "nbconvert_exporter": "python",
   "pygments_lexer": "ipython3",
   "version": "3.8.18"
  }
 },
 "nbformat": 4,
 "nbformat_minor": 5
}
