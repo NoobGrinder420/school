{
 "cells": [
  {
   "cell_type": "code",
   "execution_count": 59,
   "id": "4fa47337-6f1e-473e-941e-1e9d78784551",
   "metadata": {},
   "outputs": [
    {
     "name": "stdout",
     "output_type": "stream",
     "text": [
      "1 \n",
      "\n",
      "1 1 \n",
      "\n",
      "1 2 1 \n",
      "\n",
      "1 3 3 1 \n",
      "\n",
      "1 4 6 4 1 \n",
      "\n",
      "1 5 10 10 5 1 \n",
      "\n",
      "1 6 15 20 15 6 1 \n",
      "\n",
      "1 7 21 35 35 21 7 1 \n",
      "\n",
      "1 8 28 56 70 56 28 8 1 \n",
      "\n",
      "1 9 36 84 126 126 84 36 9 1 \n",
      "\n",
      "1 10 45 120 210 252 210 120 45 10 1 \n",
      "\n",
      "1 11 55 165 330 462 462 330 165 55 11 1 \n",
      "\n",
      "1 12 66 220 495 792 924 792 495 220 66 12 1 \n",
      "\n",
      "1 13 78 286 715 1287 1716 1716 1287 715 286 78 13 1 \n",
      "\n",
      "1 14 91 364 1001 2002 3003 3432 3003 2002 1001 364 91 14 1 \n",
      "\n",
      "1 15 105 455 1365 3003 5005 6435 6435 5005 3003 1365 455 105 15 1 \n",
      "\n"
     ]
    }
   ],
   "source": [
    "from math import comb\n",
    "\n",
    "MAXn = 15\n",
    "\n",
    "for n in range((MAXn+1)):\n",
    "    r=0\n",
    "    for i in range(0, (n+1)):\n",
    "        print(comb(n,r), end=' ')\n",
    "        r+=1\n",
    "    print(\"\\n\")"
   ]
  },
  {
   "cell_type": "code",
   "execution_count": 57,
   "id": "0561defe-5eea-4bf6-86b1-827d29560d53",
   "metadata": {},
   "outputs": [
    {
     "name": "stdout",
     "output_type": "stream",
     "text": [
      "2\n"
     ]
    }
   ],
   "source": [
    "print(8%3)"
   ]
  },
  {
   "cell_type": "code",
   "execution_count": null,
   "id": "21f1ab85-b797-45f7-a9e2-7b50e1fd8552",
   "metadata": {},
   "outputs": [],
   "source": []
  }
 ],
 "metadata": {
  "kernelspec": {
   "display_name": "Python 3 (ipykernel)",
   "language": "python",
   "name": "python3"
  },
  "language_info": {
   "codemirror_mode": {
    "name": "ipython",
    "version": 3
   },
   "file_extension": ".py",
   "mimetype": "text/x-python",
   "name": "python",
   "nbconvert_exporter": "python",
   "pygments_lexer": "ipython3",
   "version": "3.8.18"
  }
 },
 "nbformat": 4,
 "nbformat_minor": 5
}
