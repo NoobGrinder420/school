{
 "cells": [
  {
   "cell_type": "markdown",
   "id": "75a185d5-f397-49e0-b420-2658083d1f2a",
   "metadata": {},
   "source": [
    "## File Input / Output\n",
    "\n",
    "### with Statement Learning Outcomes\n",
    "- 2.3.4 Use the open() built-in function as well as the read(), readline(), write() and close() methods to perform non-interactive file input/output."
   ]
  },
  {
   "attachments": {},
   "cell_type": "markdown",
   "id": "18bde1f4-5ca2-435c-8342-dde67114de8f",
   "metadata": {},
   "source": [
    "### 4.16.1\tFile Input/Output Functions\r\n",
    "The built-in function open() is used for opening files on your computer for either input and output based on its second argument. To use a file for input, use \"r\" (meaning \"read\") for the second argument. To use a file for output, use \"w\" (meaning \"write\" to overwrite the file) or \"a\" (meaning \"append\" to continue from the end of an existing file) for the second argumet  t  \n",
    "**Syntax**  \n",
    "`open(file, mode='r', buffering=-1, encoding=None, errors=None, newline=None, closefd=True, opener=None)`  \n",
    "- *file* is a path-like object giving the pathname (absolute or relative to the current working directory) of the file to be opened or an integer file descriptor of the file to be wrapped. E.g. \"data.txt\", \"c:\\documents\\data.txt\", \"/Users/John/Documents/data.txt\"\n",
    "- *mode* is an optional string that specifies the mode in which the file is opened. It defaults to 'r' which means open for reading in text mode. Other modes include:\n",
    "|Character|Description|\n",
    "|---|---|\n",
    "|'r'|open for reading (default)|\n",
    "|'w'|open for writing, truncating the file first|\n",
    "|'x'|open for exclusive creation, failing if the file already exists|\n",
    "|'a'|open for writing, appending to the end of file if it exists|\n",
    "|'b'|binary mode|\n",
    "|'t'|text mode (default)|\n",
    "|'+'|open for updating (reading and writing)|  \n",
    "\n",
    "For buffering, encoding, errors, newline, closefd and opener arguements, read them here: https://docs.python.org/3/library/functions.html#open\n",
    "\r\n"
   ]
  },
  {
   "attachments": {},
   "cell_type": "markdown",
   "id": "3c363f80-c80e-4e01-91dd-6eb597671fd6",
   "metadata": {},
   "source": [
    "### 4.16.2\tFile Input/Output Methods\n",
    "1. `.close()` Closes the file object and saves any changes; not necessary if the file object is used with a `with` statement.\n",
    "2. `.read()` Returns the entire text file (including newline characters) as a str. \n",
    "3. `.readline()` Returns the next line from the text file (including a newline character at the end, if present) or an empty str if already at the end of the file. \n",
    "4. `.readlines()` Returns a list of all the lines in the text file. Each line includes a newline character at the end, if present. \n",
    "5. `.write(str)` Writes the string argument into the text file. Does not automatically add a newline character.\n"
   ]
  },
  {
   "cell_type": "code",
   "execution_count": 4,
   "id": "1f3cba3a-8f7c-4d3c-8ca8-5b68c74b6547",
   "metadata": {},
   "outputs": [],
   "source": [
    "#writing to file, if the file exist, it will be overwritten, otherwise it will be created.\n",
    "fout = open(\"myfile.txt\", \"w\")\n",
    "para = \"\"\"A beginning is the time for taking the most declicate care that the balances are correct.\n",
    "This every sister of the Bene Gesserit knows. \n",
    "To begin your study of the life of Muad'Dib, then, take care that you first place him in his time.\"\"\"\n",
    "fout.write(para)\n",
    "fout.close()"
   ]
  },
  {
   "cell_type": "code",
   "execution_count": 5,
   "id": "8b908ac3-2640-4020-a24f-f12a7f25ba26",
   "metadata": {},
   "outputs": [
    {
     "name": "stdout",
     "output_type": "stream",
     "text": [
      "A beginning is the time for taking the most declicate care that the balances are correct.\n",
      "\n",
      "This every sister of the Bene Gesserit knows. \n",
      "\n",
      "To begin your study of the life of Muad'Dib, then, take care that you first place him in his time.\n"
     ]
    }
   ],
   "source": [
    "#reading from file using for-in loop\n",
    "#fin = open(\"mydata.txt\", \"r\") #if file does not exist in working directory, a FileNotFoundError exception is thrown\n",
    "fin = open(\"myfile.txt\", \"r\")\n",
    "for line in fin:  #using membership in file object is similiar to .readline()\n",
    "    print(line)\n",
    "fin.close()"
   ]
  },
  {
   "cell_type": "code",
   "execution_count": null,
   "id": "7e8b867e-434b-4f07-92cd-4bbdcbca8f23",
   "metadata": {},
   "outputs": [],
   "source": [
    "#reading from file using .read()\n",
    "fin = open(\"myfile.txt\", \"r\")\n",
    "content = fin.read()\n",
    "print(content)\n",
    "fin.close()"
   ]
  },
  {
   "cell_type": "code",
   "execution_count": null,
   "id": "e1e58287-f127-4904-9a8e-d959b29e1d30",
   "metadata": {},
   "outputs": [],
   "source": [
    "#reading from file using .readlines()\n",
    "fin = open(\"myfile.txt\", \"r\")\n",
    "content = fin.readlines()\n",
    "print(content)\n",
    "fin.close()"
   ]
  },
  {
   "attachments": {},
   "cell_type": "markdown",
   "id": "b06dff1d-0df4-4f23-9aa8-a7ea23525490",
   "metadata": {},
   "source": [
    "### 4.16.3 with Statement\n",
    "To avoid losing data, it is important to always close any files you open. Using `with` statement to open a file will automatically close it after executing its indented block.  \n",
    "**Syntax**  \n",
    "`with open(filename, 'r') as fin:`  \n",
    "`    #code associated with fin`"
   ]
  },
  {
   "cell_type": "code",
   "execution_count": null,
   "id": "f2f9205e-fd7a-4fd7-b9fa-776ee297f36f",
   "metadata": {},
   "outputs": [],
   "source": [
    "#reading using with statement\n",
    "with open(\"myfile.txt\",\"r\") as fin:\n",
    "    content = fin.read()\n",
    "\n",
    "print(content)"
   ]
  },
  {
   "cell_type": "markdown",
   "id": "4c5e8648-9859-426d-bb78-206693f627ab",
   "metadata": {},
   "source": [
    "### 4.16.4 Newline in File IO\n",
    "When using `.readline()` or `.readlines()`, Python will include the *\"\\n\"* at the end of each line. In the earlier example using using the `for-in`, when printing out each line, you will notice an empty line inbetween. The other example using `.readlines()`, you will notice there is the escape character *\"\\n\"* at the end of each element in the list.  \n",
    "\n",
    "To overcome this, you can choose to slice away the last character, or use the str method `.rstrip()`.  \n",
    "  \n",
    "`str.rstrip([chars])`\n",
    "> Return a copy of the string with trailing characters removed. The chars argument is a string specifying the set of characters to be removed. If omitted or None, the chars argument defaults to removing whitespace. The chars argument is not a suffix; rather, all combinations of its values are stripped:"
   ]
  },
  {
   "cell_type": "code",
   "execution_count": null,
   "id": "dcb62f7b-6581-42fd-b720-c64dee561870",
   "metadata": {},
   "outputs": [],
   "source": [
    "with open(\"myfile.txt\",\"r\") as fin:\n",
    "    for line in fin:\n",
    "        print(line[:-1])\n",
    "\n",
    "#fin will automatically save after it comes out of the with loop"
   ]
  },
  {
   "cell_type": "code",
   "execution_count": null,
   "id": "909a9c4f-8797-4674-ab82-fadf5cf0b00f",
   "metadata": {},
   "outputs": [],
   "source": [
    "with open(\"myfile.txt\",\"r\") as fin:\n",
    "    for line in fin:\n",
    "        if line.endswith(\"\\n\"):\n",
    "            print(line[:-1])\n",
    "        else:\n",
    "            print(line)"
   ]
  },
  {
   "cell_type": "code",
   "execution_count": null,
   "id": "102dfcbb-90ee-48fc-9e7b-7ca0827dc259",
   "metadata": {},
   "outputs": [],
   "source": [
    "with open(\"myfile.txt\",\"r\") as fin:\n",
    "    for line in fin:\n",
    "        print(line.rstrip())"
   ]
  },
  {
   "cell_type": "markdown",
   "id": "f4a4e13b-19df-43b7-9837-784c05a986e1",
   "metadata": {},
   "source": [
    "### Exercise 1\n",
    "You are given a file, **student_data.txt**, which contains information of students. Each line contains three values, each separated by a comma **\",\"**. They are student's surname, student's given name and student's class code.\n",
    "The format for class code is **YYYYCCNN** where\n",
    "> YYYY is the year of class enrollmen, e.g. 2024  \n",
    "> CC is the subject code in which the students are taking: BT, CP, DS, EL  \n",
    "> NN is a two-digit class number\n",
    "> \n",
    "An example of a class code: 2024CP02.   \n",
    "You are to generate a list of login username and password for a new learning platform for the students in the student_data.txt file.  \n",
    "The login username format is made up of 4 parts:\n",
    "1. Part 1 is the initials of all the given name\n",
    "2. Part 2 is the full surname\n",
    "3. Part 3 is the subject code\n",
    "4. Part 4 is a running number for that particular subject code, starting for 01\n",
    "\n",
    "Example file data:\n",
    "> Suresh,Raj,2024CP03  \n",
    "> Tan,Ah Beng,2024CP02  \n",
    "> Boon,Tong Kee,2024DS03  \n",
    "\n",
    "will generate the following login username:\n",
    "> RSURESHCP01  \n",
    "> ABTANCP02  \n",
    "> TKBOONDS01  \n",
    "\n",
    "The password will be made up of 3 randomly generate uppercase letters and 5 digits. E.g. ABC12345, SST010101  \n",
    "**You must ensure all passwords are unique.**\n",
    "\n",
    "Save each of the generated username and password as `username,password` separateted by a comma, into a file name **UserGen.txt**"
   ]
  },
  {
   "cell_type": "code",
   "execution_count": 3,
   "id": "7982749c-849e-4946-a38e-7b96c2e0719f",
   "metadata": {},
   "outputs": [
    {
     "name": "stdout",
     "output_type": "stream",
     "text": [
      "['R', 'AB', 'TK', 'D', 'T', 'L', 'AA', 'F', 'D', 'GQ', 'C', 'P', 'BY', 'HJ', 'DL', 'J', 'C', 'Y', 'S', 'M'] \n",
      "\n",
      "\n",
      " [['Suresh', 'Raj', '2024CP03'], ['Tan', 'Ah Beng', '2024CP02'], ['Boon', 'Tong Kee', '2024DS03'], ['Kwan', 'Debbbie', '2024BT01'], ['Rohan', 'Theoden', '2024EL02'], ['Zhuge', 'Liang', '2024CP01'], ['Li', 'An An', '2024DS02'], ['Denethor', 'Faramir', '2024BT02'], ['Targaryen', 'Daenerys', '2024EL01'], ['Chen', 'Guo Qiang', '2024EL01'], ['Kong', 'Ci', '2024BT01'], ['Atreides', 'Paul', '2024BT04'], ['Jia', 'Bao Yu', '2024EL03'], ['Zhao', 'Hong Jun', '2024DS01'], ['Wu', 'De Liang', '2024BT02'], ['Yee', 'Jackson', '2024CP01'], ['Lannister', 'Cersei', '2024EL03'], ['Song', 'Ye', '2024DS01'], ['Yamamura', 'Sadako', '2024BT01'], ['Ackerman', 'Mikasa', '2024CP02']]\n"
     ]
    }
   ],
   "source": [
    "Fdata = open(\"student_data.txt\", \"r\")\n",
    "\n",
    "studentList = [i.strip().split(',') for i in Fdata.readlines()]\n",
    "\n",
    "Fdata.close()\n",
    "p = []\n",
    "\n",
    "for i in range(len(studentList)):\n",
    "    Init = [studentList[i][1].split()]\n",
    "    n = []\n",
    "    for f in Init:\n",
    "        for x in f:            \n",
    "            for e in x:\n",
    "                if e == e.upper():\n",
    "                    n.append(e)\n",
    "        p.append(n)\n",
    "\n",
    "initials = []\n",
    "\n",
    "for i in range(len(p)):\n",
    "    try:\n",
    "        initials.append(p[i][0]+p[i][1])\n",
    "    except Exception:\n",
    "        initials.append(p[i][0])\n",
    "        \n",
    "print(initials,'\\n\\n\\n', studentList)"
   ]
  },
  {
   "cell_type": "code",
   "execution_count": null,
   "id": "bd9e191a-9825-42b8-8dba-4f15d7697a97",
   "metadata": {},
   "outputs": [],
   "source": []
  }
 ],
 "metadata": {
  "kernelspec": {
   "display_name": "Python 3 (ipykernel)",
   "language": "python",
   "name": "python3"
  },
  "language_info": {
   "codemirror_mode": {
    "name": "ipython",
    "version": 3
   },
   "file_extension": ".py",
   "mimetype": "text/x-python",
   "name": "python",
   "nbconvert_exporter": "python",
   "pygments_lexer": "ipython3",
   "version": "3.8.18"
  }
 },
 "nbformat": 4,
 "nbformat_minor": 5
}
