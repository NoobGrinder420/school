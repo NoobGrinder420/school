{
 "cells": [
  {
   "attachments": {},
   "cell_type": "markdown",
   "id": "1bf93710-24be-40a9-86b5-76142662f1b2",
   "metadata": {},
   "source": [
    "## 5 Input Validation\n",
    "\n",
    "### 5.1 Why Validation is Needed?\n",
    "For a problem to be solved, its inputs, outputs and processes need to be defined clearly. While the programmer often has control over the processes used and outputs produced by the code, the supplied inputs can come from many possible sources, and the programmer often has no control over what is supplied. This means that the supplied inputs may not actually meet the requirements for valid or acceptable input data as defined by the problem.\n",
    "\n",
    "### 5.2 Recovering from Invalid Input\n",
    "**Learning Outcomes**\n",
    "> 2.4.6 Justify the use of data validation and identify the appropriate action to take when invalid data is encountered: asking for input again (for interactive input) or exiting the program (for non-interactive input).)\n",
    "#### 5.2.1 Asking for Input Again\n",
    "If the program is meant to be interactive, i.e. the input are to be entered by user, we can ask for the data to be re-entered. This option makes the most sense if the data might change by trying again.\n",
    "\n",
    "In this option, the program will ask user to re-enter until valid input are entered.\n",
    "\n",
    "#### 5.2.2 Exiting the Program\n",
    "In non-interactive program, i.e. batch program, or program that read data from files, if the data is not valid, we can skip the rest of the program and exit.\n",
    ".\r\n"
   ]
  },
  {
   "cell_type": "markdown",
   "id": "04e08439-eb3e-4e4f-b65b-c812e259fcce",
   "metadata": {},
   "source": [
    "### 5.3 Common Validation Checks\n",
    "**Learning Outcomes**\n",
    "> 2.4.7 Validate input for acceptance by performing:\n",
    "> - length check\n",
    "> - range check\n",
    "> - presence check\n",
    "> - format check\n",
    "> - existence check (i.e. check for whether input data is already in the system)\n",
    "> - calculation of a check digit"
   ]
  },
  {
   "attachments": {},
   "cell_type": "markdown",
   "id": "8248843e-c5e6-4624-bbdd-98e964b7f771",
   "metadata": {},
   "source": [
    "#### 5.3.1 Length Checks\n",
    "\n",
    "Length checks are use to check:  \n",
    "- the number of elements in a list\n",
    "- the number of characters in a string\n",
    "\n",
    "In general, length checks make use of the `len()` function, to ensure the input data is of the exact length (string) or size (list)."
   ]
  },
  {
   "cell_type": "code",
   "execution_count": 1,
   "id": "4fbdf9a8-6aea-42f1-9662-8b8cae9c2051",
   "metadata": {},
   "outputs": [
    {
     "name": "stdin",
     "output_type": "stream",
     "text": [
      "Enter a 5-letter word:  j\n"
     ]
    },
    {
     "name": "stdout",
     "output_type": "stream",
     "text": [
      "Invalid input, the number of characters must be exactly 5.\n"
     ]
    },
    {
     "name": "stdin",
     "output_type": "stream",
     "text": [
      "Enter a 5-letter word:  12345\n"
     ]
    },
    {
     "name": "stdout",
     "output_type": "stream",
     "text": [
      "You have entered 12345\n"
     ]
    }
   ],
   "source": [
    "# Length Check\n",
    "\n",
    "user_input = input(\"Enter a 5-letter word: \")\n",
    "\n",
    "while len(user_input) != 5:\n",
    "    print(\"Invalid input, the number of characters must be exactly 5.\")\n",
    "    user_input = input(\"Enter a 5-letter word: \")\n",
    "\n",
    "print(\"You have entered {}\".format(user_input))"
   ]
  },
  {
   "cell_type": "markdown",
   "id": "d05e02f5-e141-43b3-bd35-4922072218f8",
   "metadata": {},
   "source": [
    "#### 5.3.2 Range Checks\n",
    "\n",
    "Range checks are use to limit the input to a particular range of (numeric) values.\n",
    "\n",
    "In general, range checks uses the following 4 relational operators:\n",
    "> `>`, `>=`, `<`, `<=`"
   ]
  },
  {
   "cell_type": "code",
   "execution_count": null,
   "id": "3ff08db2-02de-4e0a-8bf9-a28169cbab97",
   "metadata": {},
   "outputs": [],
   "source": [
    "# Range Check\n",
    "\n",
    "marks = int(input(\"Enter your exam marks [0..100]: \"))\n",
    "\n",
    "while marks < 0 or marks > 100:\n",
    "    print(\"Invalid entry, marks must be between 0 and 100, inclusive\")\n",
    "    marks = int(input(\"Enter your exam marks [0..100]: \"))\n",
    "\n",
    "if marks >= 50:\n",
    "    print(\"You passed.\")\n",
    "else:\n",
    "    print(\"Sign up for SSP\")"
   ]
  },
  {
   "cell_type": "markdown",
   "id": "35f26244-c45c-4b10-94e2-fb71fba160ac",
   "metadata": {},
   "source": [
    "#### 5.3.3 Presence Checks\n",
    "\n",
    "Presence checks are used to ensure all the required input are provided.\n",
    "\n",
    "In general, presence checks check against an empty string."
   ]
  },
  {
   "cell_type": "code",
   "execution_count": 16,
   "id": "20ce0762-98da-4103-a76f-678b07e7a020",
   "metadata": {},
   "outputs": [
    {
     "name": "stdin",
     "output_type": "stream",
     "text": [
      "Username:  \n"
     ]
    },
    {
     "name": "stdout",
     "output_type": "stream",
     "text": [
      "Username is required.\n"
     ]
    },
    {
     "name": "stdin",
     "output_type": "stream",
     "text": [
      "Username:  s\n"
     ]
    },
    {
     "name": "stdout",
     "output_type": "stream",
     "text": [
      "Hello, s\n"
     ]
    }
   ],
   "source": [
    "# Presence Check\n",
    "usrname = input(\"Username: \")\n",
    "while not usrname:\n",
    "    print(\"Username is required.\")\n",
    "    usrname = input(\"Username: \")\n",
    "\n",
    "print(\"Hello,\", usrname)"
   ]
  },
  {
   "cell_type": "markdown",
   "id": "76abf568-f123-4184-b028-073fedefaaf5",
   "metadata": {},
   "source": [
    "#### 5.3.4 Format Checks\n",
    "Some input may have complex requirements, usually to follow a particular pattern.\n",
    "Format checks often require you to decompose the input data into smaller parts, then run further checks on those smaller parts. \n",
    "\n",
    "Built-in string methods, length check and range check may be used to validate the smaller parts."
   ]
  },
  {
   "cell_type": "code",
   "execution_count": 34,
   "id": "668e75ee-7330-42fc-8127-3f80fc2d65b8",
   "metadata": {},
   "outputs": [
    {
     "name": "stdin",
     "output_type": "stream",
     "text": [
      "NRIC:  s1234567f\n"
     ]
    },
    {
     "name": "stdout",
     "output_type": "stream",
     "text": [
      "toilet\n"
     ]
    }
   ],
   "source": [
    "# Singapore NRIC is made up of 3 sections, {prefix + body + check digit}\n",
    "# where prefix is an alphabet, body is a 7-digit number, check digit is an alphabet.\n",
    "# e.g. S1234567D\n",
    "nric = input(\"NRIC: \")\n",
    "list = [i for i in nric]\n",
    "\n",
    "if len(list)!=9:\n",
    "    print('skibbidi')\n",
    "elif list[0].isalpha() != True and nric[8].isaplha() != True:\n",
    "    print('skibbid')\n",
    "\n",
    "else:\n",
    "    for i in list[1:8]:\n",
    "        if i.isdigit() == False:\n",
    "            print('skibidi')\n",
    "            break\n",
    "        else: \n",
    "            continue\n",
    "    \n",
    "    else: print('toilet')\n"
   ]
  },
  {
   "attachments": {},
   "cell_type": "markdown",
   "id": "1b9da3c7-4c5b-477a-8fc3-ac79bdeadc38",
   "metadata": {},
   "source": [
    "#### 5.3.5 Existence Checks\n",
    "\n",
    "For some problems, input is valid only if it is (or alternatively, is not) in an existing collection or repository of data. This is known as an existence check."
   ]
  },
  {
   "cell_type": "code",
   "execution_count": 35,
   "id": "c6668be2-cc9d-412c-b922-c664344e45c8",
   "metadata": {},
   "outputs": [
    {
     "name": "stdin",
     "output_type": "stream",
     "text": [
      "Enter the first name of CP+ teacher:  aurelius_yeo@sst.edu.sg\n"
     ]
    },
    {
     "name": "stdout",
     "output_type": "stream",
     "text": [
      "AURELIUS_YEO@SST.EDU.SG is not a CP+ teacher!\n"
     ]
    },
    {
     "name": "stdin",
     "output_type": "stream",
     "text": [
      "Enter the first name of CP+ teacher:  yeo\n"
     ]
    },
    {
     "name": "stdout",
     "output_type": "stream",
     "text": [
      "YEO is not a CP+ teacher!\n"
     ]
    },
    {
     "name": "stdin",
     "output_type": "stream",
     "text": [
      "Enter the first name of CP+ teacher:  aurelius\n"
     ]
    },
    {
     "name": "stdout",
     "output_type": "stream",
     "text": [
      "AURELIUS's email: aurelius_yeo@sst.edu.sg\n"
     ]
    }
   ],
   "source": [
    "# Existence Check\n",
    "email_addr = {\"robin\"   : \"pang_hee_tee_robin@sst.edu.sg\",\n",
    "              \"jovita\"  : \"jovita_tang@sst.edu.sg\",\n",
    "              \"raymond\" : \"chng_soon_hsien@sst.edu.sg\",\n",
    "              \"aurelius\": \"aurelius_yeo@sst.edu.sg\" }\n",
    "\n",
    "name = input(\"Enter the first name of CP+ teacher: \").lower()\n",
    "while True:\n",
    "    if name in email_addr:\n",
    "        print(\"{}'s email: {}\".format(name.upper(), email_addr[name]))\n",
    "        break\n",
    "    else:\n",
    "        print(\"{} is not a CP+ teacher!\".format(name.upper()))\n",
    "        name = input(\"Enter the first name of CP+ teacher: \").lower()\n"
   ]
  },
  {
   "cell_type": "code",
   "execution_count": 18,
   "id": "2943ef7d-ab6c-4ce7-9d01-edd4dbe1f32d",
   "metadata": {},
   "outputs": [
    {
     "name": "stdin",
     "output_type": "stream",
     "text": [
      "Enter the first name or surname of CP+ teacher:  raymond\n"
     ]
    },
    {
     "name": "stdout",
     "output_type": "stream",
     "text": [
      "RAYMOND's email: chng_soon_hsien@sst.edu.sg\n"
     ]
    }
   ],
   "source": [
    "# Existence Check extension.\n",
    "# Allow the user to enter either first name or surname. \n",
    "# How would you implement it?\n",
    "email_addr = {\"robin pang\"   : \"pang_hee_tee_robin@sst.edu.sg\",\n",
    "              \"jovita tang\"  : \"jovita_tang@sst.edu.sg\",\n",
    "              \"raymond chng\" : \"chng_soon_hsien@sst.edu.sg\",\n",
    "              \"aurelius yeo\": \"aurelius_yeo@sst.edu.sg\" }\n",
    "\n",
    "name = input(\"Enter the first name or surname of CP+ teacher: \").lower()\n",
    "\n",
    "list = [i.split() for i in email_addr]\n",
    "\n",
    "for i in range(len(list)):\n",
    "    if name in list[i]:\n",
    "        print(f\"{name.upper()}'s email: {email_addr[list[i][0]+' '+list[i][1]]}\", )\n",
    "        break\n",
    "else: print(f\"{name.upper()} is not a CP+ teacher!\")"
   ]
  },
  {
   "cell_type": "raw",
   "id": "68b9c652-672f-46ac-bf14-9bcfcba5957d",
   "metadata": {},
   "source": [
    "#### 5.3.6 Check Digits\n",
    "A check digit is usually an additional digit or letter added to the end of a sequence of digits that is intended to be read by or entered into a computer manually. The check digit is mathematically related to the original sequence of digits so that simple input errors, such as accidentally swapping two digits or wrongly entering a digit, would break this mathematical relationship and hence be detected. If the check digit is a letter, it would usually need to be converted to a number so that it can be used in the algorithm to check the sequence."
   ]
  },
  {
   "cell_type": "code",
   "execution_count": 30,
   "id": "927f0df6-7256-4550-8b32-62858fde2f84",
   "metadata": {},
   "outputs": [
    {
     "name": "stdin",
     "output_type": "stream",
     "text": [
      "Enter first 11 digits of UPC-A:  05555555555\n"
     ]
    },
    {
     "name": "stdout",
     "output_type": "stream",
     "text": [
      "0\n"
     ]
    }
   ],
   "source": [
    "# A popular standard for check digits that are used in product barcodes is the Universal Product Code (UPC-A) \n",
    "# standard. Figure 5.12 shows an example of a 12-digit UPC-A product code. The 12th digit is the check digit.\n",
    "#\n",
    "# To calculate the check digit, the first 11 digits need to be processed using the following algorithm:\n",
    "# 1.\tAdd the digits in the odd-numbered positions (i.e., 1st, 3rd … 11th).\n",
    "# 2.\tMultiply the result by three.\n",
    "# 3.\tAdd the digits in the even-numbered positions (i.e., 2nd, 4th … 10th) to the result.\n",
    "# 4.\tIf the last digit of the result is 0, the check digit should be 0. \n",
    "#       Otherwise, subtract the last digit of the result from 10. \n",
    "#       The check digit should be the same as the resulting answer.\n",
    "\n",
    "# Input\n",
    "upc = input(\"Enter first 11 digits of UPC-A: \")\n",
    "f = 0\n",
    "odd = []\n",
    "even = []\n",
    "\n",
    "# Process\n",
    "\n",
    "for i in upc:\n",
    "    if f==0:\n",
    "        odd.append(int(i))\n",
    "        f=1\n",
    "    else: \n",
    "        even.append(int(i))\n",
    "        f=0\n",
    "\n",
    "skibbidi = str((3*(sum(odd))) + sum(even))\n",
    "\n",
    "if skibbidi.endswith('0'):\n",
    "    check_digit = 0\n",
    "else: check_digit = 10-(int(skibbidi[-1]))\n",
    "\n",
    "\n",
    "\n",
    "# Output\n",
    "print(check_digit)\n"
   ]
  },
  {
   "cell_type": "markdown",
   "id": "3dc6c65b-d862-4792-9022-09dfb548c75c",
   "metadata": {},
   "source": [
    "### [Plus] Data Type Validation\n",
    "Direct type casting can cause your program to have a run time error, causing the program to end abruptly (crash). Check if the input is the correct data type may be required.\n",
    "\n",
    "#### Positive Integer (Most common)\n",
    "Use .isdigit() will allow the program to check if the enter string is made up of numbers. If the result returns `True`, the inpout can then be casted into int."
   ]
  },
  {
   "cell_type": "code",
   "execution_count": 15,
   "id": "cbb5bcd5-08ac-4572-bd9a-c5a628689987",
   "metadata": {},
   "outputs": [
    {
     "name": "stdin",
     "output_type": "stream",
     "text": [
      "Enter a positive integer:  -0\n"
     ]
    },
    {
     "name": "stdout",
     "output_type": "stream",
     "text": [
      "Not a positive integer, please re-enter.\n"
     ]
    },
    {
     "name": "stdin",
     "output_type": "stream",
     "text": [
      "Enter a positive integer:  0\n"
     ]
    }
   ],
   "source": [
    "# Positive int\n",
    "n = input (\"Enter a positive integer: \")\n",
    "while not n.isdigit():\n",
    "    print(\"Not a positive integer, please re-enter.\")\n",
    "    n = input(\"Enter a positive integer: \")\n",
    "n = int(n)"
   ]
  },
  {
   "cell_type": "markdown",
   "id": "9e973bc5-e289-4c86-981d-e35b8c7c9962",
   "metadata": {},
   "source": [
    "#### Negative Integer, Float\n",
    "These 2 data input will be harder to validate, to do so, you will have to use `try` & `except` keywords\n",
    "\n",
    "**`try` & `except`** syntax:  \n",
    "`try:`  \n",
    "`   ### code that can potentially crash your program`   \n",
    "`   ### code that survive the above line`  \n",
    "`except Exceptions:`  \n",
    "`   ### code to execute instead of crashing your program`  \n",
    "\n",
    "The error exception thrown when casting is known as ValueError\n",
    "Full list of built-in excpetion : https://docs.python.org/3/library/exceptions.html#bltin-exceptions"
   ]
  },
  {
   "cell_type": "code",
   "execution_count": 32,
   "id": "4f2de299-d431-4eca-9d4d-471a9ef268b5",
   "metadata": {},
   "outputs": [
    {
     "name": "stdin",
     "output_type": "stream",
     "text": [
      "Cost $ 1.2.3\n"
     ]
    },
    {
     "name": "stdout",
     "output_type": "stream",
     "text": [
      "Not a valid number.\n"
     ]
    },
    {
     "name": "stdin",
     "output_type": "stream",
     "text": [
      "Cost $ 3\n"
     ]
    },
    {
     "name": "stdout",
     "output_type": "stream",
     "text": [
      "GST(9%) :      0.27\n",
      "SVC(10%):      0.30\n",
      "Total   :      3.57\n"
     ]
    }
   ],
   "source": [
    "# Try/except\n",
    "\n",
    "while True:\n",
    "    try:\n",
    "        cash = float(input(\"Cost $\"))\n",
    "        break\n",
    "    except ValueError:\n",
    "        print(\"Not a valid number.\")\n",
    "\n",
    "gst = cash*0.09\n",
    "svc = cash*0.1\n",
    "print(\"GST(9%) :{:>10.2f}\".format(gst))\n",
    "print(\"SVC(10%):{:>10.2f}\".format(svc))\n",
    "print(\"Total   :{:>10.2f}\".format(cash+gst+svc))"
   ]
  },
  {
   "cell_type": "code",
   "execution_count": null,
   "id": "1ce6f611-b353-40bc-8621-96cc968ffcc7",
   "metadata": {},
   "outputs": [],
   "source": []
  }
 ],
 "metadata": {
  "kernelspec": {
   "display_name": "Python 3 (ipykernel)",
   "language": "python",
   "name": "python3"
  },
  "language_info": {
   "codemirror_mode": {
    "name": "ipython",
    "version": 3
   },
   "file_extension": ".py",
   "mimetype": "text/x-python",
   "name": "python",
   "nbconvert_exporter": "python",
   "pygments_lexer": "ipython3",
   "version": "3.8.18"
  }
 },
 "nbformat": 4,
 "nbformat_minor": 5
}
