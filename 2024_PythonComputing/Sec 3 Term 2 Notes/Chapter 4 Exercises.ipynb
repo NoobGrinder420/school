{
 "cells": [
  {
   "cell_type": "markdown",
   "id": "f151230e-1569-480c-bed5-4b0a4b53f53a",
   "metadata": {},
   "source": [
    "## Reflection Questions\n",
    "**1.1 Area of Rectangle**  \n",
    "\n",
    "A rectangle is defined with 2 sets of co-ordinates. Bottom-left (x1, y1) and top-right (x2, y2).  \n",
    "Ask the user for inputs x1, y1, x2, y2.\n",
    "Calculate and display the area of the rectangle"
   ]
  },
  {
   "cell_type": "code",
   "execution_count": 1,
   "id": "73847771-e907-4d01-9b04-d23531a606cc",
   "metadata": {},
   "outputs": [
    {
     "name": "stdin",
     "output_type": "stream",
     "text": [
      " 0\n",
      " 0\n",
      " 5\n",
      " 4\n"
     ]
    },
    {
     "name": "stdout",
     "output_type": "stream",
     "text": [
      "20\n"
     ]
    }
   ],
   "source": [
    "x1 = int(input())\n",
    "y1 = int(input())\n",
    "x2 = int(input())\n",
    "y2 = int(input())\n",
    "\n",
    "area = (abs((x1 - x2)))*(abs((y2-y1)))\n",
    "print(area)"
   ]
  },
  {
   "cell_type": "markdown",
   "id": "60370136-aaf4-4615-99ff-c45c9754d64e",
   "metadata": {},
   "source": [
    "**1.2 Area of Rectangles**  \n",
    "\n",
    "You are now co-ordinates of another rectangle: (x3, y3) and (x4, y4). \n",
    "Ask the user for the inputs x1, y1, x2, y2, x3, y3, x4, y4.\n",
    "Calculate and display the total area covered by both rectangles."
   ]
  },
  {
   "cell_type": "code",
   "execution_count": null,
   "id": "dbad37b7-3c38-4b6f-9abf-0c1ca037ac37",
   "metadata": {},
   "outputs": [],
   "source": [
    "# 1.2 Area of Rectangles"
   ]
  },
  {
   "cell_type": "markdown",
   "id": "70a75721-b5d4-4b46-8a78-c5319d56081d",
   "metadata": {},
   "source": [
    "### Control Flow Exercise Question 1\n",
    "Write a program to allow user to do the following:  \n",
    "1. continously input integer one at a time, until a zero value is inputted.\n",
    "2. display the number count of even numbers\n",
    "3. display the average value of all negative numbers\n"
   ]
  },
  {
   "cell_type": "code",
   "execution_count": null,
   "id": "0047ec3f-d7e9-43ef-af07-7c85226059d1",
   "metadata": {},
   "outputs": [],
   "source": [
    "# Control Flow Exercise 1"
   ]
  },
  {
   "cell_type": "markdown",
   "id": "5df5d75d-48dc-46c1-b7e0-b870e448babc",
   "metadata": {},
   "source": [
    "### File IO Exercise 1\n",
    "You are given a file, **student_data.txt**, which contains information of students. Each line contains three values, each separated by a comma **\",\"**. They are student's surname, student's given name and student's class code.\n",
    "The format for class code is **YYYYCCNN** where\n",
    "> YYYY is the year of class enrollmen, e.g. 2024  \n",
    "> CC is the subject code in which the students are taking: BT, CP, DS, EL  \n",
    "> NN is a two-digit class number\n",
    "> \n",
    "An example of a class code: 2024CP02.   \n",
    "You are to generate a list of login username and password for a new learning platform for the students in the student_data.txt file.  \n",
    "The login username format is made up of 4 parts:\n",
    "1. Part 1 is the initials of all the given name\n",
    "2. Part 2 is the full surname\n",
    "3. Part 3 is the subject code\n",
    "4. Part 4 is a running number for that particular subject code, starting for 01\n",
    "\n",
    "Example file data:\n",
    "> Suresh,Raj,2024CP03  \n",
    "> Tan,Ah Beng,2024CP02  \n",
    "> Boon,Tong Kee,2024DS03  \n",
    "\n",
    "will generate the following login username:\n",
    "> RSURESHCP01  \n",
    "> ABTANCP02  \n",
    "> TKBOONDS01  \n",
    "\n",
    "The password will be made up of 3 randomly generate uppercase letters and 5 digits. E.g. ABC12345, SST010101  \n",
    "**You must ensure all passwords are unique.**\n",
    "\n",
    "Save each of the generated username and password as `username,password` separateted by a comma, into a file name **UserGen.txt**"
   ]
  },
  {
   "cell_type": "code",
   "execution_count": 38,
   "id": "67680c54-96df-4020-aef4-0c8dc382b75c",
   "metadata": {},
   "outputs": [
    {
     "name": "stdout",
     "output_type": "stream",
     "text": [
      "[['Suresh', 'Raj', '2024CP03'], ['Tan', 'Ah Beng', '2024CP02'], ['Boon', 'Tong Kee', '2024DS03'], ['Kwan', 'Debbbie', '2024BT01'], ['Rohan', 'Theoden', '2024EL02'], ['Zhuge', 'Liang', '2024CP01'], ['Li', 'An An', '2024DS02'], ['Denethor', 'Faramir', '2024BT02'], ['Targaryen', 'Daenerys', '2024EL01'], ['Chen', 'Guo Qiang', '2024EL01'], ['Kong', 'Ci', '2024BT01'], ['Atreides', 'Paul', '2024BT04'], ['Jia', 'Bao Yu', '2024EL03'], ['Zhao', 'Hong Jun', '2024DS01'], ['Wu', 'De Liang', '2024BT02'], ['Yee', 'Jackson', '2024CP01'], ['Lannister', 'Cersei', '2024EL03'], ['Song', 'Ye', '2024DS01'], ['Yamamura', 'Sadako', '2024BT01'], ['Ackerman', 'Mikasa', '2024CP02']]\n"
     ]
    }
   ],
   "source": [
    "with open('student_data.txt', 'r') as fin:\n",
    "\n",
    "    x= [i.strip().split(',') for i in fin.readlines()]\n",
    "print(x, sep ='\\n')"
   ]
  },
  {
   "cell_type": "code",
   "execution_count": null,
   "id": "4c16b0de-bb8f-4c3e-953a-4b93bb071d3f",
   "metadata": {},
   "outputs": [],
   "source": []
  }
 ],
 "metadata": {
  "kernelspec": {
   "display_name": "Python 3 (ipykernel)",
   "language": "python",
   "name": "python3"
  },
  "language_info": {
   "codemirror_mode": {
    "name": "ipython",
    "version": 3
   },
   "file_extension": ".py",
   "mimetype": "text/x-python",
   "name": "python",
   "nbconvert_exporter": "python",
   "pygments_lexer": "ipython3",
   "version": "3.8.18"
  }
 },
 "nbformat": 4,
 "nbformat_minor": 5
}
