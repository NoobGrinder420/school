{
 "cells": [
  {
   "cell_type": "code",
   "execution_count": 6,
   "id": "ec74232f-e483-4de8-94cf-8f47a4234de2",
   "metadata": {},
   "outputs": [
    {
     "name": "stdin",
     "output_type": "stream",
     "text": [
      "Enter your age:  18\n"
     ]
    },
    {
     "name": "stdout",
     "output_type": "stream",
     "text": [
      "You are eligible for a Junior membership.\n"
     ]
    },
    {
     "name": "stdin",
     "output_type": "stream",
     "text": [
      "Enter 'end' to stop, enter any other character to continue:  gse\n",
      "Enter your age:  19\n"
     ]
    },
    {
     "name": "stdout",
     "output_type": "stream",
     "text": [
      "You are eligible for an Adult membership.\n"
     ]
    },
    {
     "name": "stdin",
     "output_type": "stream",
     "text": [
      "Enter 'end' to stop, enter any other character to continue:  end\n"
     ]
    }
   ],
   "source": [
    "# 2023 S3 EOY TASK 2 : SWIM\n",
    "# Save the file as SWIM_2023_<your class>_<index number>_<your name>.ipynb\n",
    "\n",
    "sigma = 1\n",
    "\n",
    "while not sigma.lower() == \"end\":\n",
    "    \n",
    "    while True:\n",
    "        age = input(\"Enter your age: \")\n",
    "        if not age.isdigit():\n",
    "            print(\"Please enter only a positive integer\")\n",
    "            continue\n",
    "            \n",
    "        elif not int(age) > 0:\n",
    "            print(\"Please enter only a positive integer\")\n",
    "            continue\n",
    "        \n",
    "        else: break\n",
    "            \n",
    "    \n",
    "    age = int(age)\n",
    "    \n",
    "    if age <= 18:\n",
    "        print(\"You are eligible for a Junior membership.\")\n",
    "    else:\n",
    "        print(\"You are eligible for an Adult membership.\")\n",
    "        freakwency = input(\"How many times do you swim per week?: \")\n",
    "        if freakwency > 2:\n",
    "            print(\"You should sign up for the premium category\")\n",
    "\n",
    "        else: print(\"You should sign up for the Casual category\")\n",
    "\n",
    "\n",
    "    sigma = input(\"Enter 'end' to stop, enter any other character to continue: \")\n",
    "\n",
    "    "
   ]
  },
  {
   "cell_type": "code",
   "execution_count": null,
   "id": "62ef4b76-b78c-4eec-b1cf-83dc87bc5825",
   "metadata": {},
   "outputs": [],
   "source": []
  }
 ],
 "metadata": {
  "kernelspec": {
   "display_name": "Python 3 (ipykernel)",
   "language": "python",
   "name": "python3"
  },
  "language_info": {
   "codemirror_mode": {
    "name": "ipython",
    "version": 3
   },
   "file_extension": ".py",
   "mimetype": "text/x-python",
   "name": "python",
   "nbconvert_exporter": "python",
   "pygments_lexer": "ipython3",
   "version": "3.8.18"
  }
 },
 "nbformat": 4,
 "nbformat_minor": 5
}
