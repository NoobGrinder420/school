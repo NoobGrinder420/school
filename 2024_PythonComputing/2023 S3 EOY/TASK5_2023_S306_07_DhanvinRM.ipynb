{
 "cells": [
  {
   "cell_type": "code",
   "execution_count": 2,
   "id": "ecb7078d-9236-42de-bf33-05d51849a02b",
   "metadata": {},
   "outputs": [
    {
     "name": "stdin",
     "output_type": "stream",
     "text": [
      " f\n"
     ]
    }
   ],
   "source": [
    "## 2023 S3 EOY TASK 4 : \n",
    "# Save the file as TASK5_2023_<your class>_<index number>_<your name>.ipynb\n",
    "\n",
    "# Q12 VALIDATE TIME\n",
    "# your code below\n",
    "\n",
    "\n",
    "def validateTime(rt = input()):\n",
    "\n",
    "    if len(rt)!=5:\n",
    "        return False\n",
    "    \n",
    "    try:\n",
    "        min, sec = rt.split(':')\n",
    "        min = int(min)\n",
    "        sec = int(sec)\n",
    "    \n",
    "    except Exception:\n",
    "        return False\n",
    "\n",
    "\n",
    "    if sec > 59: return False\n",
    "      \n",
    "    return True\n",
    "\n",
    "\n"
   ]
  },
  {
   "cell_type": "code",
   "execution_count": null,
   "id": "de5ea521-2d8c-4833-a275-43f556bcd444",
   "metadata": {},
   "outputs": [
    {
     "name": "stdout",
     "output_type": "stream",
     "text": [
      "\n",
      "Please enter values for robot number 1: "
     ]
    },
    {
     "name": "stdin",
     "output_type": "stream",
     "text": [
      " 22:43 24:35 24:11\n"
     ]
    },
    {
     "name": "stdout",
     "output_type": "stream",
     "text": [
      "section B was finished faster than section A1 + A2\n",
      "\n",
      "Please enter values for robot number 2: "
     ]
    },
    {
     "name": "stdin",
     "output_type": "stream",
     "text": [
      " 22:43 24:35 24:11\n"
     ]
    },
    {
     "name": "stdout",
     "output_type": "stream",
     "text": [
      "section B was finished faster than section A1 + A2\n",
      "\n",
      "Please enter values for robot number 3: "
     ]
    },
    {
     "name": "stdin",
     "output_type": "stream",
     "text": [
      " 22:43 24:35 24:11\n"
     ]
    },
    {
     "name": "stdout",
     "output_type": "stream",
     "text": [
      "section B was finished faster than section A1 + A2\n",
      "\n",
      "Please enter values for robot number 4: "
     ]
    },
    {
     "name": "stdin",
     "output_type": "stream",
     "text": [
      " 22:43 24:35 24:11\n"
     ]
    },
    {
     "name": "stdout",
     "output_type": "stream",
     "text": [
      "section B was finished faster than section A1 + A2\n",
      "\n",
      "Please enter values for robot number 5: "
     ]
    }
   ],
   "source": [
    "# Q13 Q14 RACESYSTEM1, RACESYSTEM2\n",
    "# you code below\n",
    "\n",
    "\n",
    "\n",
    "while True:\n",
    "\n",
    "    robotNum = 0\n",
    "    A1A2min = 0\n",
    "    A1A2sec = 0\n",
    "    Bmin = 0\n",
    "    Bsec = 0\n",
    "    \n",
    "    for i in range(6):\n",
    "    \n",
    "        robotNum+=1\n",
    "        print(f\"\\nPlease enter values for robot number {robotNum}: \", end = '')\n",
    "        \n",
    "        while True:\n",
    "        \n",
    "            \n",
    "            B, A2, E = input().split(\" \")\n",
    "            \n",
    "            if validateTime(B) and validateTime(A2) and validateTime(E):\n",
    "        \n",
    "                minB, secB = B.split(':')\n",
    "                minA2, secA2 = A2.split(':')\n",
    "                minE, secE = E.split(':')\n",
    "\n",
    "                minB, secB ,minA2, secA2, minE, secE =  int(minB), int(secB), int(minA2), int(secA2), int(minE), int(secE)\n",
    "                \n",
    "                A1A2min += minB + minE\n",
    "                A1A2sec += secB + secE\n",
    "                Bmin += minA2\n",
    "                Bsec+= secA2\n",
    "                \n",
    "                B = minB*60 + secB\n",
    "                A2 = minA2*60 + secA2\n",
    "                E = minE*60 + secE\n",
    "                \n",
    "                if int(B)+ int(E) < int(A2):\n",
    "                    print(\"section A1 + A2 was finished faster than section B\")\n",
    "                    break\n",
    "        \n",
    "                elif int(B)+int(E) > int(A2):\n",
    "                    print(\"section B was finished faster than section A1 + A2\")\n",
    "                    break\n",
    "        \n",
    "                else:\n",
    "                    print(\"section B was finished as fast as section A1 + A2\")\n",
    "                    break\n",
    "    \n",
    "            else: print(\"invalid input\")\n",
    "\n",
    "\n",
    "    print(f\"\\n\\nAverage Time taken for Sections A1+A2 is {A1A2min} minutes and {A1A2sec} seconds \")\n",
    "    print(f\"Average Time taken for Section B is {Bmin} minutes and {Bsec} seconds \")\n",
    "\n",
    "    cont = input(\"Do you wish to enter the values for another group? (Y/N): \")\n",
    "\n",
    "    if cont.upper() != 'Y':\n",
    "        break\n",
    "\n",
    "\n",
    "\n",
    "\n"
   ]
  },
  {
   "cell_type": "code",
   "execution_count": 98,
   "id": "8242fd39-3538-448b-8fdd-13d943a615f3",
   "metadata": {},
   "outputs": [
    {
     "ename": "SyntaxError",
     "evalue": "non-default argument follows default argument (3198838617.py, line 1)",
     "output_type": "error",
     "traceback": [
      "\u001b[0;36m  Cell \u001b[0;32mIn[98], line 1\u001b[0;36m\u001b[0m\n\u001b[0;31m    def step2(p = [1, 2, 3, 4, 5], currentIndex = 0, sumvalues):\u001b[0m\n\u001b[0m              ^\u001b[0m\n\u001b[0;31mSyntaxError\u001b[0m\u001b[0;31m:\u001b[0m non-default argument follows default argument\n"
     ]
    }
   ],
   "source": [
    "def step2(p = [1, 2, 3, 4, 5], currentIndex = 0, sumvalues):\n",
    "\n",
    "    step2a = []\n",
    "    step3a = []\n",
    "    step2b = []\n",
    "    step3b = []\n",
    "    x = 0\n",
    "\n",
    "    starta = []\n",
    "    for i in range(0, currentIndex-1, 2):\n",
    "        \n",
    "        starta.append(p[i])\n",
    "\n",
    "        if currentIndex - i == (2 or 1):\n",
    "            starta.append(p[currentIndex])\n",
    "            break\n",
    "    \n",
    "    \n",
    "    startb = []\n",
    "    for i in range(1, currentIndex, 2):\n",
    "        \n",
    "        startb.append(p[i])\n",
    "\n",
    "        if currentIndex - i == (2 or 1):\n",
    "            startb.append(p[currentIndex])\n",
    "            break\n",
    "            \n",
    "    \n",
    "    for j in range(len(p)):\n",
    "\n",
    "        step2a.append(p[currentIndex])\n",
    "\n",
    "        for i in range(currentIndex+2, j, 2):\n",
    "            step2a.append(p[i])\n",
    "\n",
    "        \n",
    "        for i in range(j, len(p)-1, 3):\n",
    "            if (len(p)-1) - i == 3:\n",
    "                step3a.append(p[i])\n",
    "                step3a.append(p[i+2])\n",
    "                break\n",
    "            \n",
    "            else:\n",
    "                step3a.append(p[i])\n",
    "            \n",
    "        \n",
    "    \n",
    "\n",
    "    list = []\n",
    "    \n",
    "    if not currentIndex %2 == 1:\n",
    "        list += step2b + [p[currentIndex]] + step2a\n",
    "\n",
    "    else:\n",
    "        list += [p[0]] + step2b + [p[currentIndex]] + step2a\n",
    "    \n",
    "    return list\n",
    "               \n",
    "def hopper(p):\n",
    "\n",
    "    sumvalues = []\n",
    "\n",
    "    step3_0 = []\n",
    "    for i in range(0, len(p)-1, 3):\n",
    "        \n",
    "        if (len(p)-1) - i == 3:\n",
    "            step3_0.append(p[i])\n",
    "            step3_0.append(p[i+2])\n",
    "            break\n",
    "            \n",
    "        else:\n",
    "            step3_0.append(p[i])\n",
    "\n",
    "    \n",
    "    step3_1 = []\n",
    "    for i in range(1, len(p), 3):\n",
    "        \n",
    "        if len(p) - i == 3:\n",
    "            step3_1.append(p[i])\n",
    "            step3_1.append(p[i+2])\n",
    "            break\n",
    "            \n",
    "        else:\n",
    "            step3_1.append(p[i])\n",
    "\n",
    "\n",
    "    for i in range(len(step3_0)):\n",
    "        print(step2(p, i))\n",
    "        sumvalues.append(sum(step2(p, i)))\n",
    "\n",
    "    for i in range(len(step3_1)):\n",
    "        print(step2(p, i))\n",
    "        sumvalues.append(sum(step2(p, i)))\n",
    "        \n",
    "    return max(sumvalues)\n",
    "        \n",
    "        \n",
    "        \n",
    "\n",
    "\n",
    "\n",
    "\n",
    "\n",
    "\n",
    "p = [1, 90, 100, 4, 90, 8, 7]\n",
    "\n",
    "hopper(p)"
   ]
  },
  {
   "cell_type": "code",
   "execution_count": null,
   "id": "d79468a2-828b-46c9-8169-80bdbc9ff1c7",
   "metadata": {},
   "outputs": [],
   "source": []
  }
 ],
 "metadata": {
  "kernelspec": {
   "display_name": "Python 3 (ipykernel)",
   "language": "python",
   "name": "python3"
  },
  "language_info": {
   "codemirror_mode": {
    "name": "ipython",
    "version": 3
   },
   "file_extension": ".py",
   "mimetype": "text/x-python",
   "name": "python",
   "nbconvert_exporter": "python",
   "pygments_lexer": "ipython3",
   "version": "3.8.18"
  }
 },
 "nbformat": 4,
 "nbformat_minor": 5
}
