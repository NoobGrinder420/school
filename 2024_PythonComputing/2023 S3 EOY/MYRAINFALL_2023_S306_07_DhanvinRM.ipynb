{
 "cells": [
  {
   "cell_type": "code",
   "execution_count": 18,
   "id": "53350f51-9ceb-42b2-9ce8-8570932e0db8",
   "metadata": {},
   "outputs": [
    {
     "name": "stdout",
     "output_type": "stream",
     "text": [
      "The average rainfall for the month of September is 288.0.\n"
     ]
    }
   ],
   "source": [
    "# 2023 S3 EOY TASK 3 : RAINFALL\n",
    "# Save the file as MYRAINFALL_2023_<your class>_<index number>_<your name>.ipynb\n",
    "\n",
    "#total == neg_count = 0                      syntax error\n",
    "total = neg_count = 0 \n",
    "\n",
    "#month_values = {}                           logic error\n",
    "month_values = []\n",
    "\n",
    "filename = \"September.csv\"\n",
    "\n",
    "with open(filename, \"r\") as infile:\n",
    "    temp = infile.readline().split(\",\")          \n",
    "\n",
    "#while value in temp:                         syntax error\n",
    "\n",
    "for value in temp:\n",
    "    #month_values += int(value)               syntax error\n",
    "    month_values += [int(value)]\n",
    "\n",
    "#for x in range(month_values):                syntax error\n",
    "for x in range(len(month_values)):\n",
    "    if month_values[x] > 0:\n",
    "        #total += x                           logic error\n",
    "        total += month_values[x]\n",
    "    #except:                                  syntax error\n",
    "    else:\n",
    "        neg_count = neg_count + 1\n",
    "\n",
    "#avg_rainfall = total / len(month_values)      logic error\n",
    "avg_rainfall = total / (len(month_values) - neg_count)\n",
    "\n",
    "#print(\"The average rainfall for the month of {} is {}.\".format(avg_rainfall,filename[:-4]))    logic error\n",
    "print(\"The average rainfall for the month of {} is {}.\".format(filename[:-4], avg_rainfall))"
   ]
  },
  {
   "cell_type": "code",
   "execution_count": null,
   "id": "e04458e1-6896-46e7-b066-e116ef075bae",
   "metadata": {},
   "outputs": [],
   "source": []
  }
 ],
 "metadata": {
  "kernelspec": {
   "display_name": "Python 3 (ipykernel)",
   "language": "python",
   "name": "python3"
  },
  "language_info": {
   "codemirror_mode": {
    "name": "ipython",
    "version": 3
   },
   "file_extension": ".py",
   "mimetype": "text/x-python",
   "name": "python",
   "nbconvert_exporter": "python",
   "pygments_lexer": "ipython3",
   "version": "3.8.18"
  }
 },
 "nbformat": 4,
 "nbformat_minor": 5
}
